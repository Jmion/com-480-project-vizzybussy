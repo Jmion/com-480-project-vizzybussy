{
 "cells": [
  {
   "cell_type": "code",
   "execution_count": 13,
   "metadata": {},
   "outputs": [],
   "source": [
    "import pandas as pd\n",
    "import numpy as np\n",
    "import os\n",
    "from ast import literal_eval\n",
    "\n",
    "pd.options.mode.chained_assignment = None"
   ]
  },
  {
   "cell_type": "code",
   "execution_count": 14,
   "metadata": {},
   "outputs": [
    {
     "name": "stdout",
     "output_type": "stream",
     "text": [
      "[INFO] The dataset is correctly placed.\n"
     ]
    }
   ],
   "source": [
    "data_path = \"./data\"\n",
    "if os.listdir(data_path) != ['tmdb_5000_credits.csv', 'tmdb_5000_movies.csv']:\n",
    "    print(\"[ERROR] Please download and unzip the dataset in a subdirectory './data'.\")\n",
    "else:\n",
    "    print(\"[INFO] The dataset is correctly placed.\")"
   ]
  },
  {
   "cell_type": "markdown",
   "metadata": {},
   "source": [
    "### Loading the data"
   ]
  },
  {
   "cell_type": "code",
   "execution_count": 15,
   "metadata": {},
   "outputs": [
    {
     "data": {
      "text/html": [
       "<div>\n",
       "<style scoped>\n",
       "    .dataframe tbody tr th:only-of-type {\n",
       "        vertical-align: middle;\n",
       "    }\n",
       "\n",
       "    .dataframe tbody tr th {\n",
       "        vertical-align: top;\n",
       "    }\n",
       "\n",
       "    .dataframe thead th {\n",
       "        text-align: right;\n",
       "    }\n",
       "</style>\n",
       "<table border=\"1\" class=\"dataframe\">\n",
       "  <thead>\n",
       "    <tr style=\"text-align: right;\">\n",
       "      <th></th>\n",
       "      <th>movie_id</th>\n",
       "      <th>title</th>\n",
       "      <th>cast</th>\n",
       "      <th>crew</th>\n",
       "    </tr>\n",
       "  </thead>\n",
       "  <tbody>\n",
       "    <tr>\n",
       "      <td>0</td>\n",
       "      <td>19995</td>\n",
       "      <td>Avatar</td>\n",
       "      <td>[{\"cast_id\": 242, \"character\": \"Jake Sully\", \"...</td>\n",
       "      <td>[{\"credit_id\": \"52fe48009251416c750aca23\", \"de...</td>\n",
       "    </tr>\n",
       "    <tr>\n",
       "      <td>1</td>\n",
       "      <td>285</td>\n",
       "      <td>Pirates of the Caribbean: At World's End</td>\n",
       "      <td>[{\"cast_id\": 4, \"character\": \"Captain Jack Spa...</td>\n",
       "      <td>[{\"credit_id\": \"52fe4232c3a36847f800b579\", \"de...</td>\n",
       "    </tr>\n",
       "  </tbody>\n",
       "</table>\n",
       "</div>"
      ],
      "text/plain": [
       "   movie_id                                     title  \\\n",
       "0     19995                                    Avatar   \n",
       "1       285  Pirates of the Caribbean: At World's End   \n",
       "\n",
       "                                                cast  \\\n",
       "0  [{\"cast_id\": 242, \"character\": \"Jake Sully\", \"...   \n",
       "1  [{\"cast_id\": 4, \"character\": \"Captain Jack Spa...   \n",
       "\n",
       "                                                crew  \n",
       "0  [{\"credit_id\": \"52fe48009251416c750aca23\", \"de...  \n",
       "1  [{\"credit_id\": \"52fe4232c3a36847f800b579\", \"de...  "
      ]
     },
     "execution_count": 15,
     "metadata": {},
     "output_type": "execute_result"
    }
   ],
   "source": [
    "tmdb_credits = pd.read_csv(os.path.join(data_path, \"tmdb_5000_credits.csv\"))\n",
    "tmdb_credits.head(2)"
   ]
  },
  {
   "cell_type": "code",
   "execution_count": 16,
   "metadata": {
    "scrolled": true
   },
   "outputs": [
    {
     "data": {
      "text/html": [
       "<div>\n",
       "<style scoped>\n",
       "    .dataframe tbody tr th:only-of-type {\n",
       "        vertical-align: middle;\n",
       "    }\n",
       "\n",
       "    .dataframe tbody tr th {\n",
       "        vertical-align: top;\n",
       "    }\n",
       "\n",
       "    .dataframe thead th {\n",
       "        text-align: right;\n",
       "    }\n",
       "</style>\n",
       "<table border=\"1\" class=\"dataframe\">\n",
       "  <thead>\n",
       "    <tr style=\"text-align: right;\">\n",
       "      <th></th>\n",
       "      <th>budget</th>\n",
       "      <th>genres</th>\n",
       "      <th>homepage</th>\n",
       "      <th>id</th>\n",
       "      <th>keywords</th>\n",
       "      <th>original_language</th>\n",
       "      <th>original_title</th>\n",
       "      <th>overview</th>\n",
       "      <th>popularity</th>\n",
       "      <th>production_companies</th>\n",
       "      <th>production_countries</th>\n",
       "      <th>release_date</th>\n",
       "      <th>revenue</th>\n",
       "      <th>runtime</th>\n",
       "      <th>spoken_languages</th>\n",
       "      <th>status</th>\n",
       "      <th>tagline</th>\n",
       "      <th>title</th>\n",
       "      <th>vote_average</th>\n",
       "      <th>vote_count</th>\n",
       "    </tr>\n",
       "  </thead>\n",
       "  <tbody>\n",
       "    <tr>\n",
       "      <td>0</td>\n",
       "      <td>237000000</td>\n",
       "      <td>[{\"id\": 28, \"name\": \"Action\"}, {\"id\": 12, \"nam...</td>\n",
       "      <td>http://www.avatarmovie.com/</td>\n",
       "      <td>19995</td>\n",
       "      <td>[{\"id\": 1463, \"name\": \"culture clash\"}, {\"id\":...</td>\n",
       "      <td>en</td>\n",
       "      <td>Avatar</td>\n",
       "      <td>In the 22nd century, a paraplegic Marine is di...</td>\n",
       "      <td>150.437577</td>\n",
       "      <td>[{\"name\": \"Ingenious Film Partners\", \"id\": 289...</td>\n",
       "      <td>[{\"iso_3166_1\": \"US\", \"name\": \"United States o...</td>\n",
       "      <td>2009-12-10</td>\n",
       "      <td>2787965087</td>\n",
       "      <td>162.0</td>\n",
       "      <td>[{\"iso_639_1\": \"en\", \"name\": \"English\"}, {\"iso...</td>\n",
       "      <td>Released</td>\n",
       "      <td>Enter the World of Pandora.</td>\n",
       "      <td>Avatar</td>\n",
       "      <td>7.2</td>\n",
       "      <td>11800</td>\n",
       "    </tr>\n",
       "    <tr>\n",
       "      <td>1</td>\n",
       "      <td>300000000</td>\n",
       "      <td>[{\"id\": 12, \"name\": \"Adventure\"}, {\"id\": 14, \"...</td>\n",
       "      <td>http://disney.go.com/disneypictures/pirates/</td>\n",
       "      <td>285</td>\n",
       "      <td>[{\"id\": 270, \"name\": \"ocean\"}, {\"id\": 726, \"na...</td>\n",
       "      <td>en</td>\n",
       "      <td>Pirates of the Caribbean: At World's End</td>\n",
       "      <td>Captain Barbossa, long believed to be dead, ha...</td>\n",
       "      <td>139.082615</td>\n",
       "      <td>[{\"name\": \"Walt Disney Pictures\", \"id\": 2}, {\"...</td>\n",
       "      <td>[{\"iso_3166_1\": \"US\", \"name\": \"United States o...</td>\n",
       "      <td>2007-05-19</td>\n",
       "      <td>961000000</td>\n",
       "      <td>169.0</td>\n",
       "      <td>[{\"iso_639_1\": \"en\", \"name\": \"English\"}]</td>\n",
       "      <td>Released</td>\n",
       "      <td>At the end of the world, the adventure begins.</td>\n",
       "      <td>Pirates of the Caribbean: At World's End</td>\n",
       "      <td>6.9</td>\n",
       "      <td>4500</td>\n",
       "    </tr>\n",
       "  </tbody>\n",
       "</table>\n",
       "</div>"
      ],
      "text/plain": [
       "      budget                                             genres  \\\n",
       "0  237000000  [{\"id\": 28, \"name\": \"Action\"}, {\"id\": 12, \"nam...   \n",
       "1  300000000  [{\"id\": 12, \"name\": \"Adventure\"}, {\"id\": 14, \"...   \n",
       "\n",
       "                                       homepage     id  \\\n",
       "0                   http://www.avatarmovie.com/  19995   \n",
       "1  http://disney.go.com/disneypictures/pirates/    285   \n",
       "\n",
       "                                            keywords original_language  \\\n",
       "0  [{\"id\": 1463, \"name\": \"culture clash\"}, {\"id\":...                en   \n",
       "1  [{\"id\": 270, \"name\": \"ocean\"}, {\"id\": 726, \"na...                en   \n",
       "\n",
       "                             original_title  \\\n",
       "0                                    Avatar   \n",
       "1  Pirates of the Caribbean: At World's End   \n",
       "\n",
       "                                            overview  popularity  \\\n",
       "0  In the 22nd century, a paraplegic Marine is di...  150.437577   \n",
       "1  Captain Barbossa, long believed to be dead, ha...  139.082615   \n",
       "\n",
       "                                production_companies  \\\n",
       "0  [{\"name\": \"Ingenious Film Partners\", \"id\": 289...   \n",
       "1  [{\"name\": \"Walt Disney Pictures\", \"id\": 2}, {\"...   \n",
       "\n",
       "                                production_countries release_date     revenue  \\\n",
       "0  [{\"iso_3166_1\": \"US\", \"name\": \"United States o...   2009-12-10  2787965087   \n",
       "1  [{\"iso_3166_1\": \"US\", \"name\": \"United States o...   2007-05-19   961000000   \n",
       "\n",
       "   runtime                                   spoken_languages    status  \\\n",
       "0    162.0  [{\"iso_639_1\": \"en\", \"name\": \"English\"}, {\"iso...  Released   \n",
       "1    169.0           [{\"iso_639_1\": \"en\", \"name\": \"English\"}]  Released   \n",
       "\n",
       "                                          tagline  \\\n",
       "0                     Enter the World of Pandora.   \n",
       "1  At the end of the world, the adventure begins.   \n",
       "\n",
       "                                      title  vote_average  vote_count  \n",
       "0                                    Avatar           7.2       11800  \n",
       "1  Pirates of the Caribbean: At World's End           6.9        4500  "
      ]
     },
     "execution_count": 16,
     "metadata": {},
     "output_type": "execute_result"
    }
   ],
   "source": [
    "tmdb_movies = pd.read_csv(os.path.join(data_path, \"tmdb_5000_movies.csv\"))\n",
    "tmdb_movies.head(2)"
   ]
  },
  {
   "cell_type": "markdown",
   "metadata": {},
   "source": [
    "### Cleaning the datasets\n",
    "#### Cleaning tmdb credits"
   ]
  },
  {
   "cell_type": "code",
   "execution_count": 17,
   "metadata": {},
   "outputs": [
    {
     "data": {
      "text/plain": [
       "[{'gender': 2, 'id': 65731, 'name': 'Sam Worthington'},\n",
       " {'gender': 1, 'id': 8691, 'name': 'Zoe Saldana'},\n",
       " {'gender': 1, 'id': 10205, 'name': 'Sigourney Weaver'},\n",
       " {'gender': 2, 'id': 32747, 'name': 'Stephen Lang'},\n",
       " {'gender': 1, 'id': 17647, 'name': 'Michelle Rodriguez'}]"
      ]
     },
     "execution_count": 17,
     "metadata": {},
     "output_type": "execute_result"
    }
   ],
   "source": [
    "literal_eval(tmdb_credits.cast[0])\n",
    "\n",
    "def mapping_casts(list_casts, useful_keys = {\"id\", \"gender\", \"name\"}):\n",
    "    \"\"\"Mapping casts to keep useful information.\"\"\"\n",
    "    result = []\n",
    "    for cast in list_casts:\n",
    "        filtering = {k:v for k,v in cast.items() if k in useful_keys}\n",
    "        if len(filtering) == len(useful_keys):\n",
    "            result.append(filtering)\n",
    "    return result\n",
    "mapping_casts(literal_eval(tmdb_credits.cast[0]))[:5]"
   ]
  },
  {
   "cell_type": "code",
   "execution_count": 18,
   "metadata": {},
   "outputs": [
    {
     "data": {
      "text/plain": [
       "[{'gender': 2,\n",
       "  'id': 1729,\n",
       "  'job': 'Original Music Composer',\n",
       "  'name': 'James Horner'},\n",
       " {'gender': 2, 'id': 2710, 'job': 'Director', 'name': 'James Cameron'}]"
      ]
     },
     "execution_count": 18,
     "metadata": {},
     "output_type": "execute_result"
    }
   ],
   "source": [
    "L = literal_eval(tmdb_credits.crew[0])\n",
    "\n",
    "def mapping_crew(list_crew, useful_keys = {\"id\", \"job\", \"name\", \"gender\"}, keeping_jobs = {\"Original Music Composer\", \"Director\"}):\n",
    "    \"\"\"Mapping crew to keep useful information.\"\"\"\n",
    "    result = []\n",
    "    for person in list_crew:\n",
    "        filtering = {k:v for k,v in person.items() if (k in useful_keys and person[\"job\"] in keeping_jobs)}\n",
    "        if filtering != {} and len(filtering) == len(useful_keys):            \n",
    "            result.append(filtering)\n",
    "    return result\n",
    "\n",
    "mapping_crew(L)"
   ]
  },
  {
   "cell_type": "code",
   "execution_count": 19,
   "metadata": {},
   "outputs": [
    {
     "data": {
      "text/html": [
       "<div>\n",
       "<style scoped>\n",
       "    .dataframe tbody tr th:only-of-type {\n",
       "        vertical-align: middle;\n",
       "    }\n",
       "\n",
       "    .dataframe tbody tr th {\n",
       "        vertical-align: top;\n",
       "    }\n",
       "\n",
       "    .dataframe thead th {\n",
       "        text-align: right;\n",
       "    }\n",
       "</style>\n",
       "<table border=\"1\" class=\"dataframe\">\n",
       "  <thead>\n",
       "    <tr style=\"text-align: right;\">\n",
       "      <th></th>\n",
       "      <th>movie_id</th>\n",
       "      <th>title</th>\n",
       "      <th>cast</th>\n",
       "      <th>crew</th>\n",
       "    </tr>\n",
       "  </thead>\n",
       "  <tbody>\n",
       "    <tr>\n",
       "      <td>0</td>\n",
       "      <td>19995</td>\n",
       "      <td>Avatar</td>\n",
       "      <td>[{'gender': 2, 'id': 65731, 'name': 'Sam Worth...</td>\n",
       "      <td>[{'gender': 2, 'id': 1729, 'job': 'Original Mu...</td>\n",
       "    </tr>\n",
       "    <tr>\n",
       "      <td>1</td>\n",
       "      <td>285</td>\n",
       "      <td>Pirates of the Caribbean: At World's End</td>\n",
       "      <td>[{'gender': 2, 'id': 85, 'name': 'Johnny Depp'...</td>\n",
       "      <td>[{'gender': 2, 'id': 1704, 'job': 'Director', ...</td>\n",
       "    </tr>\n",
       "    <tr>\n",
       "      <td>2</td>\n",
       "      <td>206647</td>\n",
       "      <td>Spectre</td>\n",
       "      <td>[{'gender': 2, 'id': 8784, 'name': 'Daniel Cra...</td>\n",
       "      <td>[{'gender': 2, 'id': 153, 'job': 'Original Mus...</td>\n",
       "    </tr>\n",
       "    <tr>\n",
       "      <td>3</td>\n",
       "      <td>49026</td>\n",
       "      <td>The Dark Knight Rises</td>\n",
       "      <td>[{'gender': 2, 'id': 3894, 'name': 'Christian ...</td>\n",
       "      <td>[{'gender': 2, 'id': 947, 'job': 'Original Mus...</td>\n",
       "    </tr>\n",
       "    <tr>\n",
       "      <td>4</td>\n",
       "      <td>49529</td>\n",
       "      <td>John Carter</td>\n",
       "      <td>[{'gender': 2, 'id': 60900, 'name': 'Taylor Ki...</td>\n",
       "      <td>[{'gender': 2, 'id': 7, 'job': 'Director', 'na...</td>\n",
       "    </tr>\n",
       "  </tbody>\n",
       "</table>\n",
       "</div>"
      ],
      "text/plain": [
       "   movie_id                                     title  \\\n",
       "0     19995                                    Avatar   \n",
       "1       285  Pirates of the Caribbean: At World's End   \n",
       "2    206647                                   Spectre   \n",
       "3     49026                     The Dark Knight Rises   \n",
       "4     49529                               John Carter   \n",
       "\n",
       "                                                cast  \\\n",
       "0  [{'gender': 2, 'id': 65731, 'name': 'Sam Worth...   \n",
       "1  [{'gender': 2, 'id': 85, 'name': 'Johnny Depp'...   \n",
       "2  [{'gender': 2, 'id': 8784, 'name': 'Daniel Cra...   \n",
       "3  [{'gender': 2, 'id': 3894, 'name': 'Christian ...   \n",
       "4  [{'gender': 2, 'id': 60900, 'name': 'Taylor Ki...   \n",
       "\n",
       "                                                crew  \n",
       "0  [{'gender': 2, 'id': 1729, 'job': 'Original Mu...  \n",
       "1  [{'gender': 2, 'id': 1704, 'job': 'Director', ...  \n",
       "2  [{'gender': 2, 'id': 153, 'job': 'Original Mus...  \n",
       "3  [{'gender': 2, 'id': 947, 'job': 'Original Mus...  \n",
       "4  [{'gender': 2, 'id': 7, 'job': 'Director', 'na...  "
      ]
     },
     "execution_count": 19,
     "metadata": {},
     "output_type": "execute_result"
    }
   ],
   "source": [
    "tmdb_credits_clean = tmdb_credits.copy()\n",
    "tmdb_credits_clean['cast'] = tmdb_credits_clean['cast'].apply(lambda x: mapping_casts(literal_eval(x)))\n",
    "tmdb_credits_clean['crew'] = tmdb_credits_clean['crew'].apply(lambda x: mapping_crew(literal_eval(x)))\n",
    "tmdb_credits_clean.head()"
   ]
  },
  {
   "cell_type": "code",
   "execution_count": 20,
   "metadata": {},
   "outputs": [
    {
     "data": {
      "text/html": [
       "<div>\n",
       "<style scoped>\n",
       "    .dataframe tbody tr th:only-of-type {\n",
       "        vertical-align: middle;\n",
       "    }\n",
       "\n",
       "    .dataframe tbody tr th {\n",
       "        vertical-align: top;\n",
       "    }\n",
       "\n",
       "    .dataframe thead th {\n",
       "        text-align: right;\n",
       "    }\n",
       "</style>\n",
       "<table border=\"1\" class=\"dataframe\">\n",
       "  <thead>\n",
       "    <tr style=\"text-align: right;\">\n",
       "      <th></th>\n",
       "      <th>movie_id</th>\n",
       "      <th>title</th>\n",
       "      <th>gender</th>\n",
       "      <th>person_id</th>\n",
       "      <th>name</th>\n",
       "      <th>job</th>\n",
       "    </tr>\n",
       "  </thead>\n",
       "  <tbody>\n",
       "    <tr>\n",
       "      <td>0</td>\n",
       "      <td>19995</td>\n",
       "      <td>Avatar</td>\n",
       "      <td>2</td>\n",
       "      <td>65731</td>\n",
       "      <td>Sam Worthington</td>\n",
       "      <td>actor</td>\n",
       "    </tr>\n",
       "    <tr>\n",
       "      <td>0</td>\n",
       "      <td>19995</td>\n",
       "      <td>Avatar</td>\n",
       "      <td>1</td>\n",
       "      <td>8691</td>\n",
       "      <td>Zoe Saldana</td>\n",
       "      <td>actor</td>\n",
       "    </tr>\n",
       "    <tr>\n",
       "      <td>0</td>\n",
       "      <td>19995</td>\n",
       "      <td>Avatar</td>\n",
       "      <td>1</td>\n",
       "      <td>10205</td>\n",
       "      <td>Sigourney Weaver</td>\n",
       "      <td>actor</td>\n",
       "    </tr>\n",
       "    <tr>\n",
       "      <td>0</td>\n",
       "      <td>19995</td>\n",
       "      <td>Avatar</td>\n",
       "      <td>2</td>\n",
       "      <td>32747</td>\n",
       "      <td>Stephen Lang</td>\n",
       "      <td>actor</td>\n",
       "    </tr>\n",
       "    <tr>\n",
       "      <td>0</td>\n",
       "      <td>19995</td>\n",
       "      <td>Avatar</td>\n",
       "      <td>1</td>\n",
       "      <td>17647</td>\n",
       "      <td>Michelle Rodriguez</td>\n",
       "      <td>actor</td>\n",
       "    </tr>\n",
       "  </tbody>\n",
       "</table>\n",
       "</div>"
      ],
      "text/plain": [
       "   movie_id   title gender person_id                name    job\n",
       "0     19995  Avatar      2     65731     Sam Worthington  actor\n",
       "0     19995  Avatar      1      8691         Zoe Saldana  actor\n",
       "0     19995  Avatar      1     10205    Sigourney Weaver  actor\n",
       "0     19995  Avatar      2     32747        Stephen Lang  actor\n",
       "0     19995  Avatar      1     17647  Michelle Rodriguez  actor"
      ]
     },
     "execution_count": 20,
     "metadata": {},
     "output_type": "execute_result"
    }
   ],
   "source": [
    "tmdb_credits_clean_cast = tmdb_credits_clean[[\"movie_id\", \"title\", \"cast\"]].explode(\"cast\")\n",
    "\n",
    "def get_gender(cast):\n",
    "    splitted = str(cast).split()\n",
    "    if len(splitted)>1:\n",
    "        return splitted[1][0]\n",
    "    else:\n",
    "        -1\n",
    "        \n",
    "def get_id(cast):\n",
    "    splitted = str(cast).split()\n",
    "    if len(splitted)>1:\n",
    "        return splitted[3].replace(\",\", \"\")\n",
    "    else:\n",
    "        -1\n",
    "        \n",
    "def get_name(cast):\n",
    "    splitted = str(cast).split(\", \")\n",
    "    if len(splitted)>1:\n",
    "        return splitted[2].replace(\"'\", \"\").replace(\",\", \"\").replace(\"name: \", \"\").replace(\"}\", \"\")\n",
    "    else:\n",
    "        -1\n",
    "\n",
    "tmdb_credits_clean_cast['gender'] = tmdb_credits_clean_cast.cast.apply(get_gender)\n",
    "tmdb_credits_clean_cast = tmdb_credits_clean_cast[tmdb_credits_clean_cast.gender != -1]\n",
    "\n",
    "tmdb_credits_clean_cast['person_id'] = tmdb_credits_clean_cast.cast.apply(get_id)\n",
    "tmdb_credits_clean_cast = tmdb_credits_clean_cast[tmdb_credits_clean_cast.person_id != -1]\n",
    "\n",
    "tmdb_credits_clean_cast['name'] = tmdb_credits_clean_cast.cast.apply(get_name)\n",
    "tmdb_credits_clean_cast = tmdb_credits_clean_cast[tmdb_credits_clean_cast.name != -1]\n",
    "\n",
    "tmdb_credits_clean_cast['job'] = \"actor\"\n",
    "tmdb_credits_clean_cast.drop(columns=['cast'], inplace=True)\n",
    "tmdb_credits_clean_cast.head()"
   ]
  },
  {
   "cell_type": "code",
   "execution_count": 21,
   "metadata": {},
   "outputs": [
    {
     "data": {
      "text/html": [
       "<div>\n",
       "<style scoped>\n",
       "    .dataframe tbody tr th:only-of-type {\n",
       "        vertical-align: middle;\n",
       "    }\n",
       "\n",
       "    .dataframe tbody tr th {\n",
       "        vertical-align: top;\n",
       "    }\n",
       "\n",
       "    .dataframe thead th {\n",
       "        text-align: right;\n",
       "    }\n",
       "</style>\n",
       "<table border=\"1\" class=\"dataframe\">\n",
       "  <thead>\n",
       "    <tr style=\"text-align: right;\">\n",
       "      <th></th>\n",
       "      <th>movie_id</th>\n",
       "      <th>title</th>\n",
       "      <th>gender</th>\n",
       "      <th>person_id</th>\n",
       "      <th>name</th>\n",
       "      <th>job</th>\n",
       "    </tr>\n",
       "  </thead>\n",
       "  <tbody>\n",
       "    <tr>\n",
       "      <td>0</td>\n",
       "      <td>19995</td>\n",
       "      <td>Avatar</td>\n",
       "      <td>2</td>\n",
       "      <td>1729</td>\n",
       "      <td>James Horner</td>\n",
       "      <td>Original Music Composer</td>\n",
       "    </tr>\n",
       "    <tr>\n",
       "      <td>0</td>\n",
       "      <td>19995</td>\n",
       "      <td>Avatar</td>\n",
       "      <td>2</td>\n",
       "      <td>2710</td>\n",
       "      <td>James Cameron</td>\n",
       "      <td>Director</td>\n",
       "    </tr>\n",
       "    <tr>\n",
       "      <td>1</td>\n",
       "      <td>285</td>\n",
       "      <td>Pirates of the Caribbean: At World's End</td>\n",
       "      <td>2</td>\n",
       "      <td>1704</td>\n",
       "      <td>Gore Verbinski</td>\n",
       "      <td>Director</td>\n",
       "    </tr>\n",
       "    <tr>\n",
       "      <td>1</td>\n",
       "      <td>285</td>\n",
       "      <td>Pirates of the Caribbean: At World's End</td>\n",
       "      <td>2</td>\n",
       "      <td>947</td>\n",
       "      <td>Hans Zimmer</td>\n",
       "      <td>Original Music Composer</td>\n",
       "    </tr>\n",
       "    <tr>\n",
       "      <td>2</td>\n",
       "      <td>206647</td>\n",
       "      <td>Spectre</td>\n",
       "      <td>2</td>\n",
       "      <td>153</td>\n",
       "      <td>Thomas Newman</td>\n",
       "      <td>Original Music Composer</td>\n",
       "    </tr>\n",
       "  </tbody>\n",
       "</table>\n",
       "</div>"
      ],
      "text/plain": [
       "   movie_id                                     title gender person_id  \\\n",
       "0     19995                                    Avatar      2      1729   \n",
       "0     19995                                    Avatar      2      2710   \n",
       "1       285  Pirates of the Caribbean: At World's End      2      1704   \n",
       "1       285  Pirates of the Caribbean: At World's End      2       947   \n",
       "2    206647                                   Spectre      2       153   \n",
       "\n",
       "             name                      job  \n",
       "0    James Horner  Original Music Composer  \n",
       "0   James Cameron                 Director  \n",
       "1  Gore Verbinski                 Director  \n",
       "1     Hans Zimmer  Original Music Composer  \n",
       "2   Thomas Newman  Original Music Composer  "
      ]
     },
     "execution_count": 21,
     "metadata": {},
     "output_type": "execute_result"
    }
   ],
   "source": [
    "tmdb_credits_clean_crew = tmdb_credits_clean[[\"movie_id\", \"title\", \"crew\"]].explode(\"crew\")\n",
    "\n",
    "        \n",
    "def get_name_crew(crew):\n",
    "    splitted = str(crew).split(': ')\n",
    "    if len(splitted)>1:\n",
    "        return splitted[4].replace(\",\", \"\").replace(\"'\", \"\").replace(\"}\", \"\")\n",
    "    else:\n",
    "        -1\n",
    "        \n",
    "def get_job(crew):\n",
    "    splitted = str(crew).split(\" '\")\n",
    "    if len(splitted)>1:\n",
    "        return splitted[3].replace(\"'\", \"\").replace(\",\", \"\")\n",
    "    else:\n",
    "        -1\n",
    "    \n",
    "\n",
    "\n",
    "\n",
    "tmdb_credits_clean_crew['gender'] = tmdb_credits_clean_crew.crew.apply(get_gender)\n",
    "tmdb_credits_clean_crew = tmdb_credits_clean_crew[tmdb_credits_clean_crew.gender != -1]\n",
    "\n",
    "tmdb_credits_clean_crew['person_id'] = tmdb_credits_clean_crew.crew.apply(get_id)\n",
    "tmdb_credits_clean_crew = tmdb_credits_clean_crew[tmdb_credits_clean_crew.person_id != -1]\n",
    "\n",
    "tmdb_credits_clean_crew['name'] = tmdb_credits_clean_crew.crew.apply(get_name_crew)\n",
    "tmdb_credits_clean_crew = tmdb_credits_clean_crew[tmdb_credits_clean_crew.name != -1]\n",
    "\n",
    "tmdb_credits_clean_crew['job'] = tmdb_credits_clean_crew.crew.apply(get_job)\n",
    "tmdb_credits_clean_crew = tmdb_credits_clean_crew[tmdb_credits_clean_crew.job != -1]\n",
    "tmdb_credits_clean_crew.drop(columns=['crew'], inplace=True)\n",
    "tmdb_credits_clean_crew.head()"
   ]
  },
  {
   "cell_type": "markdown",
   "metadata": {},
   "source": [
    "### Some statistics about the dataset"
   ]
  },
  {
   "cell_type": "code",
   "execution_count": 34,
   "metadata": {},
   "outputs": [
    {
     "data": {
      "text/plain": [
       "budget                  4803\n",
       "genres                  4803\n",
       "homepage                1712\n",
       "id                      4803\n",
       "keywords                4803\n",
       "original_language       4803\n",
       "original_title          4803\n",
       "overview                4800\n",
       "popularity              4803\n",
       "production_companies    4803\n",
       "production_countries    4803\n",
       "release_date            4802\n",
       "revenue                 4803\n",
       "runtime                 4801\n",
       "spoken_languages        4803\n",
       "status                  4803\n",
       "tagline                 3959\n",
       "title                   4803\n",
       "vote_average            4803\n",
       "vote_count              4803\n",
       "dtype: int64"
      ]
     },
     "execution_count": 34,
     "metadata": {},
     "output_type": "execute_result"
    }
   ],
   "source": [
    "tmdb_movies.count()"
   ]
  },
  {
   "cell_type": "markdown",
   "metadata": {},
   "source": [
    "We have some missing values but not that much for important columns.\n",
    "We have 4803 movies in total."
   ]
  },
  {
   "cell_type": "code",
   "execution_count": 37,
   "metadata": {},
   "outputs": [
    {
     "data": {
      "text/plain": [
       "54196"
      ]
     },
     "execution_count": 37,
     "metadata": {},
     "output_type": "execute_result"
    }
   ],
   "source": [
    "tmdb_credits_clean_cast['name'].drop_duplicates().count()"
   ]
  },
  {
   "cell_type": "markdown",
   "metadata": {},
   "source": [
    "There are 54196 different actors in total in the dataset, and this high number will be useful to plot networks of actors."
   ]
  },
  {
   "cell_type": "markdown",
   "metadata": {},
   "source": [
    "## Getting some datasets to further visualization"
   ]
  },
  {
   "cell_type": "markdown",
   "metadata": {},
   "source": [
    "#### Movie/year"
   ]
  },
  {
   "cell_type": "code",
   "execution_count": 24,
   "metadata": {
    "scrolled": true
   },
   "outputs": [
    {
     "data": {
      "image/png": "[encoded data removed]",
      "text/plain": [
       "<Figure size 1440x360 with 1 Axes>"
      ]
     },
     "metadata": {
      "needs_background": "light"
     },
     "output_type": "display_data"
    }
   ],
   "source": [
    "import matplotlib.pyplot as plt\n",
    "plt.rcParams['figure.figsize'] = [20, 5]\n",
    "\n",
    "movie_per_year = tmdb_movies[['original_title', 'release_date']].dropna()\n",
    "movie_per_year['release_date'] = movie_per_year['release_date'].apply(lambda x: int(str(x).split(\"-\")[0])).astype(\"int64\")\n",
    "#movie_per_year = movie_per_year[movie_per_year.release_date < 2017]\n",
    "movie_per_year['release_date'].value_counts(sort=False, ascending=True).sort_index().plot(kind='bar')\n",
    "plt.xlabel(\"Year\")\n",
    "plt.ylabel(\"Number movies\")\n",
    "plt.show()"
   ]
  },
  {
   "cell_type": "markdown",
   "metadata": {},
   "source": [
    "We seem to have a lot of missing values since 2016 and we could work with the previous years if necessary.\n",
    "The dataset covers films from 1916 until 2015."
   ]
  },
  {
   "cell_type": "markdown",
   "metadata": {},
   "source": [
    "#### Budget/profit"
   ]
  },
  {
   "cell_type": "code",
   "execution_count": 32,
   "metadata": {
    "scrolled": false
   },
   "outputs": [
    {
     "data": {
      "image/png": "[encoded data removed]",
      "text/plain": [
       "<Figure size 1440x720 with 1 Axes>"
      ]
     },
     "metadata": {
      "needs_background": "light"
     },
     "output_type": "display_data"
    }
   ],
   "source": [
    "plt.rcParams['figure.figsize'] = [20, 10]\n",
    "budget_profit = tmdb_movies[['budget', 'revenue']]\n",
    "budget_profit['profit'] = budget_profit['revenue'] - budget_profit['budget']\n",
    "budget_profit.plot.scatter(x='budget',\n",
    "                      y='profit',\n",
    "                      c='DarkBlue')\n",
    "plt.xlabel(\"Budget\")\n",
    "plt.ylabel(\"Profit\")\n",
    "plt.title(\"Profit against budget for the movies\")\n",
    "\n",
    "plt.show()"
   ]
  },
  {
   "cell_type": "markdown",
   "metadata": {},
   "source": [
    "We see that high budget doesn't always mean high profit."
   ]
  },
  {
   "cell_type": "markdown",
   "metadata": {},
   "source": [
    "#### Num_movies/genre"
   ]
  },
  {
   "cell_type": "code",
   "execution_count": 31,
   "metadata": {},
   "outputs": [
    {
     "data": {
      "image/png": "[encoded data removed]",
      "text/plain": [
       "<Figure size 1440x360 with 1 Axes>"
      ]
     },
     "metadata": {
      "needs_background": "light"
     },
     "output_type": "display_data"
    }
   ],
   "source": [
    "import numpy as np\n",
    "\n",
    "def parse_genres(genres):\n",
    "    L=[]\n",
    "    for genre in genres:\n",
    "        L.append(genre['name'])\n",
    "    if len(L) == 0:\n",
    "        return np.nan\n",
    "    return L\n",
    "\n",
    "movie_genres = tmdb_movies[[\"id\", \"genres\"]]\n",
    "movie_genres[\"genres\"] = movie_genres.genres.apply(lambda x: parse_genres(literal_eval(x)))\n",
    "movie_genres = movie_genres.dropna().explode(\"genres\")\n",
    "movie_genres['genres'].value_counts(sort=False, ascending=True).sort_index().plot(kind='bar')\n",
    "plt.xlabel(\"Genre\")\n",
    "plt.ylabel(\"Number movies\")\n",
    "plt.title(\"Plotting the number of movies per genre in TMDB dataset\")\n",
    "plt.show()\n"
   ]
  },
  {
   "cell_type": "markdown",
   "metadata": {},
   "source": [
    "Drama, comedy, action and thriller are the most common genres to be found in films."
   ]
  },
  {
   "cell_type": "code",
   "execution_count": null,
   "metadata": {},
   "outputs": [],
   "source": []
  }
 ],
 "metadata": {
  "kernelspec": {
   "display_name": "Python 3",
   "language": "python",
   "name": "python3"
  },
  "language_info": {
   "codemirror_mode": {
    "name": "ipython",
    "version": 3
   },
   "file_extension": ".py",
   "mimetype": "text/x-python",
   "name": "python",
   "nbconvert_exporter": "python",
   "pygments_lexer": "ipython3",
   "version": "3.7.4"
  }
 },
 "nbformat": 4,
 "nbformat_minor": 2
}
