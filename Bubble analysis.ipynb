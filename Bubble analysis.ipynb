{
 "cells": [
  {
   "cell_type": "code",
   "execution_count": 161,
   "metadata": {},
   "outputs": [
    {
     "name": "stdout",
     "output_type": "stream",
     "text": [
      "[INFO] The dataset is correctly placed.\n"
     ]
    },
    {
     "data": {
      "text/html": [
       "<div>\n",
       "<style scoped>\n",
       "    .dataframe tbody tr th:only-of-type {\n",
       "        vertical-align: middle;\n",
       "    }\n",
       "\n",
       "    .dataframe tbody tr th {\n",
       "        vertical-align: top;\n",
       "    }\n",
       "\n",
       "    .dataframe thead th {\n",
       "        text-align: right;\n",
       "    }\n",
       "</style>\n",
       "<table border=\"1\" class=\"dataframe\">\n",
       "  <thead>\n",
       "    <tr style=\"text-align: right;\">\n",
       "      <th></th>\n",
       "      <th>movie_id</th>\n",
       "      <th>title</th>\n",
       "      <th>gender</th>\n",
       "      <th>person_id</th>\n",
       "      <th>name</th>\n",
       "      <th>job</th>\n",
       "    </tr>\n",
       "  </thead>\n",
       "  <tbody>\n",
       "    <tr>\n",
       "      <th>0</th>\n",
       "      <td>19995</td>\n",
       "      <td>Avatar</td>\n",
       "      <td>2</td>\n",
       "      <td>1729</td>\n",
       "      <td>James Horner</td>\n",
       "      <td>Original Music Composer</td>\n",
       "    </tr>\n",
       "    <tr>\n",
       "      <th>0</th>\n",
       "      <td>19995</td>\n",
       "      <td>Avatar</td>\n",
       "      <td>2</td>\n",
       "      <td>2710</td>\n",
       "      <td>James Cameron</td>\n",
       "      <td>Director</td>\n",
       "    </tr>\n",
       "    <tr>\n",
       "      <th>1</th>\n",
       "      <td>285</td>\n",
       "      <td>Pirates of the Caribbean: At World's End</td>\n",
       "      <td>2</td>\n",
       "      <td>1704</td>\n",
       "      <td>Gore Verbinski</td>\n",
       "      <td>Director</td>\n",
       "    </tr>\n",
       "    <tr>\n",
       "      <th>1</th>\n",
       "      <td>285</td>\n",
       "      <td>Pirates of the Caribbean: At World's End</td>\n",
       "      <td>2</td>\n",
       "      <td>947</td>\n",
       "      <td>Hans Zimmer</td>\n",
       "      <td>Original Music Composer</td>\n",
       "    </tr>\n",
       "    <tr>\n",
       "      <th>2</th>\n",
       "      <td>206647</td>\n",
       "      <td>Spectre</td>\n",
       "      <td>2</td>\n",
       "      <td>153</td>\n",
       "      <td>Thomas Newman</td>\n",
       "      <td>Original Music Composer</td>\n",
       "    </tr>\n",
       "  </tbody>\n",
       "</table>\n",
       "</div>"
      ],
      "text/plain": [
       "   movie_id                                     title gender person_id  \\\n",
       "0     19995                                    Avatar      2      1729   \n",
       "0     19995                                    Avatar      2      2710   \n",
       "1       285  Pirates of the Caribbean: At World's End      2      1704   \n",
       "1       285  Pirates of the Caribbean: At World's End      2       947   \n",
       "2    206647                                   Spectre      2       153   \n",
       "\n",
       "             name                      job  \n",
       "0    James Horner  Original Music Composer  \n",
       "0   James Cameron                 Director  \n",
       "1  Gore Verbinski                 Director  \n",
       "1     Hans Zimmer  Original Music Composer  \n",
       "2   Thomas Newman  Original Music Composer  "
      ]
     },
     "execution_count": 161,
     "metadata": {},
     "output_type": "execute_result"
    }
   ],
   "source": [
    "#!/usr/bin/env python\n",
    "# coding: utf-8\n",
    "\n",
    "# In[13]:\n",
    "\n",
    "\n",
    "import pandas as pd\n",
    "import numpy as np\n",
    "import os\n",
    "from ast import literal_eval\n",
    "\n",
    "pd.options.mode.chained_assignment = None\n",
    "\n",
    "\n",
    "# In[14]:\n",
    "\n",
    "\n",
    "data_path = \"./data\"\n",
    "if os.listdir(data_path) != ['tmdb_5000_credits.csv', 'tmdb_5000_movies.csv']:\n",
    "    print(\"[ERROR] Please download and unzip the dataset in a subdirectory './data'.\")\n",
    "else:\n",
    "    print(\"[INFO] The dataset is correctly placed.\")\n",
    "\n",
    "\n",
    "# ### Loading the data\n",
    "\n",
    "# In[15]:\n",
    "\n",
    "\n",
    "tmdb_credits = pd.read_csv(os.path.join(data_path, \"tmdb_5000_credits.csv\"))\n",
    "tmdb_credits.head(2)\n",
    "\n",
    "\n",
    "# In[16]:\n",
    "\n",
    "\n",
    "tmdb_movies = pd.read_csv(os.path.join(data_path, \"tmdb_5000_movies.csv\"))\n",
    "tmdb_movies.head(2)\n",
    "\n",
    "\n",
    "# ### Cleaning the datasets\n",
    "# #### Cleaning tmdb credits\n",
    "\n",
    "# In[17]:\n",
    "\n",
    "\n",
    "literal_eval(tmdb_credits.cast[0])\n",
    "\n",
    "def mapping_casts(list_casts, useful_keys = {\"id\", \"gender\", \"name\"}):\n",
    "    \"\"\"Mapping casts to keep useful information.\"\"\"\n",
    "    result = []\n",
    "    for cast in list_casts:\n",
    "        filtering = {k:v for k,v in cast.items() if k in useful_keys}\n",
    "        if len(filtering) == len(useful_keys):\n",
    "            result.append(filtering)\n",
    "    return result\n",
    "mapping_casts(literal_eval(tmdb_credits.cast[0]))[:5]\n",
    "\n",
    "\n",
    "# In[18]:\n",
    "\n",
    "\n",
    "L = literal_eval(tmdb_credits.crew[0])\n",
    "\n",
    "def mapping_crew(list_crew, useful_keys = {\"id\", \"job\", \"name\", \"gender\"}, keeping_jobs = {\"Original Music Composer\", \"Director\"}):\n",
    "    \"\"\"Mapping crew to keep useful information.\"\"\"\n",
    "    result = []\n",
    "    for person in list_crew:\n",
    "        filtering = {k:v for k,v in person.items() if (k in useful_keys and person[\"job\"] in keeping_jobs)}\n",
    "        if filtering != {} and len(filtering) == len(useful_keys):            \n",
    "            result.append(filtering)\n",
    "    return result\n",
    "\n",
    "mapping_crew(L)\n",
    "\n",
    "\n",
    "# In[19]:\n",
    "\n",
    "\n",
    "tmdb_credits_clean = tmdb_credits.copy()\n",
    "tmdb_credits_clean['cast'] = tmdb_credits_clean['cast'].apply(lambda x: mapping_casts(literal_eval(x)))\n",
    "tmdb_credits_clean['crew'] = tmdb_credits_clean['crew'].apply(lambda x: mapping_crew(literal_eval(x)))\n",
    "tmdb_credits_clean.head()\n",
    "\n",
    "\n",
    "# In[20]:\n",
    "\n",
    "\n",
    "tmdb_credits_clean_cast = tmdb_credits_clean[[\"movie_id\", \"title\", \"cast\"]].explode(\"cast\")\n",
    "\n",
    "def get_gender(cast):\n",
    "    splitted = str(cast).split()\n",
    "    if len(splitted)>1:\n",
    "        return splitted[1][0]\n",
    "    else:\n",
    "        -1\n",
    "        \n",
    "def get_id(cast):\n",
    "    splitted = str(cast).split()\n",
    "    if len(splitted)>1:\n",
    "        return splitted[3].replace(\",\", \"\")\n",
    "    else:\n",
    "        -1\n",
    "        \n",
    "def get_name(cast):\n",
    "    splitted = str(cast).split(\", \")\n",
    "    if len(splitted)>1:\n",
    "        return splitted[2].replace(\"'\", \"\").replace(\",\", \"\").replace(\"name: \", \"\").replace(\"}\", \"\")\n",
    "    else:\n",
    "        -1\n",
    "\n",
    "tmdb_credits_clean_cast['gender'] = tmdb_credits_clean_cast.cast.apply(get_gender)\n",
    "tmdb_credits_clean_cast = tmdb_credits_clean_cast[tmdb_credits_clean_cast.gender != -1]\n",
    "\n",
    "tmdb_credits_clean_cast['person_id'] = tmdb_credits_clean_cast.cast.apply(get_id)\n",
    "tmdb_credits_clean_cast = tmdb_credits_clean_cast[tmdb_credits_clean_cast.person_id != -1]\n",
    "\n",
    "tmdb_credits_clean_cast['name'] = tmdb_credits_clean_cast.cast.apply(get_name)\n",
    "tmdb_credits_clean_cast = tmdb_credits_clean_cast[tmdb_credits_clean_cast.name != -1]\n",
    "\n",
    "tmdb_credits_clean_cast['job'] = \"actor\"\n",
    "tmdb_credits_clean_cast.drop(columns=['cast'], inplace=True)\n",
    "tmdb_credits_clean_cast.head()\n",
    "\n",
    "\n",
    "# In[21]:\n",
    "\n",
    "\n",
    "tmdb_credits_clean_crew = tmdb_credits_clean[[\"movie_id\", \"title\", \"crew\"]].explode(\"crew\")\n",
    "\n",
    "        \n",
    "def get_name_crew(crew):\n",
    "    splitted = str(crew).split(': ')\n",
    "    if len(splitted)>1:\n",
    "        return splitted[4].replace(\",\", \"\").replace(\"'\", \"\").replace(\"}\", \"\")\n",
    "    else:\n",
    "        -1\n",
    "        \n",
    "def get_job(crew):\n",
    "    splitted = str(crew).split(\" '\")\n",
    "    if len(splitted)>1:\n",
    "        return splitted[3].replace(\"'\", \"\").replace(\",\", \"\")\n",
    "    else:\n",
    "        -1\n",
    "    \n",
    "\n",
    "\n",
    "\n",
    "tmdb_credits_clean_crew['gender'] = tmdb_credits_clean_crew.crew.apply(get_gender)\n",
    "tmdb_credits_clean_crew = tmdb_credits_clean_crew[tmdb_credits_clean_crew.gender != -1]\n",
    "\n",
    "tmdb_credits_clean_crew['person_id'] = tmdb_credits_clean_crew.crew.apply(get_id)\n",
    "tmdb_credits_clean_crew = tmdb_credits_clean_crew[tmdb_credits_clean_crew.person_id != -1]\n",
    "\n",
    "tmdb_credits_clean_crew['name'] = tmdb_credits_clean_crew.crew.apply(get_name_crew)\n",
    "tmdb_credits_clean_crew = tmdb_credits_clean_crew[tmdb_credits_clean_crew.name != -1]\n",
    "\n",
    "tmdb_credits_clean_crew['job'] = tmdb_credits_clean_crew.crew.apply(get_job)\n",
    "tmdb_credits_clean_crew = tmdb_credits_clean_crew[tmdb_credits_clean_crew.job != -1]\n",
    "tmdb_credits_clean_crew.drop(columns=['crew'], inplace=True)\n",
    "tmdb_credits_clean_crew.head()\n"
   ]
  },
  {
   "cell_type": "code",
   "execution_count": 162,
   "metadata": {},
   "outputs": [
    {
     "data": {
      "text/html": [
       "<div>\n",
       "<style scoped>\n",
       "    .dataframe tbody tr th:only-of-type {\n",
       "        vertical-align: middle;\n",
       "    }\n",
       "\n",
       "    .dataframe tbody tr th {\n",
       "        vertical-align: top;\n",
       "    }\n",
       "\n",
       "    .dataframe thead th {\n",
       "        text-align: right;\n",
       "    }\n",
       "</style>\n",
       "<table border=\"1\" class=\"dataframe\">\n",
       "  <thead>\n",
       "    <tr style=\"text-align: right;\">\n",
       "      <th></th>\n",
       "      <th>movie_id</th>\n",
       "      <th>title</th>\n",
       "      <th>gender</th>\n",
       "      <th>person_id</th>\n",
       "      <th>name</th>\n",
       "      <th>job</th>\n",
       "    </tr>\n",
       "  </thead>\n",
       "  <tbody>\n",
       "    <tr>\n",
       "      <th>0</th>\n",
       "      <td>19995</td>\n",
       "      <td>Avatar</td>\n",
       "      <td>2</td>\n",
       "      <td>65731</td>\n",
       "      <td>Sam Worthington</td>\n",
       "      <td>actor</td>\n",
       "    </tr>\n",
       "    <tr>\n",
       "      <th>0</th>\n",
       "      <td>19995</td>\n",
       "      <td>Avatar</td>\n",
       "      <td>1</td>\n",
       "      <td>8691</td>\n",
       "      <td>Zoe Saldana</td>\n",
       "      <td>actor</td>\n",
       "    </tr>\n",
       "    <tr>\n",
       "      <th>0</th>\n",
       "      <td>19995</td>\n",
       "      <td>Avatar</td>\n",
       "      <td>1</td>\n",
       "      <td>10205</td>\n",
       "      <td>Sigourney Weaver</td>\n",
       "      <td>actor</td>\n",
       "    </tr>\n",
       "    <tr>\n",
       "      <th>0</th>\n",
       "      <td>19995</td>\n",
       "      <td>Avatar</td>\n",
       "      <td>2</td>\n",
       "      <td>32747</td>\n",
       "      <td>Stephen Lang</td>\n",
       "      <td>actor</td>\n",
       "    </tr>\n",
       "    <tr>\n",
       "      <th>0</th>\n",
       "      <td>19995</td>\n",
       "      <td>Avatar</td>\n",
       "      <td>1</td>\n",
       "      <td>17647</td>\n",
       "      <td>Michelle Rodriguez</td>\n",
       "      <td>actor</td>\n",
       "    </tr>\n",
       "    <tr>\n",
       "      <th>...</th>\n",
       "      <td>...</td>\n",
       "      <td>...</td>\n",
       "      <td>...</td>\n",
       "      <td>...</td>\n",
       "      <td>...</td>\n",
       "      <td>...</td>\n",
       "    </tr>\n",
       "    <tr>\n",
       "      <th>4802</th>\n",
       "      <td>25975</td>\n",
       "      <td>My Date with Drew</td>\n",
       "      <td>2</td>\n",
       "      <td>21315</td>\n",
       "      <td>Eric Roberts</td>\n",
       "      <td>actor</td>\n",
       "    </tr>\n",
       "    <tr>\n",
       "      <th>4802</th>\n",
       "      <td>25975</td>\n",
       "      <td>My Date with Drew</td>\n",
       "      <td>0</td>\n",
       "      <td>2171</td>\n",
       "      <td>Griffin Dunne</td>\n",
       "      <td>actor</td>\n",
       "    </tr>\n",
       "    <tr>\n",
       "      <th>4802</th>\n",
       "      <td>25975</td>\n",
       "      <td>My Date with Drew</td>\n",
       "      <td>2</td>\n",
       "      <td>2231</td>\n",
       "      <td>Samuel L. Jackson</td>\n",
       "      <td>actor</td>\n",
       "    </tr>\n",
       "    <tr>\n",
       "      <th>4802</th>\n",
       "      <td>25975</td>\n",
       "      <td>My Date with Drew</td>\n",
       "      <td>2</td>\n",
       "      <td>14407</td>\n",
       "      <td>Matt LeBlanc</td>\n",
       "      <td>actor</td>\n",
       "    </tr>\n",
       "    <tr>\n",
       "      <th>4802</th>\n",
       "      <td>25975</td>\n",
       "      <td>My Date with Drew</td>\n",
       "      <td>2</td>\n",
       "      <td>155007</td>\n",
       "      <td>\"Bill DElia\"</td>\n",
       "      <td>actor</td>\n",
       "    </tr>\n",
       "  </tbody>\n",
       "</table>\n",
       "<p>106300 rows × 6 columns</p>\n",
       "</div>"
      ],
      "text/plain": [
       "      movie_id              title gender person_id                name    job\n",
       "0        19995             Avatar      2     65731     Sam Worthington  actor\n",
       "0        19995             Avatar      1      8691         Zoe Saldana  actor\n",
       "0        19995             Avatar      1     10205    Sigourney Weaver  actor\n",
       "0        19995             Avatar      2     32747        Stephen Lang  actor\n",
       "0        19995             Avatar      1     17647  Michelle Rodriguez  actor\n",
       "...        ...                ...    ...       ...                 ...    ...\n",
       "4802     25975  My Date with Drew      2     21315        Eric Roberts  actor\n",
       "4802     25975  My Date with Drew      0      2171       Griffin Dunne  actor\n",
       "4802     25975  My Date with Drew      2      2231   Samuel L. Jackson  actor\n",
       "4802     25975  My Date with Drew      2     14407        Matt LeBlanc  actor\n",
       "4802     25975  My Date with Drew      2    155007        \"Bill DElia\"  actor\n",
       "\n",
       "[106300 rows x 6 columns]"
      ]
     },
     "execution_count": 162,
     "metadata": {},
     "output_type": "execute_result"
    }
   ],
   "source": [
    "tmdb_credits_clean_cast"
   ]
  },
  {
   "cell_type": "code",
   "execution_count": 163,
   "metadata": {},
   "outputs": [
    {
     "data": {
      "text/html": [
       "<div>\n",
       "<style scoped>\n",
       "    .dataframe tbody tr th:only-of-type {\n",
       "        vertical-align: middle;\n",
       "    }\n",
       "\n",
       "    .dataframe tbody tr th {\n",
       "        vertical-align: top;\n",
       "    }\n",
       "\n",
       "    .dataframe thead th {\n",
       "        text-align: right;\n",
       "    }\n",
       "</style>\n",
       "<table border=\"1\" class=\"dataframe\">\n",
       "  <thead>\n",
       "    <tr style=\"text-align: right;\">\n",
       "      <th></th>\n",
       "      <th>movie_id</th>\n",
       "      <th>title</th>\n",
       "      <th>gender</th>\n",
       "      <th>person_id</th>\n",
       "      <th>name</th>\n",
       "      <th>job</th>\n",
       "    </tr>\n",
       "  </thead>\n",
       "  <tbody>\n",
       "    <tr>\n",
       "      <th>0</th>\n",
       "      <td>19995</td>\n",
       "      <td>Avatar</td>\n",
       "      <td>2</td>\n",
       "      <td>1729</td>\n",
       "      <td>James Horner</td>\n",
       "      <td>Original Music Composer</td>\n",
       "    </tr>\n",
       "    <tr>\n",
       "      <th>0</th>\n",
       "      <td>19995</td>\n",
       "      <td>Avatar</td>\n",
       "      <td>2</td>\n",
       "      <td>2710</td>\n",
       "      <td>James Cameron</td>\n",
       "      <td>Director</td>\n",
       "    </tr>\n",
       "    <tr>\n",
       "      <th>1</th>\n",
       "      <td>285</td>\n",
       "      <td>Pirates of the Caribbean: At World's End</td>\n",
       "      <td>2</td>\n",
       "      <td>1704</td>\n",
       "      <td>Gore Verbinski</td>\n",
       "      <td>Director</td>\n",
       "    </tr>\n",
       "    <tr>\n",
       "      <th>1</th>\n",
       "      <td>285</td>\n",
       "      <td>Pirates of the Caribbean: At World's End</td>\n",
       "      <td>2</td>\n",
       "      <td>947</td>\n",
       "      <td>Hans Zimmer</td>\n",
       "      <td>Original Music Composer</td>\n",
       "    </tr>\n",
       "    <tr>\n",
       "      <th>2</th>\n",
       "      <td>206647</td>\n",
       "      <td>Spectre</td>\n",
       "      <td>2</td>\n",
       "      <td>153</td>\n",
       "      <td>Thomas Newman</td>\n",
       "      <td>Original Music Composer</td>\n",
       "    </tr>\n",
       "    <tr>\n",
       "      <th>...</th>\n",
       "      <td>...</td>\n",
       "      <td>...</td>\n",
       "      <td>...</td>\n",
       "      <td>...</td>\n",
       "      <td>...</td>\n",
       "      <td>...</td>\n",
       "    </tr>\n",
       "    <tr>\n",
       "      <th>4800</th>\n",
       "      <td>231617</td>\n",
       "      <td>Signed, Sealed, Delivered</td>\n",
       "      <td>0</td>\n",
       "      <td>1219158</td>\n",
       "      <td>Scott Smith</td>\n",
       "      <td>Director</td>\n",
       "    </tr>\n",
       "    <tr>\n",
       "      <th>4801</th>\n",
       "      <td>126186</td>\n",
       "      <td>Shanghai Calling</td>\n",
       "      <td>2</td>\n",
       "      <td>208138</td>\n",
       "      <td>Daniel Hsia</td>\n",
       "      <td>Director</td>\n",
       "    </tr>\n",
       "    <tr>\n",
       "      <th>4802</th>\n",
       "      <td>25975</td>\n",
       "      <td>My Date with Drew</td>\n",
       "      <td>2</td>\n",
       "      <td>85563</td>\n",
       "      <td>Brian Herzlinger</td>\n",
       "      <td>Director</td>\n",
       "    </tr>\n",
       "    <tr>\n",
       "      <th>4802</th>\n",
       "      <td>25975</td>\n",
       "      <td>My Date with Drew</td>\n",
       "      <td>2</td>\n",
       "      <td>94471</td>\n",
       "      <td>Jon Gunn</td>\n",
       "      <td>Director</td>\n",
       "    </tr>\n",
       "    <tr>\n",
       "      <th>4802</th>\n",
       "      <td>25975</td>\n",
       "      <td>My Date with Drew</td>\n",
       "      <td>0</td>\n",
       "      <td>997560</td>\n",
       "      <td>Brett Winn</td>\n",
       "      <td>Director</td>\n",
       "    </tr>\n",
       "  </tbody>\n",
       "</table>\n",
       "<p>8350 rows × 6 columns</p>\n",
       "</div>"
      ],
      "text/plain": [
       "      movie_id                                     title gender person_id  \\\n",
       "0        19995                                    Avatar      2      1729   \n",
       "0        19995                                    Avatar      2      2710   \n",
       "1          285  Pirates of the Caribbean: At World's End      2      1704   \n",
       "1          285  Pirates of the Caribbean: At World's End      2       947   \n",
       "2       206647                                   Spectre      2       153   \n",
       "...        ...                                       ...    ...       ...   \n",
       "4800    231617                 Signed, Sealed, Delivered      0   1219158   \n",
       "4801    126186                          Shanghai Calling      2    208138   \n",
       "4802     25975                         My Date with Drew      2     85563   \n",
       "4802     25975                         My Date with Drew      2     94471   \n",
       "4802     25975                         My Date with Drew      0    997560   \n",
       "\n",
       "                  name                      job  \n",
       "0         James Horner  Original Music Composer  \n",
       "0        James Cameron                 Director  \n",
       "1       Gore Verbinski                 Director  \n",
       "1          Hans Zimmer  Original Music Composer  \n",
       "2        Thomas Newman  Original Music Composer  \n",
       "...                ...                      ...  \n",
       "4800       Scott Smith                 Director  \n",
       "4801       Daniel Hsia                 Director  \n",
       "4802  Brian Herzlinger                 Director  \n",
       "4802          Jon Gunn                 Director  \n",
       "4802        Brett Winn                 Director  \n",
       "\n",
       "[8350 rows x 6 columns]"
      ]
     },
     "execution_count": 163,
     "metadata": {},
     "output_type": "execute_result"
    }
   ],
   "source": [
    "tmdb_credits_clean_crew"
   ]
  },
  {
   "cell_type": "code",
   "execution_count": 164,
   "metadata": {},
   "outputs": [
    {
     "data": {
      "text/html": [
       "<div>\n",
       "<style scoped>\n",
       "    .dataframe tbody tr th:only-of-type {\n",
       "        vertical-align: middle;\n",
       "    }\n",
       "\n",
       "    .dataframe tbody tr th {\n",
       "        vertical-align: top;\n",
       "    }\n",
       "\n",
       "    .dataframe thead th {\n",
       "        text-align: right;\n",
       "    }\n",
       "</style>\n",
       "<table border=\"1\" class=\"dataframe\">\n",
       "  <thead>\n",
       "    <tr style=\"text-align: right;\">\n",
       "      <th></th>\n",
       "      <th>budget</th>\n",
       "      <th>genres</th>\n",
       "      <th>homepage</th>\n",
       "      <th>id</th>\n",
       "      <th>keywords</th>\n",
       "      <th>original_language</th>\n",
       "      <th>original_title</th>\n",
       "      <th>overview</th>\n",
       "      <th>popularity</th>\n",
       "      <th>production_companies</th>\n",
       "      <th>production_countries</th>\n",
       "      <th>release_date</th>\n",
       "      <th>revenue</th>\n",
       "      <th>runtime</th>\n",
       "      <th>spoken_languages</th>\n",
       "      <th>status</th>\n",
       "      <th>tagline</th>\n",
       "      <th>title</th>\n",
       "      <th>vote_average</th>\n",
       "      <th>vote_count</th>\n",
       "    </tr>\n",
       "  </thead>\n",
       "  <tbody>\n",
       "    <tr>\n",
       "      <th>0</th>\n",
       "      <td>237000000</td>\n",
       "      <td>[{\"id\": 28, \"name\": \"Action\"}, {\"id\": 12, \"nam...</td>\n",
       "      <td>http://www.avatarmovie.com/</td>\n",
       "      <td>19995</td>\n",
       "      <td>[{\"id\": 1463, \"name\": \"culture clash\"}, {\"id\":...</td>\n",
       "      <td>en</td>\n",
       "      <td>Avatar</td>\n",
       "      <td>In the 22nd century, a paraplegic Marine is di...</td>\n",
       "      <td>150.437577</td>\n",
       "      <td>[{\"name\": \"Ingenious Film Partners\", \"id\": 289...</td>\n",
       "      <td>[{\"iso_3166_1\": \"US\", \"name\": \"United States o...</td>\n",
       "      <td>2009-12-10</td>\n",
       "      <td>2787965087</td>\n",
       "      <td>162.0</td>\n",
       "      <td>[{\"iso_639_1\": \"en\", \"name\": \"English\"}, {\"iso...</td>\n",
       "      <td>Released</td>\n",
       "      <td>Enter the World of Pandora.</td>\n",
       "      <td>Avatar</td>\n",
       "      <td>7.2</td>\n",
       "      <td>11800</td>\n",
       "    </tr>\n",
       "    <tr>\n",
       "      <th>1</th>\n",
       "      <td>300000000</td>\n",
       "      <td>[{\"id\": 12, \"name\": \"Adventure\"}, {\"id\": 14, \"...</td>\n",
       "      <td>http://disney.go.com/disneypictures/pirates/</td>\n",
       "      <td>285</td>\n",
       "      <td>[{\"id\": 270, \"name\": \"ocean\"}, {\"id\": 726, \"na...</td>\n",
       "      <td>en</td>\n",
       "      <td>Pirates of the Caribbean: At World's End</td>\n",
       "      <td>Captain Barbossa, long believed to be dead, ha...</td>\n",
       "      <td>139.082615</td>\n",
       "      <td>[{\"name\": \"Walt Disney Pictures\", \"id\": 2}, {\"...</td>\n",
       "      <td>[{\"iso_3166_1\": \"US\", \"name\": \"United States o...</td>\n",
       "      <td>2007-05-19</td>\n",
       "      <td>961000000</td>\n",
       "      <td>169.0</td>\n",
       "      <td>[{\"iso_639_1\": \"en\", \"name\": \"English\"}]</td>\n",
       "      <td>Released</td>\n",
       "      <td>At the end of the world, the adventure begins.</td>\n",
       "      <td>Pirates of the Caribbean: At World's End</td>\n",
       "      <td>6.9</td>\n",
       "      <td>4500</td>\n",
       "    </tr>\n",
       "    <tr>\n",
       "      <th>2</th>\n",
       "      <td>245000000</td>\n",
       "      <td>[{\"id\": 28, \"name\": \"Action\"}, {\"id\": 12, \"nam...</td>\n",
       "      <td>http://www.sonypictures.com/movies/spectre/</td>\n",
       "      <td>206647</td>\n",
       "      <td>[{\"id\": 470, \"name\": \"spy\"}, {\"id\": 818, \"name...</td>\n",
       "      <td>en</td>\n",
       "      <td>Spectre</td>\n",
       "      <td>A cryptic message from Bond’s past sends him o...</td>\n",
       "      <td>107.376788</td>\n",
       "      <td>[{\"name\": \"Columbia Pictures\", \"id\": 5}, {\"nam...</td>\n",
       "      <td>[{\"iso_3166_1\": \"GB\", \"name\": \"United Kingdom\"...</td>\n",
       "      <td>2015-10-26</td>\n",
       "      <td>880674609</td>\n",
       "      <td>148.0</td>\n",
       "      <td>[{\"iso_639_1\": \"fr\", \"name\": \"Fran\\u00e7ais\"},...</td>\n",
       "      <td>Released</td>\n",
       "      <td>A Plan No One Escapes</td>\n",
       "      <td>Spectre</td>\n",
       "      <td>6.3</td>\n",
       "      <td>4466</td>\n",
       "    </tr>\n",
       "    <tr>\n",
       "      <th>3</th>\n",
       "      <td>250000000</td>\n",
       "      <td>[{\"id\": 28, \"name\": \"Action\"}, {\"id\": 80, \"nam...</td>\n",
       "      <td>http://www.thedarkknightrises.com/</td>\n",
       "      <td>49026</td>\n",
       "      <td>[{\"id\": 849, \"name\": \"dc comics\"}, {\"id\": 853,...</td>\n",
       "      <td>en</td>\n",
       "      <td>The Dark Knight Rises</td>\n",
       "      <td>Following the death of District Attorney Harve...</td>\n",
       "      <td>112.312950</td>\n",
       "      <td>[{\"name\": \"Legendary Pictures\", \"id\": 923}, {\"...</td>\n",
       "      <td>[{\"iso_3166_1\": \"US\", \"name\": \"United States o...</td>\n",
       "      <td>2012-07-16</td>\n",
       "      <td>1084939099</td>\n",
       "      <td>165.0</td>\n",
       "      <td>[{\"iso_639_1\": \"en\", \"name\": \"English\"}]</td>\n",
       "      <td>Released</td>\n",
       "      <td>The Legend Ends</td>\n",
       "      <td>The Dark Knight Rises</td>\n",
       "      <td>7.6</td>\n",
       "      <td>9106</td>\n",
       "    </tr>\n",
       "    <tr>\n",
       "      <th>4</th>\n",
       "      <td>260000000</td>\n",
       "      <td>[{\"id\": 28, \"name\": \"Action\"}, {\"id\": 12, \"nam...</td>\n",
       "      <td>http://movies.disney.com/john-carter</td>\n",
       "      <td>49529</td>\n",
       "      <td>[{\"id\": 818, \"name\": \"based on novel\"}, {\"id\":...</td>\n",
       "      <td>en</td>\n",
       "      <td>John Carter</td>\n",
       "      <td>John Carter is a war-weary, former military ca...</td>\n",
       "      <td>43.926995</td>\n",
       "      <td>[{\"name\": \"Walt Disney Pictures\", \"id\": 2}]</td>\n",
       "      <td>[{\"iso_3166_1\": \"US\", \"name\": \"United States o...</td>\n",
       "      <td>2012-03-07</td>\n",
       "      <td>284139100</td>\n",
       "      <td>132.0</td>\n",
       "      <td>[{\"iso_639_1\": \"en\", \"name\": \"English\"}]</td>\n",
       "      <td>Released</td>\n",
       "      <td>Lost in our world, found in another.</td>\n",
       "      <td>John Carter</td>\n",
       "      <td>6.1</td>\n",
       "      <td>2124</td>\n",
       "    </tr>\n",
       "  </tbody>\n",
       "</table>\n",
       "</div>"
      ],
      "text/plain": [
       "      budget                                             genres  \\\n",
       "0  237000000  [{\"id\": 28, \"name\": \"Action\"}, {\"id\": 12, \"nam...   \n",
       "1  300000000  [{\"id\": 12, \"name\": \"Adventure\"}, {\"id\": 14, \"...   \n",
       "2  245000000  [{\"id\": 28, \"name\": \"Action\"}, {\"id\": 12, \"nam...   \n",
       "3  250000000  [{\"id\": 28, \"name\": \"Action\"}, {\"id\": 80, \"nam...   \n",
       "4  260000000  [{\"id\": 28, \"name\": \"Action\"}, {\"id\": 12, \"nam...   \n",
       "\n",
       "                                       homepage      id  \\\n",
       "0                   http://www.avatarmovie.com/   19995   \n",
       "1  http://disney.go.com/disneypictures/pirates/     285   \n",
       "2   http://www.sonypictures.com/movies/spectre/  206647   \n",
       "3            http://www.thedarkknightrises.com/   49026   \n",
       "4          http://movies.disney.com/john-carter   49529   \n",
       "\n",
       "                                            keywords original_language  \\\n",
       "0  [{\"id\": 1463, \"name\": \"culture clash\"}, {\"id\":...                en   \n",
       "1  [{\"id\": 270, \"name\": \"ocean\"}, {\"id\": 726, \"na...                en   \n",
       "2  [{\"id\": 470, \"name\": \"spy\"}, {\"id\": 818, \"name...                en   \n",
       "3  [{\"id\": 849, \"name\": \"dc comics\"}, {\"id\": 853,...                en   \n",
       "4  [{\"id\": 818, \"name\": \"based on novel\"}, {\"id\":...                en   \n",
       "\n",
       "                             original_title  \\\n",
       "0                                    Avatar   \n",
       "1  Pirates of the Caribbean: At World's End   \n",
       "2                                   Spectre   \n",
       "3                     The Dark Knight Rises   \n",
       "4                               John Carter   \n",
       "\n",
       "                                            overview  popularity  \\\n",
       "0  In the 22nd century, a paraplegic Marine is di...  150.437577   \n",
       "1  Captain Barbossa, long believed to be dead, ha...  139.082615   \n",
       "2  A cryptic message from Bond’s past sends him o...  107.376788   \n",
       "3  Following the death of District Attorney Harve...  112.312950   \n",
       "4  John Carter is a war-weary, former military ca...   43.926995   \n",
       "\n",
       "                                production_companies  \\\n",
       "0  [{\"name\": \"Ingenious Film Partners\", \"id\": 289...   \n",
       "1  [{\"name\": \"Walt Disney Pictures\", \"id\": 2}, {\"...   \n",
       "2  [{\"name\": \"Columbia Pictures\", \"id\": 5}, {\"nam...   \n",
       "3  [{\"name\": \"Legendary Pictures\", \"id\": 923}, {\"...   \n",
       "4        [{\"name\": \"Walt Disney Pictures\", \"id\": 2}]   \n",
       "\n",
       "                                production_countries release_date     revenue  \\\n",
       "0  [{\"iso_3166_1\": \"US\", \"name\": \"United States o...   2009-12-10  2787965087   \n",
       "1  [{\"iso_3166_1\": \"US\", \"name\": \"United States o...   2007-05-19   961000000   \n",
       "2  [{\"iso_3166_1\": \"GB\", \"name\": \"United Kingdom\"...   2015-10-26   880674609   \n",
       "3  [{\"iso_3166_1\": \"US\", \"name\": \"United States o...   2012-07-16  1084939099   \n",
       "4  [{\"iso_3166_1\": \"US\", \"name\": \"United States o...   2012-03-07   284139100   \n",
       "\n",
       "   runtime                                   spoken_languages    status  \\\n",
       "0    162.0  [{\"iso_639_1\": \"en\", \"name\": \"English\"}, {\"iso...  Released   \n",
       "1    169.0           [{\"iso_639_1\": \"en\", \"name\": \"English\"}]  Released   \n",
       "2    148.0  [{\"iso_639_1\": \"fr\", \"name\": \"Fran\\u00e7ais\"},...  Released   \n",
       "3    165.0           [{\"iso_639_1\": \"en\", \"name\": \"English\"}]  Released   \n",
       "4    132.0           [{\"iso_639_1\": \"en\", \"name\": \"English\"}]  Released   \n",
       "\n",
       "                                          tagline  \\\n",
       "0                     Enter the World of Pandora.   \n",
       "1  At the end of the world, the adventure begins.   \n",
       "2                           A Plan No One Escapes   \n",
       "3                                 The Legend Ends   \n",
       "4            Lost in our world, found in another.   \n",
       "\n",
       "                                      title  vote_average  vote_count  \n",
       "0                                    Avatar           7.2       11800  \n",
       "1  Pirates of the Caribbean: At World's End           6.9        4500  \n",
       "2                                   Spectre           6.3        4466  \n",
       "3                     The Dark Knight Rises           7.6        9106  \n",
       "4                               John Carter           6.1        2124  "
      ]
     },
     "execution_count": 164,
     "metadata": {},
     "output_type": "execute_result"
    }
   ],
   "source": [
    "tmdb_movies.head()"
   ]
  },
  {
   "cell_type": "code",
   "execution_count": 165,
   "metadata": {},
   "outputs": [],
   "source": [
    "predicates_to_check = [#lambda data : (data.vote_count > data.vote_count.describe()['25%']), \n",
    "                       lambda data : (data.budget > 1),\n",
    "                       lambda data : (data.revenue > 1000),\n",
    "                        lambda data : (data.popularity > 1)]"
   ]
  },
  {
   "cell_type": "code",
   "execution_count": 166,
   "metadata": {},
   "outputs": [
    {
     "data": {
      "text/html": [
       "<div>\n",
       "<style scoped>\n",
       "    .dataframe tbody tr th:only-of-type {\n",
       "        vertical-align: middle;\n",
       "    }\n",
       "\n",
       "    .dataframe tbody tr th {\n",
       "        vertical-align: top;\n",
       "    }\n",
       "\n",
       "    .dataframe thead th {\n",
       "        text-align: right;\n",
       "    }\n",
       "</style>\n",
       "<table border=\"1\" class=\"dataframe\">\n",
       "  <thead>\n",
       "    <tr style=\"text-align: right;\">\n",
       "      <th></th>\n",
       "      <th>budget</th>\n",
       "      <th>genres</th>\n",
       "      <th>homepage</th>\n",
       "      <th>id</th>\n",
       "      <th>keywords</th>\n",
       "      <th>original_language</th>\n",
       "      <th>original_title</th>\n",
       "      <th>overview</th>\n",
       "      <th>popularity</th>\n",
       "      <th>production_companies</th>\n",
       "      <th>production_countries</th>\n",
       "      <th>release_date</th>\n",
       "      <th>revenue</th>\n",
       "      <th>runtime</th>\n",
       "      <th>spoken_languages</th>\n",
       "      <th>status</th>\n",
       "      <th>tagline</th>\n",
       "      <th>title</th>\n",
       "      <th>vote_average</th>\n",
       "      <th>vote_count</th>\n",
       "    </tr>\n",
       "  </thead>\n",
       "  <tbody>\n",
       "    <tr>\n",
       "      <th>0</th>\n",
       "      <td>237000000</td>\n",
       "      <td>[{\"id\": 28, \"name\": \"Action\"}, {\"id\": 12, \"nam...</td>\n",
       "      <td>http://www.avatarmovie.com/</td>\n",
       "      <td>19995</td>\n",
       "      <td>[{\"id\": 1463, \"name\": \"culture clash\"}, {\"id\":...</td>\n",
       "      <td>en</td>\n",
       "      <td>Avatar</td>\n",
       "      <td>In the 22nd century, a paraplegic Marine is di...</td>\n",
       "      <td>150.437577</td>\n",
       "      <td>[{\"name\": \"Ingenious Film Partners\", \"id\": 289...</td>\n",
       "      <td>[{\"iso_3166_1\": \"US\", \"name\": \"United States o...</td>\n",
       "      <td>2009-12-10</td>\n",
       "      <td>2787965087</td>\n",
       "      <td>162.0</td>\n",
       "      <td>[{\"iso_639_1\": \"en\", \"name\": \"English\"}, {\"iso...</td>\n",
       "      <td>Released</td>\n",
       "      <td>Enter the World of Pandora.</td>\n",
       "      <td>Avatar</td>\n",
       "      <td>7.2</td>\n",
       "      <td>11800</td>\n",
       "    </tr>\n",
       "    <tr>\n",
       "      <th>1</th>\n",
       "      <td>300000000</td>\n",
       "      <td>[{\"id\": 12, \"name\": \"Adventure\"}, {\"id\": 14, \"...</td>\n",
       "      <td>http://disney.go.com/disneypictures/pirates/</td>\n",
       "      <td>285</td>\n",
       "      <td>[{\"id\": 270, \"name\": \"ocean\"}, {\"id\": 726, \"na...</td>\n",
       "      <td>en</td>\n",
       "      <td>Pirates of the Caribbean: At World's End</td>\n",
       "      <td>Captain Barbossa, long believed to be dead, ha...</td>\n",
       "      <td>139.082615</td>\n",
       "      <td>[{\"name\": \"Walt Disney Pictures\", \"id\": 2}, {\"...</td>\n",
       "      <td>[{\"iso_3166_1\": \"US\", \"name\": \"United States o...</td>\n",
       "      <td>2007-05-19</td>\n",
       "      <td>961000000</td>\n",
       "      <td>169.0</td>\n",
       "      <td>[{\"iso_639_1\": \"en\", \"name\": \"English\"}]</td>\n",
       "      <td>Released</td>\n",
       "      <td>At the end of the world, the adventure begins.</td>\n",
       "      <td>Pirates of the Caribbean: At World's End</td>\n",
       "      <td>6.9</td>\n",
       "      <td>4500</td>\n",
       "    </tr>\n",
       "    <tr>\n",
       "      <th>2</th>\n",
       "      <td>245000000</td>\n",
       "      <td>[{\"id\": 28, \"name\": \"Action\"}, {\"id\": 12, \"nam...</td>\n",
       "      <td>http://www.sonypictures.com/movies/spectre/</td>\n",
       "      <td>206647</td>\n",
       "      <td>[{\"id\": 470, \"name\": \"spy\"}, {\"id\": 818, \"name...</td>\n",
       "      <td>en</td>\n",
       "      <td>Spectre</td>\n",
       "      <td>A cryptic message from Bond’s past sends him o...</td>\n",
       "      <td>107.376788</td>\n",
       "      <td>[{\"name\": \"Columbia Pictures\", \"id\": 5}, {\"nam...</td>\n",
       "      <td>[{\"iso_3166_1\": \"GB\", \"name\": \"United Kingdom\"...</td>\n",
       "      <td>2015-10-26</td>\n",
       "      <td>880674609</td>\n",
       "      <td>148.0</td>\n",
       "      <td>[{\"iso_639_1\": \"fr\", \"name\": \"Fran\\u00e7ais\"},...</td>\n",
       "      <td>Released</td>\n",
       "      <td>A Plan No One Escapes</td>\n",
       "      <td>Spectre</td>\n",
       "      <td>6.3</td>\n",
       "      <td>4466</td>\n",
       "    </tr>\n",
       "    <tr>\n",
       "      <th>3</th>\n",
       "      <td>250000000</td>\n",
       "      <td>[{\"id\": 28, \"name\": \"Action\"}, {\"id\": 80, \"nam...</td>\n",
       "      <td>http://www.thedarkknightrises.com/</td>\n",
       "      <td>49026</td>\n",
       "      <td>[{\"id\": 849, \"name\": \"dc comics\"}, {\"id\": 853,...</td>\n",
       "      <td>en</td>\n",
       "      <td>The Dark Knight Rises</td>\n",
       "      <td>Following the death of District Attorney Harve...</td>\n",
       "      <td>112.312950</td>\n",
       "      <td>[{\"name\": \"Legendary Pictures\", \"id\": 923}, {\"...</td>\n",
       "      <td>[{\"iso_3166_1\": \"US\", \"name\": \"United States o...</td>\n",
       "      <td>2012-07-16</td>\n",
       "      <td>1084939099</td>\n",
       "      <td>165.0</td>\n",
       "      <td>[{\"iso_639_1\": \"en\", \"name\": \"English\"}]</td>\n",
       "      <td>Released</td>\n",
       "      <td>The Legend Ends</td>\n",
       "      <td>The Dark Knight Rises</td>\n",
       "      <td>7.6</td>\n",
       "      <td>9106</td>\n",
       "    </tr>\n",
       "    <tr>\n",
       "      <th>4</th>\n",
       "      <td>260000000</td>\n",
       "      <td>[{\"id\": 28, \"name\": \"Action\"}, {\"id\": 12, \"nam...</td>\n",
       "      <td>http://movies.disney.com/john-carter</td>\n",
       "      <td>49529</td>\n",
       "      <td>[{\"id\": 818, \"name\": \"based on novel\"}, {\"id\":...</td>\n",
       "      <td>en</td>\n",
       "      <td>John Carter</td>\n",
       "      <td>John Carter is a war-weary, former military ca...</td>\n",
       "      <td>43.926995</td>\n",
       "      <td>[{\"name\": \"Walt Disney Pictures\", \"id\": 2}]</td>\n",
       "      <td>[{\"iso_3166_1\": \"US\", \"name\": \"United States o...</td>\n",
       "      <td>2012-03-07</td>\n",
       "      <td>284139100</td>\n",
       "      <td>132.0</td>\n",
       "      <td>[{\"iso_639_1\": \"en\", \"name\": \"English\"}]</td>\n",
       "      <td>Released</td>\n",
       "      <td>Lost in our world, found in another.</td>\n",
       "      <td>John Carter</td>\n",
       "      <td>6.1</td>\n",
       "      <td>2124</td>\n",
       "    </tr>\n",
       "  </tbody>\n",
       "</table>\n",
       "</div>"
      ],
      "text/plain": [
       "      budget                                             genres  \\\n",
       "0  237000000  [{\"id\": 28, \"name\": \"Action\"}, {\"id\": 12, \"nam...   \n",
       "1  300000000  [{\"id\": 12, \"name\": \"Adventure\"}, {\"id\": 14, \"...   \n",
       "2  245000000  [{\"id\": 28, \"name\": \"Action\"}, {\"id\": 12, \"nam...   \n",
       "3  250000000  [{\"id\": 28, \"name\": \"Action\"}, {\"id\": 80, \"nam...   \n",
       "4  260000000  [{\"id\": 28, \"name\": \"Action\"}, {\"id\": 12, \"nam...   \n",
       "\n",
       "                                       homepage      id  \\\n",
       "0                   http://www.avatarmovie.com/   19995   \n",
       "1  http://disney.go.com/disneypictures/pirates/     285   \n",
       "2   http://www.sonypictures.com/movies/spectre/  206647   \n",
       "3            http://www.thedarkknightrises.com/   49026   \n",
       "4          http://movies.disney.com/john-carter   49529   \n",
       "\n",
       "                                            keywords original_language  \\\n",
       "0  [{\"id\": 1463, \"name\": \"culture clash\"}, {\"id\":...                en   \n",
       "1  [{\"id\": 270, \"name\": \"ocean\"}, {\"id\": 726, \"na...                en   \n",
       "2  [{\"id\": 470, \"name\": \"spy\"}, {\"id\": 818, \"name...                en   \n",
       "3  [{\"id\": 849, \"name\": \"dc comics\"}, {\"id\": 853,...                en   \n",
       "4  [{\"id\": 818, \"name\": \"based on novel\"}, {\"id\":...                en   \n",
       "\n",
       "                             original_title  \\\n",
       "0                                    Avatar   \n",
       "1  Pirates of the Caribbean: At World's End   \n",
       "2                                   Spectre   \n",
       "3                     The Dark Knight Rises   \n",
       "4                               John Carter   \n",
       "\n",
       "                                            overview  popularity  \\\n",
       "0  In the 22nd century, a paraplegic Marine is di...  150.437577   \n",
       "1  Captain Barbossa, long believed to be dead, ha...  139.082615   \n",
       "2  A cryptic message from Bond’s past sends him o...  107.376788   \n",
       "3  Following the death of District Attorney Harve...  112.312950   \n",
       "4  John Carter is a war-weary, former military ca...   43.926995   \n",
       "\n",
       "                                production_companies  \\\n",
       "0  [{\"name\": \"Ingenious Film Partners\", \"id\": 289...   \n",
       "1  [{\"name\": \"Walt Disney Pictures\", \"id\": 2}, {\"...   \n",
       "2  [{\"name\": \"Columbia Pictures\", \"id\": 5}, {\"nam...   \n",
       "3  [{\"name\": \"Legendary Pictures\", \"id\": 923}, {\"...   \n",
       "4        [{\"name\": \"Walt Disney Pictures\", \"id\": 2}]   \n",
       "\n",
       "                                production_countries release_date     revenue  \\\n",
       "0  [{\"iso_3166_1\": \"US\", \"name\": \"United States o...   2009-12-10  2787965087   \n",
       "1  [{\"iso_3166_1\": \"US\", \"name\": \"United States o...   2007-05-19   961000000   \n",
       "2  [{\"iso_3166_1\": \"GB\", \"name\": \"United Kingdom\"...   2015-10-26   880674609   \n",
       "3  [{\"iso_3166_1\": \"US\", \"name\": \"United States o...   2012-07-16  1084939099   \n",
       "4  [{\"iso_3166_1\": \"US\", \"name\": \"United States o...   2012-03-07   284139100   \n",
       "\n",
       "   runtime                                   spoken_languages    status  \\\n",
       "0    162.0  [{\"iso_639_1\": \"en\", \"name\": \"English\"}, {\"iso...  Released   \n",
       "1    169.0           [{\"iso_639_1\": \"en\", \"name\": \"English\"}]  Released   \n",
       "2    148.0  [{\"iso_639_1\": \"fr\", \"name\": \"Fran\\u00e7ais\"},...  Released   \n",
       "3    165.0           [{\"iso_639_1\": \"en\", \"name\": \"English\"}]  Released   \n",
       "4    132.0           [{\"iso_639_1\": \"en\", \"name\": \"English\"}]  Released   \n",
       "\n",
       "                                          tagline  \\\n",
       "0                     Enter the World of Pandora.   \n",
       "1  At the end of the world, the adventure begins.   \n",
       "2                           A Plan No One Escapes   \n",
       "3                                 The Legend Ends   \n",
       "4            Lost in our world, found in another.   \n",
       "\n",
       "                                      title  vote_average  vote_count  \n",
       "0                                    Avatar           7.2       11800  \n",
       "1  Pirates of the Caribbean: At World's End           6.9        4500  \n",
       "2                                   Spectre           6.3        4466  \n",
       "3                     The Dark Knight Rises           7.6        9106  \n",
       "4                               John Carter           6.1        2124  "
      ]
     },
     "execution_count": 166,
     "metadata": {},
     "output_type": "execute_result"
    }
   ],
   "source": [
    "tmdb_movies.head()"
   ]
  },
  {
   "cell_type": "code",
   "execution_count": 167,
   "metadata": {},
   "outputs": [
    {
     "data": {
      "text/html": [
       "<div>\n",
       "<style scoped>\n",
       "    .dataframe tbody tr th:only-of-type {\n",
       "        vertical-align: middle;\n",
       "    }\n",
       "\n",
       "    .dataframe tbody tr th {\n",
       "        vertical-align: top;\n",
       "    }\n",
       "\n",
       "    .dataframe thead th {\n",
       "        text-align: right;\n",
       "    }\n",
       "</style>\n",
       "<table border=\"1\" class=\"dataframe\">\n",
       "  <thead>\n",
       "    <tr style=\"text-align: right;\">\n",
       "      <th></th>\n",
       "      <th>budget</th>\n",
       "      <th>genres</th>\n",
       "      <th>homepage</th>\n",
       "      <th>id</th>\n",
       "      <th>keywords</th>\n",
       "      <th>original_language</th>\n",
       "      <th>original_title</th>\n",
       "      <th>overview</th>\n",
       "      <th>popularity</th>\n",
       "      <th>production_companies</th>\n",
       "      <th>production_countries</th>\n",
       "      <th>release_date</th>\n",
       "      <th>revenue</th>\n",
       "      <th>runtime</th>\n",
       "      <th>spoken_languages</th>\n",
       "      <th>status</th>\n",
       "      <th>tagline</th>\n",
       "      <th>title</th>\n",
       "      <th>vote_average</th>\n",
       "      <th>vote_count</th>\n",
       "    </tr>\n",
       "  </thead>\n",
       "  <tbody>\n",
       "    <tr>\n",
       "      <th>0</th>\n",
       "      <td>237000000</td>\n",
       "      <td>[{\"id\": 28, \"name\": \"Action\"}, {\"id\": 12, \"nam...</td>\n",
       "      <td>http://www.avatarmovie.com/</td>\n",
       "      <td>19995</td>\n",
       "      <td>[{\"id\": 1463, \"name\": \"culture clash\"}, {\"id\":...</td>\n",
       "      <td>en</td>\n",
       "      <td>Avatar</td>\n",
       "      <td>In the 22nd century, a paraplegic Marine is di...</td>\n",
       "      <td>150.437577</td>\n",
       "      <td>[{\"name\": \"Ingenious Film Partners\", \"id\": 289...</td>\n",
       "      <td>[{\"iso_3166_1\": \"US\", \"name\": \"United States o...</td>\n",
       "      <td>2009-12-10</td>\n",
       "      <td>2787965087</td>\n",
       "      <td>162.0</td>\n",
       "      <td>[{\"iso_639_1\": \"en\", \"name\": \"English\"}, {\"iso...</td>\n",
       "      <td>Released</td>\n",
       "      <td>Enter the World of Pandora.</td>\n",
       "      <td>Avatar</td>\n",
       "      <td>7.2</td>\n",
       "      <td>11800</td>\n",
       "    </tr>\n",
       "    <tr>\n",
       "      <th>1</th>\n",
       "      <td>300000000</td>\n",
       "      <td>[{\"id\": 12, \"name\": \"Adventure\"}, {\"id\": 14, \"...</td>\n",
       "      <td>http://disney.go.com/disneypictures/pirates/</td>\n",
       "      <td>285</td>\n",
       "      <td>[{\"id\": 270, \"name\": \"ocean\"}, {\"id\": 726, \"na...</td>\n",
       "      <td>en</td>\n",
       "      <td>Pirates of the Caribbean: At World's End</td>\n",
       "      <td>Captain Barbossa, long believed to be dead, ha...</td>\n",
       "      <td>139.082615</td>\n",
       "      <td>[{\"name\": \"Walt Disney Pictures\", \"id\": 2}, {\"...</td>\n",
       "      <td>[{\"iso_3166_1\": \"US\", \"name\": \"United States o...</td>\n",
       "      <td>2007-05-19</td>\n",
       "      <td>961000000</td>\n",
       "      <td>169.0</td>\n",
       "      <td>[{\"iso_639_1\": \"en\", \"name\": \"English\"}]</td>\n",
       "      <td>Released</td>\n",
       "      <td>At the end of the world, the adventure begins.</td>\n",
       "      <td>Pirates of the Caribbean: At World's End</td>\n",
       "      <td>6.9</td>\n",
       "      <td>4500</td>\n",
       "    </tr>\n",
       "    <tr>\n",
       "      <th>2</th>\n",
       "      <td>245000000</td>\n",
       "      <td>[{\"id\": 28, \"name\": \"Action\"}, {\"id\": 12, \"nam...</td>\n",
       "      <td>http://www.sonypictures.com/movies/spectre/</td>\n",
       "      <td>206647</td>\n",
       "      <td>[{\"id\": 470, \"name\": \"spy\"}, {\"id\": 818, \"name...</td>\n",
       "      <td>en</td>\n",
       "      <td>Spectre</td>\n",
       "      <td>A cryptic message from Bond’s past sends him o...</td>\n",
       "      <td>107.376788</td>\n",
       "      <td>[{\"name\": \"Columbia Pictures\", \"id\": 5}, {\"nam...</td>\n",
       "      <td>[{\"iso_3166_1\": \"GB\", \"name\": \"United Kingdom\"...</td>\n",
       "      <td>2015-10-26</td>\n",
       "      <td>880674609</td>\n",
       "      <td>148.0</td>\n",
       "      <td>[{\"iso_639_1\": \"fr\", \"name\": \"Fran\\u00e7ais\"},...</td>\n",
       "      <td>Released</td>\n",
       "      <td>A Plan No One Escapes</td>\n",
       "      <td>Spectre</td>\n",
       "      <td>6.3</td>\n",
       "      <td>4466</td>\n",
       "    </tr>\n",
       "    <tr>\n",
       "      <th>3</th>\n",
       "      <td>250000000</td>\n",
       "      <td>[{\"id\": 28, \"name\": \"Action\"}, {\"id\": 80, \"nam...</td>\n",
       "      <td>http://www.thedarkknightrises.com/</td>\n",
       "      <td>49026</td>\n",
       "      <td>[{\"id\": 849, \"name\": \"dc comics\"}, {\"id\": 853,...</td>\n",
       "      <td>en</td>\n",
       "      <td>The Dark Knight Rises</td>\n",
       "      <td>Following the death of District Attorney Harve...</td>\n",
       "      <td>112.312950</td>\n",
       "      <td>[{\"name\": \"Legendary Pictures\", \"id\": 923}, {\"...</td>\n",
       "      <td>[{\"iso_3166_1\": \"US\", \"name\": \"United States o...</td>\n",
       "      <td>2012-07-16</td>\n",
       "      <td>1084939099</td>\n",
       "      <td>165.0</td>\n",
       "      <td>[{\"iso_639_1\": \"en\", \"name\": \"English\"}]</td>\n",
       "      <td>Released</td>\n",
       "      <td>The Legend Ends</td>\n",
       "      <td>The Dark Knight Rises</td>\n",
       "      <td>7.6</td>\n",
       "      <td>9106</td>\n",
       "    </tr>\n",
       "    <tr>\n",
       "      <th>4</th>\n",
       "      <td>260000000</td>\n",
       "      <td>[{\"id\": 28, \"name\": \"Action\"}, {\"id\": 12, \"nam...</td>\n",
       "      <td>http://movies.disney.com/john-carter</td>\n",
       "      <td>49529</td>\n",
       "      <td>[{\"id\": 818, \"name\": \"based on novel\"}, {\"id\":...</td>\n",
       "      <td>en</td>\n",
       "      <td>John Carter</td>\n",
       "      <td>John Carter is a war-weary, former military ca...</td>\n",
       "      <td>43.926995</td>\n",
       "      <td>[{\"name\": \"Walt Disney Pictures\", \"id\": 2}]</td>\n",
       "      <td>[{\"iso_3166_1\": \"US\", \"name\": \"United States o...</td>\n",
       "      <td>2012-03-07</td>\n",
       "      <td>284139100</td>\n",
       "      <td>132.0</td>\n",
       "      <td>[{\"iso_639_1\": \"en\", \"name\": \"English\"}]</td>\n",
       "      <td>Released</td>\n",
       "      <td>Lost in our world, found in another.</td>\n",
       "      <td>John Carter</td>\n",
       "      <td>6.1</td>\n",
       "      <td>2124</td>\n",
       "    </tr>\n",
       "  </tbody>\n",
       "</table>\n",
       "</div>"
      ],
      "text/plain": [
       "      budget                                             genres  \\\n",
       "0  237000000  [{\"id\": 28, \"name\": \"Action\"}, {\"id\": 12, \"nam...   \n",
       "1  300000000  [{\"id\": 12, \"name\": \"Adventure\"}, {\"id\": 14, \"...   \n",
       "2  245000000  [{\"id\": 28, \"name\": \"Action\"}, {\"id\": 12, \"nam...   \n",
       "3  250000000  [{\"id\": 28, \"name\": \"Action\"}, {\"id\": 80, \"nam...   \n",
       "4  260000000  [{\"id\": 28, \"name\": \"Action\"}, {\"id\": 12, \"nam...   \n",
       "\n",
       "                                       homepage      id  \\\n",
       "0                   http://www.avatarmovie.com/   19995   \n",
       "1  http://disney.go.com/disneypictures/pirates/     285   \n",
       "2   http://www.sonypictures.com/movies/spectre/  206647   \n",
       "3            http://www.thedarkknightrises.com/   49026   \n",
       "4          http://movies.disney.com/john-carter   49529   \n",
       "\n",
       "                                            keywords original_language  \\\n",
       "0  [{\"id\": 1463, \"name\": \"culture clash\"}, {\"id\":...                en   \n",
       "1  [{\"id\": 270, \"name\": \"ocean\"}, {\"id\": 726, \"na...                en   \n",
       "2  [{\"id\": 470, \"name\": \"spy\"}, {\"id\": 818, \"name...                en   \n",
       "3  [{\"id\": 849, \"name\": \"dc comics\"}, {\"id\": 853,...                en   \n",
       "4  [{\"id\": 818, \"name\": \"based on novel\"}, {\"id\":...                en   \n",
       "\n",
       "                             original_title  \\\n",
       "0                                    Avatar   \n",
       "1  Pirates of the Caribbean: At World's End   \n",
       "2                                   Spectre   \n",
       "3                     The Dark Knight Rises   \n",
       "4                               John Carter   \n",
       "\n",
       "                                            overview  popularity  \\\n",
       "0  In the 22nd century, a paraplegic Marine is di...  150.437577   \n",
       "1  Captain Barbossa, long believed to be dead, ha...  139.082615   \n",
       "2  A cryptic message from Bond’s past sends him o...  107.376788   \n",
       "3  Following the death of District Attorney Harve...  112.312950   \n",
       "4  John Carter is a war-weary, former military ca...   43.926995   \n",
       "\n",
       "                                production_companies  \\\n",
       "0  [{\"name\": \"Ingenious Film Partners\", \"id\": 289...   \n",
       "1  [{\"name\": \"Walt Disney Pictures\", \"id\": 2}, {\"...   \n",
       "2  [{\"name\": \"Columbia Pictures\", \"id\": 5}, {\"nam...   \n",
       "3  [{\"name\": \"Legendary Pictures\", \"id\": 923}, {\"...   \n",
       "4        [{\"name\": \"Walt Disney Pictures\", \"id\": 2}]   \n",
       "\n",
       "                                production_countries release_date     revenue  \\\n",
       "0  [{\"iso_3166_1\": \"US\", \"name\": \"United States o...   2009-12-10  2787965087   \n",
       "1  [{\"iso_3166_1\": \"US\", \"name\": \"United States o...   2007-05-19   961000000   \n",
       "2  [{\"iso_3166_1\": \"GB\", \"name\": \"United Kingdom\"...   2015-10-26   880674609   \n",
       "3  [{\"iso_3166_1\": \"US\", \"name\": \"United States o...   2012-07-16  1084939099   \n",
       "4  [{\"iso_3166_1\": \"US\", \"name\": \"United States o...   2012-03-07   284139100   \n",
       "\n",
       "   runtime                                   spoken_languages    status  \\\n",
       "0    162.0  [{\"iso_639_1\": \"en\", \"name\": \"English\"}, {\"iso...  Released   \n",
       "1    169.0           [{\"iso_639_1\": \"en\", \"name\": \"English\"}]  Released   \n",
       "2    148.0  [{\"iso_639_1\": \"fr\", \"name\": \"Fran\\u00e7ais\"},...  Released   \n",
       "3    165.0           [{\"iso_639_1\": \"en\", \"name\": \"English\"}]  Released   \n",
       "4    132.0           [{\"iso_639_1\": \"en\", \"name\": \"English\"}]  Released   \n",
       "\n",
       "                                          tagline  \\\n",
       "0                     Enter the World of Pandora.   \n",
       "1  At the end of the world, the adventure begins.   \n",
       "2                           A Plan No One Escapes   \n",
       "3                                 The Legend Ends   \n",
       "4            Lost in our world, found in another.   \n",
       "\n",
       "                                      title  vote_average  vote_count  \n",
       "0                                    Avatar           7.2       11800  \n",
       "1  Pirates of the Caribbean: At World's End           6.9        4500  \n",
       "2                                   Spectre           6.3        4466  \n",
       "3                     The Dark Knight Rises           7.6        9106  \n",
       "4                               John Carter           6.1        2124  "
      ]
     },
     "execution_count": 167,
     "metadata": {},
     "output_type": "execute_result"
    }
   ],
   "source": [
    "tmdb_mov = tmdb_movies.copy()\n",
    "for p in predicates_to_check:\n",
    "    tmdb_mov = tmdb_mov[p(tmdb_mov)]\n",
    "    \n",
    "tmdb_mov.head()"
   ]
  },
  {
   "cell_type": "code",
   "execution_count": 168,
   "metadata": {},
   "outputs": [],
   "source": [
    "tm = tmdb_mov"
   ]
  },
  {
   "cell_type": "code",
   "execution_count": 169,
   "metadata": {},
   "outputs": [],
   "source": [
    "from datetime import datetime"
   ]
  },
  {
   "cell_type": "code",
   "execution_count": 170,
   "metadata": {},
   "outputs": [],
   "source": [
    "tm.release_date = tm.release_date.apply(lambda d : datetime(*tuple([int(x) for x in d.split('-')])))"
   ]
  },
  {
   "cell_type": "code",
   "execution_count": 190,
   "metadata": {},
   "outputs": [],
   "source": [
    "tm['realease_year'] = tm.release_date.apply(lambda d : d.year)\n",
    "tm['realease_year_decimal']= tm.release_date.apply(lambda d : d.year + (d.month-1)/12+ d.day/30.5/12)"
   ]
  },
  {
   "cell_type": "code",
   "execution_count": 194,
   "metadata": {},
   "outputs": [
    {
     "data": {
      "text/html": [
       "<div>\n",
       "<style scoped>\n",
       "    .dataframe tbody tr th:only-of-type {\n",
       "        vertical-align: middle;\n",
       "    }\n",
       "\n",
       "    .dataframe tbody tr th {\n",
       "        vertical-align: top;\n",
       "    }\n",
       "\n",
       "    .dataframe thead th {\n",
       "        text-align: right;\n",
       "    }\n",
       "</style>\n",
       "<table border=\"1\" class=\"dataframe\">\n",
       "  <thead>\n",
       "    <tr style=\"text-align: right;\">\n",
       "      <th></th>\n",
       "      <th>realease_year</th>\n",
       "      <th>realease_year_decimal</th>\n",
       "      <th>release_date</th>\n",
       "    </tr>\n",
       "  </thead>\n",
       "  <tbody>\n",
       "    <tr>\n",
       "      <th>0</th>\n",
       "      <td>2009</td>\n",
       "      <td>2009.943989</td>\n",
       "      <td>2009-12-10</td>\n",
       "    </tr>\n",
       "    <tr>\n",
       "      <th>1</th>\n",
       "      <td>2007</td>\n",
       "      <td>2007.385246</td>\n",
       "      <td>2007-05-19</td>\n",
       "    </tr>\n",
       "    <tr>\n",
       "      <th>2</th>\n",
       "      <td>2015</td>\n",
       "      <td>2015.821038</td>\n",
       "      <td>2015-10-26</td>\n",
       "    </tr>\n",
       "    <tr>\n",
       "      <th>3</th>\n",
       "      <td>2012</td>\n",
       "      <td>2012.543716</td>\n",
       "      <td>2012-07-16</td>\n",
       "    </tr>\n",
       "    <tr>\n",
       "      <th>4</th>\n",
       "      <td>2012</td>\n",
       "      <td>2012.185792</td>\n",
       "      <td>2012-03-07</td>\n",
       "    </tr>\n",
       "    <tr>\n",
       "      <th>...</th>\n",
       "      <td>...</td>\n",
       "      <td>...</td>\n",
       "      <td>...</td>\n",
       "    </tr>\n",
       "    <tr>\n",
       "      <th>4772</th>\n",
       "      <td>2009</td>\n",
       "      <td>2009.669399</td>\n",
       "      <td>2009-09-01</td>\n",
       "    </tr>\n",
       "    <tr>\n",
       "      <th>4773</th>\n",
       "      <td>1994</td>\n",
       "      <td>1994.702186</td>\n",
       "      <td>1994-09-13</td>\n",
       "    </tr>\n",
       "    <tr>\n",
       "      <th>4788</th>\n",
       "      <td>1972</td>\n",
       "      <td>1972.199454</td>\n",
       "      <td>1972-03-12</td>\n",
       "    </tr>\n",
       "    <tr>\n",
       "      <th>4796</th>\n",
       "      <td>2004</td>\n",
       "      <td>2004.771858</td>\n",
       "      <td>2004-10-08</td>\n",
       "    </tr>\n",
       "    <tr>\n",
       "      <th>4798</th>\n",
       "      <td>1992</td>\n",
       "      <td>1992.677596</td>\n",
       "      <td>1992-09-04</td>\n",
       "    </tr>\n",
       "  </tbody>\n",
       "</table>\n",
       "<p>3159 rows × 3 columns</p>\n",
       "</div>"
      ],
      "text/plain": [
       "      realease_year  realease_year_decimal release_date\n",
       "0              2009            2009.943989   2009-12-10\n",
       "1              2007            2007.385246   2007-05-19\n",
       "2              2015            2015.821038   2015-10-26\n",
       "3              2012            2012.543716   2012-07-16\n",
       "4              2012            2012.185792   2012-03-07\n",
       "...             ...                    ...          ...\n",
       "4772           2009            2009.669399   2009-09-01\n",
       "4773           1994            1994.702186   1994-09-13\n",
       "4788           1972            1972.199454   1972-03-12\n",
       "4796           2004            2004.771858   2004-10-08\n",
       "4798           1992            1992.677596   1992-09-04\n",
       "\n",
       "[3159 rows x 3 columns]"
      ]
     },
     "execution_count": 194,
     "metadata": {},
     "output_type": "execute_result"
    }
   ],
   "source": [
    "tm[['realease_year', 'realease_year_decimal', 'release_date']]"
   ]
  },
  {
   "cell_type": "code",
   "execution_count": 195,
   "metadata": {},
   "outputs": [
    {
     "ename": "ValueError",
     "evalue": "malformed node or string: ['Action', 'Adventure', 'Fantasy', 'Science Fiction']",
     "output_type": "error",
     "traceback": [
      "\u001b[0;31m---------------------------------------------------------------------------\u001b[0m",
      "\u001b[0;31mValueError\u001b[0m                                Traceback (most recent call last)",
      "\u001b[0;32m<ipython-input-195-cc6ccfcebd5c>\u001b[0m in \u001b[0;36m<module>\u001b[0;34m()\u001b[0m\n\u001b[1;32m      1\u001b[0m \u001b[0;32mimport\u001b[0m \u001b[0mast\u001b[0m\u001b[0;34m\u001b[0m\u001b[0;34m\u001b[0m\u001b[0m\n\u001b[1;32m      2\u001b[0m \u001b[0;34m\u001b[0m\u001b[0m\n\u001b[0;32m----> 3\u001b[0;31m \u001b[0mtm\u001b[0m\u001b[0;34m.\u001b[0m\u001b[0mgenres\u001b[0m \u001b[0;34m=\u001b[0m \u001b[0mtm\u001b[0m\u001b[0;34m.\u001b[0m\u001b[0mgenres\u001b[0m\u001b[0;34m.\u001b[0m\u001b[0mapply\u001b[0m\u001b[0;34m(\u001b[0m\u001b[0;32mlambda\u001b[0m \u001b[0md\u001b[0m \u001b[0;34m:\u001b[0m \u001b[0;34m[\u001b[0m\u001b[0mx\u001b[0m\u001b[0;34m[\u001b[0m\u001b[0;34m'name'\u001b[0m\u001b[0;34m]\u001b[0m \u001b[0;32mfor\u001b[0m \u001b[0mx\u001b[0m \u001b[0;32min\u001b[0m \u001b[0mast\u001b[0m\u001b[0;34m.\u001b[0m\u001b[0mliteral_eval\u001b[0m\u001b[0;34m(\u001b[0m\u001b[0md\u001b[0m\u001b[0;34m)\u001b[0m\u001b[0;34m]\u001b[0m\u001b[0;34m)\u001b[0m\u001b[0;34m\u001b[0m\u001b[0;34m\u001b[0m\u001b[0m\n\u001b[0m",
      "\u001b[0;32m/Users/mion/opt/anaconda3/lib/python3.7/site-packages/pandas/core/series.py\u001b[0m in \u001b[0;36mapply\u001b[0;34m(self, func, convert_dtype, args, **kwds)\u001b[0m\n\u001b[1;32m   4043\u001b[0m             \u001b[0;32melse\u001b[0m\u001b[0;34m:\u001b[0m\u001b[0;34m\u001b[0m\u001b[0;34m\u001b[0m\u001b[0m\n\u001b[1;32m   4044\u001b[0m                 \u001b[0mvalues\u001b[0m \u001b[0;34m=\u001b[0m \u001b[0mself\u001b[0m\u001b[0;34m.\u001b[0m\u001b[0mastype\u001b[0m\u001b[0;34m(\u001b[0m\u001b[0mobject\u001b[0m\u001b[0;34m)\u001b[0m\u001b[0;34m.\u001b[0m\u001b[0mvalues\u001b[0m\u001b[0;34m\u001b[0m\u001b[0;34m\u001b[0m\u001b[0m\n\u001b[0;32m-> 4045\u001b[0;31m                 \u001b[0mmapped\u001b[0m \u001b[0;34m=\u001b[0m \u001b[0mlib\u001b[0m\u001b[0;34m.\u001b[0m\u001b[0mmap_infer\u001b[0m\u001b[0;34m(\u001b[0m\u001b[0mvalues\u001b[0m\u001b[0;34m,\u001b[0m \u001b[0mf\u001b[0m\u001b[0;34m,\u001b[0m \u001b[0mconvert\u001b[0m\u001b[0;34m=\u001b[0m\u001b[0mconvert_dtype\u001b[0m\u001b[0;34m)\u001b[0m\u001b[0;34m\u001b[0m\u001b[0;34m\u001b[0m\u001b[0m\n\u001b[0m\u001b[1;32m   4046\u001b[0m \u001b[0;34m\u001b[0m\u001b[0m\n\u001b[1;32m   4047\u001b[0m         \u001b[0;32mif\u001b[0m \u001b[0mlen\u001b[0m\u001b[0;34m(\u001b[0m\u001b[0mmapped\u001b[0m\u001b[0;34m)\u001b[0m \u001b[0;32mand\u001b[0m \u001b[0misinstance\u001b[0m\u001b[0;34m(\u001b[0m\u001b[0mmapped\u001b[0m\u001b[0;34m[\u001b[0m\u001b[0;36m0\u001b[0m\u001b[0;34m]\u001b[0m\u001b[0;34m,\u001b[0m \u001b[0mSeries\u001b[0m\u001b[0;34m)\u001b[0m\u001b[0;34m:\u001b[0m\u001b[0;34m\u001b[0m\u001b[0;34m\u001b[0m\u001b[0m\n",
      "\u001b[0;32mpandas/_libs/lib.pyx\u001b[0m in \u001b[0;36mpandas._libs.lib.map_infer\u001b[0;34m()\u001b[0m\n",
      "\u001b[0;32m<ipython-input-195-cc6ccfcebd5c>\u001b[0m in \u001b[0;36m<lambda>\u001b[0;34m(d)\u001b[0m\n\u001b[1;32m      1\u001b[0m \u001b[0;32mimport\u001b[0m \u001b[0mast\u001b[0m\u001b[0;34m\u001b[0m\u001b[0;34m\u001b[0m\u001b[0m\n\u001b[1;32m      2\u001b[0m \u001b[0;34m\u001b[0m\u001b[0m\n\u001b[0;32m----> 3\u001b[0;31m \u001b[0mtm\u001b[0m\u001b[0;34m.\u001b[0m\u001b[0mgenres\u001b[0m \u001b[0;34m=\u001b[0m \u001b[0mtm\u001b[0m\u001b[0;34m.\u001b[0m\u001b[0mgenres\u001b[0m\u001b[0;34m.\u001b[0m\u001b[0mapply\u001b[0m\u001b[0;34m(\u001b[0m\u001b[0;32mlambda\u001b[0m \u001b[0md\u001b[0m \u001b[0;34m:\u001b[0m \u001b[0;34m[\u001b[0m\u001b[0mx\u001b[0m\u001b[0;34m[\u001b[0m\u001b[0;34m'name'\u001b[0m\u001b[0;34m]\u001b[0m \u001b[0;32mfor\u001b[0m \u001b[0mx\u001b[0m \u001b[0;32min\u001b[0m \u001b[0mast\u001b[0m\u001b[0;34m.\u001b[0m\u001b[0mliteral_eval\u001b[0m\u001b[0;34m(\u001b[0m\u001b[0md\u001b[0m\u001b[0;34m)\u001b[0m\u001b[0;34m]\u001b[0m\u001b[0;34m)\u001b[0m\u001b[0;34m\u001b[0m\u001b[0;34m\u001b[0m\u001b[0m\n\u001b[0m",
      "\u001b[0;32m/Users/mion/opt/anaconda3/lib/python3.7/ast.py\u001b[0m in \u001b[0;36mliteral_eval\u001b[0;34m(node_or_string)\u001b[0m\n\u001b[1;32m     89\u001b[0m                     \u001b[0;32mreturn\u001b[0m \u001b[0mleft\u001b[0m \u001b[0;34m-\u001b[0m \u001b[0mright\u001b[0m\u001b[0;34m\u001b[0m\u001b[0;34m\u001b[0m\u001b[0m\n\u001b[1;32m     90\u001b[0m         \u001b[0;32mreturn\u001b[0m \u001b[0m_convert_signed_num\u001b[0m\u001b[0;34m(\u001b[0m\u001b[0mnode\u001b[0m\u001b[0;34m)\u001b[0m\u001b[0;34m\u001b[0m\u001b[0;34m\u001b[0m\u001b[0m\n\u001b[0;32m---> 91\u001b[0;31m     \u001b[0;32mreturn\u001b[0m \u001b[0m_convert\u001b[0m\u001b[0;34m(\u001b[0m\u001b[0mnode_or_string\u001b[0m\u001b[0;34m)\u001b[0m\u001b[0;34m\u001b[0m\u001b[0;34m\u001b[0m\u001b[0m\n\u001b[0m\u001b[1;32m     92\u001b[0m \u001b[0;34m\u001b[0m\u001b[0m\n\u001b[1;32m     93\u001b[0m \u001b[0;34m\u001b[0m\u001b[0m\n",
      "\u001b[0;32m/Users/mion/opt/anaconda3/lib/python3.7/ast.py\u001b[0m in \u001b[0;36m_convert\u001b[0;34m(node)\u001b[0m\n\u001b[1;32m     88\u001b[0m                 \u001b[0;32melse\u001b[0m\u001b[0;34m:\u001b[0m\u001b[0;34m\u001b[0m\u001b[0;34m\u001b[0m\u001b[0m\n\u001b[1;32m     89\u001b[0m                     \u001b[0;32mreturn\u001b[0m \u001b[0mleft\u001b[0m \u001b[0;34m-\u001b[0m \u001b[0mright\u001b[0m\u001b[0;34m\u001b[0m\u001b[0;34m\u001b[0m\u001b[0m\n\u001b[0;32m---> 90\u001b[0;31m         \u001b[0;32mreturn\u001b[0m \u001b[0m_convert_signed_num\u001b[0m\u001b[0;34m(\u001b[0m\u001b[0mnode\u001b[0m\u001b[0;34m)\u001b[0m\u001b[0;34m\u001b[0m\u001b[0;34m\u001b[0m\u001b[0m\n\u001b[0m\u001b[1;32m     91\u001b[0m     \u001b[0;32mreturn\u001b[0m \u001b[0m_convert\u001b[0m\u001b[0;34m(\u001b[0m\u001b[0mnode_or_string\u001b[0m\u001b[0;34m)\u001b[0m\u001b[0;34m\u001b[0m\u001b[0;34m\u001b[0m\u001b[0m\n\u001b[1;32m     92\u001b[0m \u001b[0;34m\u001b[0m\u001b[0m\n",
      "\u001b[0;32m/Users/mion/opt/anaconda3/lib/python3.7/ast.py\u001b[0m in \u001b[0;36m_convert_signed_num\u001b[0;34m(node)\u001b[0m\n\u001b[1;32m     61\u001b[0m             \u001b[0;32melse\u001b[0m\u001b[0;34m:\u001b[0m\u001b[0;34m\u001b[0m\u001b[0;34m\u001b[0m\u001b[0m\n\u001b[1;32m     62\u001b[0m                 \u001b[0;32mreturn\u001b[0m \u001b[0;34m-\u001b[0m \u001b[0moperand\u001b[0m\u001b[0;34m\u001b[0m\u001b[0;34m\u001b[0m\u001b[0m\n\u001b[0;32m---> 63\u001b[0;31m         \u001b[0;32mreturn\u001b[0m \u001b[0m_convert_num\u001b[0m\u001b[0;34m(\u001b[0m\u001b[0mnode\u001b[0m\u001b[0;34m)\u001b[0m\u001b[0;34m\u001b[0m\u001b[0;34m\u001b[0m\u001b[0m\n\u001b[0m\u001b[1;32m     64\u001b[0m     \u001b[0;32mdef\u001b[0m \u001b[0m_convert\u001b[0m\u001b[0;34m(\u001b[0m\u001b[0mnode\u001b[0m\u001b[0;34m)\u001b[0m\u001b[0;34m:\u001b[0m\u001b[0;34m\u001b[0m\u001b[0;34m\u001b[0m\u001b[0m\n\u001b[1;32m     65\u001b[0m         \u001b[0;32mif\u001b[0m \u001b[0misinstance\u001b[0m\u001b[0;34m(\u001b[0m\u001b[0mnode\u001b[0m\u001b[0;34m,\u001b[0m \u001b[0mConstant\u001b[0m\u001b[0;34m)\u001b[0m\u001b[0;34m:\u001b[0m\u001b[0;34m\u001b[0m\u001b[0;34m\u001b[0m\u001b[0m\n",
      "\u001b[0;32m/Users/mion/opt/anaconda3/lib/python3.7/ast.py\u001b[0m in \u001b[0;36m_convert_num\u001b[0;34m(node)\u001b[0m\n\u001b[1;32m     53\u001b[0m         \u001b[0;32melif\u001b[0m \u001b[0misinstance\u001b[0m\u001b[0;34m(\u001b[0m\u001b[0mnode\u001b[0m\u001b[0;34m,\u001b[0m \u001b[0mNum\u001b[0m\u001b[0;34m)\u001b[0m\u001b[0;34m:\u001b[0m\u001b[0;34m\u001b[0m\u001b[0;34m\u001b[0m\u001b[0m\n\u001b[1;32m     54\u001b[0m             \u001b[0;32mreturn\u001b[0m \u001b[0mnode\u001b[0m\u001b[0;34m.\u001b[0m\u001b[0mn\u001b[0m\u001b[0;34m\u001b[0m\u001b[0;34m\u001b[0m\u001b[0m\n\u001b[0;32m---> 55\u001b[0;31m         \u001b[0;32mraise\u001b[0m \u001b[0mValueError\u001b[0m\u001b[0;34m(\u001b[0m\u001b[0;34m'malformed node or string: '\u001b[0m \u001b[0;34m+\u001b[0m \u001b[0mrepr\u001b[0m\u001b[0;34m(\u001b[0m\u001b[0mnode\u001b[0m\u001b[0;34m)\u001b[0m\u001b[0;34m)\u001b[0m\u001b[0;34m\u001b[0m\u001b[0;34m\u001b[0m\u001b[0m\n\u001b[0m\u001b[1;32m     56\u001b[0m     \u001b[0;32mdef\u001b[0m \u001b[0m_convert_signed_num\u001b[0m\u001b[0;34m(\u001b[0m\u001b[0mnode\u001b[0m\u001b[0;34m)\u001b[0m\u001b[0;34m:\u001b[0m\u001b[0;34m\u001b[0m\u001b[0;34m\u001b[0m\u001b[0m\n\u001b[1;32m     57\u001b[0m         \u001b[0;32mif\u001b[0m \u001b[0misinstance\u001b[0m\u001b[0;34m(\u001b[0m\u001b[0mnode\u001b[0m\u001b[0;34m,\u001b[0m \u001b[0mUnaryOp\u001b[0m\u001b[0;34m)\u001b[0m \u001b[0;32mand\u001b[0m \u001b[0misinstance\u001b[0m\u001b[0;34m(\u001b[0m\u001b[0mnode\u001b[0m\u001b[0;34m.\u001b[0m\u001b[0mop\u001b[0m\u001b[0;34m,\u001b[0m \u001b[0;34m(\u001b[0m\u001b[0mUAdd\u001b[0m\u001b[0;34m,\u001b[0m \u001b[0mUSub\u001b[0m\u001b[0;34m)\u001b[0m\u001b[0;34m)\u001b[0m\u001b[0;34m:\u001b[0m\u001b[0;34m\u001b[0m\u001b[0;34m\u001b[0m\u001b[0m\n",
      "\u001b[0;31mValueError\u001b[0m: malformed node or string: ['Action', 'Adventure', 'Fantasy', 'Science Fiction']"
     ]
    }
   ],
   "source": [
    "import ast\n",
    "\n",
    "tm.genres = tm.genres.apply(lambda d : [x['name'] for x in ast.literal_eval(d)])"
   ]
  },
  {
   "cell_type": "code",
   "execution_count": 196,
   "metadata": {},
   "outputs": [
    {
     "data": {
      "application/vnd.plotly.v1+json": {
       "config": {
        "plotlyServerURL": "https://plot.ly"
       },
       "data": [
        {
         "hoverlabel": {
          "namelength": 0
         },
         "hovertemplate": "genres=%{x}<br>revenue=%{y}<br>popularity=%{marker.color}",
         "legendgroup": "",
         "marker": {
          "color": [
           64.7374591,
           85.36695513636363,
           50.048620250000006,
           61.15606585714286,
           53.538383166666655,
           30.373473363636364,
           45.76347057142857,
           64.09404491666668,
           24.851399199999996,
           40.53754,
           48.3949864,
           31.722573399999998,
           78.19001069999999,
           38.64534847368421,
           32.057961,
           15.333575
          ],
          "coloraxis": "coloraxis",
          "size": [
           64.7374591,
           85.36695513636363,
           50.048620250000006,
           61.15606585714286,
           53.538383166666655,
           30.373473363636364,
           45.76347057142857,
           64.09404491666668,
           24.851399199999996,
           40.53754,
           48.3949864,
           31.722573399999998,
           78.19001069999999,
           38.64534847368421,
           32.057961,
           15.333575
          ],
          "sizemode": "area",
          "sizeref": 0.02371304309343434,
          "symbol": "circle"
         },
         "mode": "markers",
         "name": "",
         "showlegend": false,
         "type": "scatter",
         "x": [
          "Action",
          "Adventure",
          "Animation",
          "Comedy",
          "Crime",
          "Drama",
          "Family",
          "Fantasy",
          "History",
          "Horror",
          "Mystery",
          "Romance",
          "Science Fiction",
          "Thriller",
          "War",
          "Western"
         ],
         "xaxis": "x",
         "y": [
          274157777.1333333,
          383120180.45454544,
          471915323.25,
          168378927.66666666,
          231336712.16666666,
          102068462.9090909,
          447060493.4285714,
          383731748.6666667,
          44939842,
          76778295.63636364,
          117373723,
          89350193.2,
          365604497.6,
          93226291.42105263,
          47223660,
          1397284
         ],
         "yaxis": "y"
        }
       ],
       "layout": {
        "coloraxis": {
         "colorbar": {
          "title": {
           "text": "popularity"
          }
         },
         "colorscale": [
          [
           0,
           "#0d0887"
          ],
          [
           0.1111111111111111,
           "#46039f"
          ],
          [
           0.2222222222222222,
           "#7201a8"
          ],
          [
           0.3333333333333333,
           "#9c179e"
          ],
          [
           0.4444444444444444,
           "#bd3786"
          ],
          [
           0.5555555555555556,
           "#d8576b"
          ],
          [
           0.6666666666666666,
           "#ed7953"
          ],
          [
           0.7777777777777778,
           "#fb9f3a"
          ],
          [
           0.8888888888888888,
           "#fdca26"
          ],
          [
           1,
           "#f0f921"
          ]
         ]
        },
        "legend": {
         "itemsizing": "constant",
         "tracegroupgap": 0
        },
        "template": {
         "data": {
          "bar": [
           {
            "error_x": {
             "color": "#2a3f5f"
            },
            "error_y": {
             "color": "#2a3f5f"
            },
            "marker": {
             "line": {
              "color": "#E5ECF6",
              "width": 0.5
             }
            },
            "type": "bar"
           }
          ],
          "barpolar": [
           {
            "marker": {
             "line": {
              "color": "#E5ECF6",
              "width": 0.5
             }
            },
            "type": "barpolar"
           }
          ],
          "carpet": [
           {
            "aaxis": {
             "endlinecolor": "#2a3f5f",
             "gridcolor": "white",
             "linecolor": "white",
             "minorgridcolor": "white",
             "startlinecolor": "#2a3f5f"
            },
            "baxis": {
             "endlinecolor": "#2a3f5f",
             "gridcolor": "white",
             "linecolor": "white",
             "minorgridcolor": "white",
             "startlinecolor": "#2a3f5f"
            },
            "type": "carpet"
           }
          ],
          "choropleth": [
           {
            "colorbar": {
             "outlinewidth": 0,
             "ticks": ""
            },
            "type": "choropleth"
           }
          ],
          "contour": [
           {
            "colorbar": {
             "outlinewidth": 0,
             "ticks": ""
            },
            "colorscale": [
             [
              0,
              "#0d0887"
             ],
             [
              0.1111111111111111,
              "#46039f"
             ],
             [
              0.2222222222222222,
              "#7201a8"
             ],
             [
              0.3333333333333333,
              "#9c179e"
             ],
             [
              0.4444444444444444,
              "#bd3786"
             ],
             [
              0.5555555555555556,
              "#d8576b"
             ],
             [
              0.6666666666666666,
              "#ed7953"
             ],
             [
              0.7777777777777778,
              "#fb9f3a"
             ],
             [
              0.8888888888888888,
              "#fdca26"
             ],
             [
              1,
              "#f0f921"
             ]
            ],
            "type": "contour"
           }
          ],
          "contourcarpet": [
           {
            "colorbar": {
             "outlinewidth": 0,
             "ticks": ""
            },
            "type": "contourcarpet"
           }
          ],
          "heatmap": [
           {
            "colorbar": {
             "outlinewidth": 0,
             "ticks": ""
            },
            "colorscale": [
             [
              0,
              "#0d0887"
             ],
             [
              0.1111111111111111,
              "#46039f"
             ],
             [
              0.2222222222222222,
              "#7201a8"
             ],
             [
              0.3333333333333333,
              "#9c179e"
             ],
             [
              0.4444444444444444,
              "#bd3786"
             ],
             [
              0.5555555555555556,
              "#d8576b"
             ],
             [
              0.6666666666666666,
              "#ed7953"
             ],
             [
              0.7777777777777778,
              "#fb9f3a"
             ],
             [
              0.8888888888888888,
              "#fdca26"
             ],
             [
              1,
              "#f0f921"
             ]
            ],
            "type": "heatmap"
           }
          ],
          "heatmapgl": [
           {
            "colorbar": {
             "outlinewidth": 0,
             "ticks": ""
            },
            "colorscale": [
             [
              0,
              "#0d0887"
             ],
             [
              0.1111111111111111,
              "#46039f"
             ],
             [
              0.2222222222222222,
              "#7201a8"
             ],
             [
              0.3333333333333333,
              "#9c179e"
             ],
             [
              0.4444444444444444,
              "#bd3786"
             ],
             [
              0.5555555555555556,
              "#d8576b"
             ],
             [
              0.6666666666666666,
              "#ed7953"
             ],
             [
              0.7777777777777778,
              "#fb9f3a"
             ],
             [
              0.8888888888888888,
              "#fdca26"
             ],
             [
              1,
              "#f0f921"
             ]
            ],
            "type": "heatmapgl"
           }
          ],
          "histogram": [
           {
            "marker": {
             "colorbar": {
              "outlinewidth": 0,
              "ticks": ""
             }
            },
            "type": "histogram"
           }
          ],
          "histogram2d": [
           {
            "colorbar": {
             "outlinewidth": 0,
             "ticks": ""
            },
            "colorscale": [
             [
              0,
              "#0d0887"
             ],
             [
              0.1111111111111111,
              "#46039f"
             ],
             [
              0.2222222222222222,
              "#7201a8"
             ],
             [
              0.3333333333333333,
              "#9c179e"
             ],
             [
              0.4444444444444444,
              "#bd3786"
             ],
             [
              0.5555555555555556,
              "#d8576b"
             ],
             [
              0.6666666666666666,
              "#ed7953"
             ],
             [
              0.7777777777777778,
              "#fb9f3a"
             ],
             [
              0.8888888888888888,
              "#fdca26"
             ],
             [
              1,
              "#f0f921"
             ]
            ],
            "type": "histogram2d"
           }
          ],
          "histogram2dcontour": [
           {
            "colorbar": {
             "outlinewidth": 0,
             "ticks": ""
            },
            "colorscale": [
             [
              0,
              "#0d0887"
             ],
             [
              0.1111111111111111,
              "#46039f"
             ],
             [
              0.2222222222222222,
              "#7201a8"
             ],
             [
              0.3333333333333333,
              "#9c179e"
             ],
             [
              0.4444444444444444,
              "#bd3786"
             ],
             [
              0.5555555555555556,
              "#d8576b"
             ],
             [
              0.6666666666666666,
              "#ed7953"
             ],
             [
              0.7777777777777778,
              "#fb9f3a"
             ],
             [
              0.8888888888888888,
              "#fdca26"
             ],
             [
              1,
              "#f0f921"
             ]
            ],
            "type": "histogram2dcontour"
           }
          ],
          "mesh3d": [
           {
            "colorbar": {
             "outlinewidth": 0,
             "ticks": ""
            },
            "type": "mesh3d"
           }
          ],
          "parcoords": [
           {
            "line": {
             "colorbar": {
              "outlinewidth": 0,
              "ticks": ""
             }
            },
            "type": "parcoords"
           }
          ],
          "pie": [
           {
            "automargin": true,
            "type": "pie"
           }
          ],
          "scatter": [
           {
            "marker": {
             "colorbar": {
              "outlinewidth": 0,
              "ticks": ""
             }
            },
            "type": "scatter"
           }
          ],
          "scatter3d": [
           {
            "line": {
             "colorbar": {
              "outlinewidth": 0,
              "ticks": ""
             }
            },
            "marker": {
             "colorbar": {
              "outlinewidth": 0,
              "ticks": ""
             }
            },
            "type": "scatter3d"
           }
          ],
          "scattercarpet": [
           {
            "marker": {
             "colorbar": {
              "outlinewidth": 0,
              "ticks": ""
             }
            },
            "type": "scattercarpet"
           }
          ],
          "scattergeo": [
           {
            "marker": {
             "colorbar": {
              "outlinewidth": 0,
              "ticks": ""
             }
            },
            "type": "scattergeo"
           }
          ],
          "scattergl": [
           {
            "marker": {
             "colorbar": {
              "outlinewidth": 0,
              "ticks": ""
             }
            },
            "type": "scattergl"
           }
          ],
          "scattermapbox": [
           {
            "marker": {
             "colorbar": {
              "outlinewidth": 0,
              "ticks": ""
             }
            },
            "type": "scattermapbox"
           }
          ],
          "scatterpolar": [
           {
            "marker": {
             "colorbar": {
              "outlinewidth": 0,
              "ticks": ""
             }
            },
            "type": "scatterpolar"
           }
          ],
          "scatterpolargl": [
           {
            "marker": {
             "colorbar": {
              "outlinewidth": 0,
              "ticks": ""
             }
            },
            "type": "scatterpolargl"
           }
          ],
          "scatterternary": [
           {
            "marker": {
             "colorbar": {
              "outlinewidth": 0,
              "ticks": ""
             }
            },
            "type": "scatterternary"
           }
          ],
          "surface": [
           {
            "colorbar": {
             "outlinewidth": 0,
             "ticks": ""
            },
            "colorscale": [
             [
              0,
              "#0d0887"
             ],
             [
              0.1111111111111111,
              "#46039f"
             ],
             [
              0.2222222222222222,
              "#7201a8"
             ],
             [
              0.3333333333333333,
              "#9c179e"
             ],
             [
              0.4444444444444444,
              "#bd3786"
             ],
             [
              0.5555555555555556,
              "#d8576b"
             ],
             [
              0.6666666666666666,
              "#ed7953"
             ],
             [
              0.7777777777777778,
              "#fb9f3a"
             ],
             [
              0.8888888888888888,
              "#fdca26"
             ],
             [
              1,
              "#f0f921"
             ]
            ],
            "type": "surface"
           }
          ],
          "table": [
           {
            "cells": {
             "fill": {
              "color": "#EBF0F8"
             },
             "line": {
              "color": "white"
             }
            },
            "header": {
             "fill": {
              "color": "#C8D4E3"
             },
             "line": {
              "color": "white"
             }
            },
            "type": "table"
           }
          ]
         },
         "layout": {
          "annotationdefaults": {
           "arrowcolor": "#2a3f5f",
           "arrowhead": 0,
           "arrowwidth": 1
          },
          "coloraxis": {
           "colorbar": {
            "outlinewidth": 0,
            "ticks": ""
           }
          },
          "colorscale": {
           "diverging": [
            [
             0,
             "#8e0152"
            ],
            [
             0.1,
             "#c51b7d"
            ],
            [
             0.2,
             "#de77ae"
            ],
            [
             0.3,
             "#f1b6da"
            ],
            [
             0.4,
             "#fde0ef"
            ],
            [
             0.5,
             "#f7f7f7"
            ],
            [
             0.6,
             "#e6f5d0"
            ],
            [
             0.7,
             "#b8e186"
            ],
            [
             0.8,
             "#7fbc41"
            ],
            [
             0.9,
             "#4d9221"
            ],
            [
             1,
             "#276419"
            ]
           ],
           "sequential": [
            [
             0,
             "#0d0887"
            ],
            [
             0.1111111111111111,
             "#46039f"
            ],
            [
             0.2222222222222222,
             "#7201a8"
            ],
            [
             0.3333333333333333,
             "#9c179e"
            ],
            [
             0.4444444444444444,
             "#bd3786"
            ],
            [
             0.5555555555555556,
             "#d8576b"
            ],
            [
             0.6666666666666666,
             "#ed7953"
            ],
            [
             0.7777777777777778,
             "#fb9f3a"
            ],
            [
             0.8888888888888888,
             "#fdca26"
            ],
            [
             1,
             "#f0f921"
            ]
           ],
           "sequentialminus": [
            [
             0,
             "#0d0887"
            ],
            [
             0.1111111111111111,
             "#46039f"
            ],
            [
             0.2222222222222222,
             "#7201a8"
            ],
            [
             0.3333333333333333,
             "#9c179e"
            ],
            [
             0.4444444444444444,
             "#bd3786"
            ],
            [
             0.5555555555555556,
             "#d8576b"
            ],
            [
             0.6666666666666666,
             "#ed7953"
            ],
            [
             0.7777777777777778,
             "#fb9f3a"
            ],
            [
             0.8888888888888888,
             "#fdca26"
            ],
            [
             1,
             "#f0f921"
            ]
           ]
          },
          "colorway": [
           "#636efa",
           "#EF553B",
           "#00cc96",
           "#ab63fa",
           "#FFA15A",
           "#19d3f3",
           "#FF6692",
           "#B6E880",
           "#FF97FF",
           "#FECB52"
          ],
          "font": {
           "color": "#2a3f5f"
          },
          "geo": {
           "bgcolor": "white",
           "lakecolor": "white",
           "landcolor": "#E5ECF6",
           "showlakes": true,
           "showland": true,
           "subunitcolor": "white"
          },
          "hoverlabel": {
           "align": "left"
          },
          "hovermode": "closest",
          "mapbox": {
           "style": "light"
          },
          "paper_bgcolor": "white",
          "plot_bgcolor": "#E5ECF6",
          "polar": {
           "angularaxis": {
            "gridcolor": "white",
            "linecolor": "white",
            "ticks": ""
           },
           "bgcolor": "#E5ECF6",
           "radialaxis": {
            "gridcolor": "white",
            "linecolor": "white",
            "ticks": ""
           }
          },
          "scene": {
           "xaxis": {
            "backgroundcolor": "#E5ECF6",
            "gridcolor": "white",
            "gridwidth": 2,
            "linecolor": "white",
            "showbackground": true,
            "ticks": "",
            "zerolinecolor": "white"
           },
           "yaxis": {
            "backgroundcolor": "#E5ECF6",
            "gridcolor": "white",
            "gridwidth": 2,
            "linecolor": "white",
            "showbackground": true,
            "ticks": "",
            "zerolinecolor": "white"
           },
           "zaxis": {
            "backgroundcolor": "#E5ECF6",
            "gridcolor": "white",
            "gridwidth": 2,
            "linecolor": "white",
            "showbackground": true,
            "ticks": "",
            "zerolinecolor": "white"
           }
          },
          "shapedefaults": {
           "line": {
            "color": "#2a3f5f"
           }
          },
          "ternary": {
           "aaxis": {
            "gridcolor": "white",
            "linecolor": "white",
            "ticks": ""
           },
           "baxis": {
            "gridcolor": "white",
            "linecolor": "white",
            "ticks": ""
           },
           "bgcolor": "#E5ECF6",
           "caxis": {
            "gridcolor": "white",
            "linecolor": "white",
            "ticks": ""
           }
          },
          "title": {
           "x": 0.05
          },
          "xaxis": {
           "automargin": true,
           "gridcolor": "white",
           "linecolor": "white",
           "ticks": "",
           "title": {
            "standoff": 15
           },
           "zerolinecolor": "white",
           "zerolinewidth": 2
          },
          "yaxis": {
           "automargin": true,
           "gridcolor": "white",
           "linecolor": "white",
           "ticks": "",
           "title": {
            "standoff": 15
           },
           "zerolinecolor": "white",
           "zerolinewidth": 2
          }
         }
        },
        "title": {
         "text": "2016"
        },
        "xaxis": {
         "anchor": "y",
         "domain": [
          0,
          1
         ],
         "title": {
          "text": "genres"
         }
        },
        "yaxis": {
         "anchor": "x",
         "domain": [
          0,
          1
         ],
         "title": {
          "text": "revenue"
         },
         "type": "log"
        }
       }
      },
      "text/html": [
       "<div>\n",
       "        \n",
       "        \n",
       "            <div id=\"3c60f057-5c57-4e69-ab30-ed9c2582d961\" class=\"plotly-graph-div\" style=\"height:525px; width:100%;\"></div>\n",
       "            <script type=\"text/javascript\">\n",
       "                require([\"plotly\"], function(Plotly) {\n",
       "                    window.PLOTLYENV=window.PLOTLYENV || {};\n",
       "                    \n",
       "                if (document.getElementById(\"3c60f057-5c57-4e69-ab30-ed9c2582d961\")) {\n",
       "                    Plotly.newPlot(\n",
       "                        '3c60f057-5c57-4e69-ab30-ed9c2582d961',\n",
       "                        [{\"hoverlabel\": {\"namelength\": 0}, \"hovertemplate\": \"genres=%{x}<br>revenue=%{y}<br>popularity=%{marker.color}\", \"legendgroup\": \"\", \"marker\": {\"color\": [64.7374591, 85.36695513636363, 50.048620250000006, 61.15606585714286, 53.538383166666655, 30.373473363636364, 45.76347057142857, 64.09404491666668, 24.851399199999996, 40.53754, 48.3949864, 31.722573399999998, 78.19001069999999, 38.64534847368421, 32.057961, 15.333575], \"coloraxis\": \"coloraxis\", \"size\": [64.7374591, 85.36695513636363, 50.048620250000006, 61.15606585714286, 53.538383166666655, 30.373473363636364, 45.76347057142857, 64.09404491666668, 24.851399199999996, 40.53754, 48.3949864, 31.722573399999998, 78.19001069999999, 38.64534847368421, 32.057961, 15.333575], \"sizemode\": \"area\", \"sizeref\": 0.02371304309343434, \"symbol\": \"circle\"}, \"mode\": \"markers\", \"name\": \"\", \"showlegend\": false, \"type\": \"scatter\", \"x\": [\"Action\", \"Adventure\", \"Animation\", \"Comedy\", \"Crime\", \"Drama\", \"Family\", \"Fantasy\", \"History\", \"Horror\", \"Mystery\", \"Romance\", \"Science Fiction\", \"Thriller\", \"War\", \"Western\"], \"xaxis\": \"x\", \"y\": [274157777.1333333, 383120180.45454544, 471915323.25, 168378927.66666666, 231336712.16666666, 102068462.9090909, 447060493.4285714, 383731748.6666667, 44939842.0, 76778295.63636364, 117373723.0, 89350193.2, 365604497.6, 93226291.42105263, 47223660.0, 1397284.0], \"yaxis\": \"y\"}],\n",
       "                        {\"coloraxis\": {\"colorbar\": {\"title\": {\"text\": \"popularity\"}}, \"colorscale\": [[0.0, \"#0d0887\"], [0.1111111111111111, \"#46039f\"], [0.2222222222222222, \"#7201a8\"], [0.3333333333333333, \"#9c179e\"], [0.4444444444444444, \"#bd3786\"], [0.5555555555555556, \"#d8576b\"], [0.6666666666666666, \"#ed7953\"], [0.7777777777777778, \"#fb9f3a\"], [0.8888888888888888, \"#fdca26\"], [1.0, \"#f0f921\"]]}, \"legend\": {\"itemsizing\": \"constant\", \"tracegroupgap\": 0}, \"template\": {\"data\": {\"bar\": [{\"error_x\": {\"color\": \"#2a3f5f\"}, \"error_y\": {\"color\": \"#2a3f5f\"}, \"marker\": {\"line\": {\"color\": \"#E5ECF6\", \"width\": 0.5}}, \"type\": \"bar\"}], \"barpolar\": [{\"marker\": {\"line\": {\"color\": \"#E5ECF6\", \"width\": 0.5}}, \"type\": \"barpolar\"}], \"carpet\": [{\"aaxis\": {\"endlinecolor\": \"#2a3f5f\", \"gridcolor\": \"white\", \"linecolor\": \"white\", \"minorgridcolor\": \"white\", \"startlinecolor\": \"#2a3f5f\"}, \"baxis\": {\"endlinecolor\": \"#2a3f5f\", \"gridcolor\": \"white\", \"linecolor\": \"white\", \"minorgridcolor\": \"white\", \"startlinecolor\": \"#2a3f5f\"}, \"type\": \"carpet\"}], \"choropleth\": [{\"colorbar\": {\"outlinewidth\": 0, \"ticks\": \"\"}, \"type\": \"choropleth\"}], \"contour\": [{\"colorbar\": {\"outlinewidth\": 0, \"ticks\": \"\"}, \"colorscale\": [[0.0, \"#0d0887\"], [0.1111111111111111, \"#46039f\"], [0.2222222222222222, \"#7201a8\"], [0.3333333333333333, \"#9c179e\"], [0.4444444444444444, \"#bd3786\"], [0.5555555555555556, \"#d8576b\"], [0.6666666666666666, \"#ed7953\"], [0.7777777777777778, \"#fb9f3a\"], [0.8888888888888888, \"#fdca26\"], [1.0, \"#f0f921\"]], \"type\": \"contour\"}], \"contourcarpet\": [{\"colorbar\": {\"outlinewidth\": 0, \"ticks\": \"\"}, \"type\": \"contourcarpet\"}], \"heatmap\": [{\"colorbar\": {\"outlinewidth\": 0, \"ticks\": \"\"}, \"colorscale\": [[0.0, \"#0d0887\"], [0.1111111111111111, \"#46039f\"], [0.2222222222222222, \"#7201a8\"], [0.3333333333333333, \"#9c179e\"], [0.4444444444444444, \"#bd3786\"], [0.5555555555555556, \"#d8576b\"], [0.6666666666666666, \"#ed7953\"], [0.7777777777777778, \"#fb9f3a\"], [0.8888888888888888, \"#fdca26\"], [1.0, \"#f0f921\"]], \"type\": \"heatmap\"}], \"heatmapgl\": [{\"colorbar\": {\"outlinewidth\": 0, \"ticks\": \"\"}, \"colorscale\": [[0.0, \"#0d0887\"], [0.1111111111111111, \"#46039f\"], [0.2222222222222222, \"#7201a8\"], [0.3333333333333333, \"#9c179e\"], [0.4444444444444444, \"#bd3786\"], [0.5555555555555556, \"#d8576b\"], [0.6666666666666666, \"#ed7953\"], [0.7777777777777778, \"#fb9f3a\"], [0.8888888888888888, \"#fdca26\"], [1.0, \"#f0f921\"]], \"type\": \"heatmapgl\"}], \"histogram\": [{\"marker\": {\"colorbar\": {\"outlinewidth\": 0, \"ticks\": \"\"}}, \"type\": \"histogram\"}], \"histogram2d\": [{\"colorbar\": {\"outlinewidth\": 0, \"ticks\": \"\"}, \"colorscale\": [[0.0, \"#0d0887\"], [0.1111111111111111, \"#46039f\"], [0.2222222222222222, \"#7201a8\"], [0.3333333333333333, \"#9c179e\"], [0.4444444444444444, \"#bd3786\"], [0.5555555555555556, \"#d8576b\"], [0.6666666666666666, \"#ed7953\"], [0.7777777777777778, \"#fb9f3a\"], [0.8888888888888888, \"#fdca26\"], [1.0, \"#f0f921\"]], \"type\": \"histogram2d\"}], \"histogram2dcontour\": [{\"colorbar\": {\"outlinewidth\": 0, \"ticks\": \"\"}, \"colorscale\": [[0.0, \"#0d0887\"], [0.1111111111111111, \"#46039f\"], [0.2222222222222222, \"#7201a8\"], [0.3333333333333333, \"#9c179e\"], [0.4444444444444444, \"#bd3786\"], [0.5555555555555556, \"#d8576b\"], [0.6666666666666666, \"#ed7953\"], [0.7777777777777778, \"#fb9f3a\"], [0.8888888888888888, \"#fdca26\"], [1.0, \"#f0f921\"]], \"type\": \"histogram2dcontour\"}], \"mesh3d\": [{\"colorbar\": {\"outlinewidth\": 0, \"ticks\": \"\"}, \"type\": \"mesh3d\"}], \"parcoords\": [{\"line\": {\"colorbar\": {\"outlinewidth\": 0, \"ticks\": \"\"}}, \"type\": \"parcoords\"}], \"pie\": [{\"automargin\": true, \"type\": \"pie\"}], \"scatter\": [{\"marker\": {\"colorbar\": {\"outlinewidth\": 0, \"ticks\": \"\"}}, \"type\": \"scatter\"}], \"scatter3d\": [{\"line\": {\"colorbar\": {\"outlinewidth\": 0, \"ticks\": \"\"}}, \"marker\": {\"colorbar\": {\"outlinewidth\": 0, \"ticks\": \"\"}}, \"type\": \"scatter3d\"}], \"scattercarpet\": [{\"marker\": {\"colorbar\": {\"outlinewidth\": 0, \"ticks\": \"\"}}, \"type\": \"scattercarpet\"}], \"scattergeo\": [{\"marker\": {\"colorbar\": {\"outlinewidth\": 0, \"ticks\": \"\"}}, \"type\": \"scattergeo\"}], \"scattergl\": [{\"marker\": {\"colorbar\": {\"outlinewidth\": 0, \"ticks\": \"\"}}, \"type\": \"scattergl\"}], \"scattermapbox\": [{\"marker\": {\"colorbar\": {\"outlinewidth\": 0, \"ticks\": \"\"}}, \"type\": \"scattermapbox\"}], \"scatterpolar\": [{\"marker\": {\"colorbar\": {\"outlinewidth\": 0, \"ticks\": \"\"}}, \"type\": \"scatterpolar\"}], \"scatterpolargl\": [{\"marker\": {\"colorbar\": {\"outlinewidth\": 0, \"ticks\": \"\"}}, \"type\": \"scatterpolargl\"}], \"scatterternary\": [{\"marker\": {\"colorbar\": {\"outlinewidth\": 0, \"ticks\": \"\"}}, \"type\": \"scatterternary\"}], \"surface\": [{\"colorbar\": {\"outlinewidth\": 0, \"ticks\": \"\"}, \"colorscale\": [[0.0, \"#0d0887\"], [0.1111111111111111, \"#46039f\"], [0.2222222222222222, \"#7201a8\"], [0.3333333333333333, \"#9c179e\"], [0.4444444444444444, \"#bd3786\"], [0.5555555555555556, \"#d8576b\"], [0.6666666666666666, \"#ed7953\"], [0.7777777777777778, \"#fb9f3a\"], [0.8888888888888888, \"#fdca26\"], [1.0, \"#f0f921\"]], \"type\": \"surface\"}], \"table\": [{\"cells\": {\"fill\": {\"color\": \"#EBF0F8\"}, \"line\": {\"color\": \"white\"}}, \"header\": {\"fill\": {\"color\": \"#C8D4E3\"}, \"line\": {\"color\": \"white\"}}, \"type\": \"table\"}]}, \"layout\": {\"annotationdefaults\": {\"arrowcolor\": \"#2a3f5f\", \"arrowhead\": 0, \"arrowwidth\": 1}, \"coloraxis\": {\"colorbar\": {\"outlinewidth\": 0, \"ticks\": \"\"}}, \"colorscale\": {\"diverging\": [[0, \"#8e0152\"], [0.1, \"#c51b7d\"], [0.2, \"#de77ae\"], [0.3, \"#f1b6da\"], [0.4, \"#fde0ef\"], [0.5, \"#f7f7f7\"], [0.6, \"#e6f5d0\"], [0.7, \"#b8e186\"], [0.8, \"#7fbc41\"], [0.9, \"#4d9221\"], [1, \"#276419\"]], \"sequential\": [[0.0, \"#0d0887\"], [0.1111111111111111, \"#46039f\"], [0.2222222222222222, \"#7201a8\"], [0.3333333333333333, \"#9c179e\"], [0.4444444444444444, \"#bd3786\"], [0.5555555555555556, \"#d8576b\"], [0.6666666666666666, \"#ed7953\"], [0.7777777777777778, \"#fb9f3a\"], [0.8888888888888888, \"#fdca26\"], [1.0, \"#f0f921\"]], \"sequentialminus\": [[0.0, \"#0d0887\"], [0.1111111111111111, \"#46039f\"], [0.2222222222222222, \"#7201a8\"], [0.3333333333333333, \"#9c179e\"], [0.4444444444444444, \"#bd3786\"], [0.5555555555555556, \"#d8576b\"], [0.6666666666666666, \"#ed7953\"], [0.7777777777777778, \"#fb9f3a\"], [0.8888888888888888, \"#fdca26\"], [1.0, \"#f0f921\"]]}, \"colorway\": [\"#636efa\", \"#EF553B\", \"#00cc96\", \"#ab63fa\", \"#FFA15A\", \"#19d3f3\", \"#FF6692\", \"#B6E880\", \"#FF97FF\", \"#FECB52\"], \"font\": {\"color\": \"#2a3f5f\"}, \"geo\": {\"bgcolor\": \"white\", \"lakecolor\": \"white\", \"landcolor\": \"#E5ECF6\", \"showlakes\": true, \"showland\": true, \"subunitcolor\": \"white\"}, \"hoverlabel\": {\"align\": \"left\"}, \"hovermode\": \"closest\", \"mapbox\": {\"style\": \"light\"}, \"paper_bgcolor\": \"white\", \"plot_bgcolor\": \"#E5ECF6\", \"polar\": {\"angularaxis\": {\"gridcolor\": \"white\", \"linecolor\": \"white\", \"ticks\": \"\"}, \"bgcolor\": \"#E5ECF6\", \"radialaxis\": {\"gridcolor\": \"white\", \"linecolor\": \"white\", \"ticks\": \"\"}}, \"scene\": {\"xaxis\": {\"backgroundcolor\": \"#E5ECF6\", \"gridcolor\": \"white\", \"gridwidth\": 2, \"linecolor\": \"white\", \"showbackground\": true, \"ticks\": \"\", \"zerolinecolor\": \"white\"}, \"yaxis\": {\"backgroundcolor\": \"#E5ECF6\", \"gridcolor\": \"white\", \"gridwidth\": 2, \"linecolor\": \"white\", \"showbackground\": true, \"ticks\": \"\", \"zerolinecolor\": \"white\"}, \"zaxis\": {\"backgroundcolor\": \"#E5ECF6\", \"gridcolor\": \"white\", \"gridwidth\": 2, \"linecolor\": \"white\", \"showbackground\": true, \"ticks\": \"\", \"zerolinecolor\": \"white\"}}, \"shapedefaults\": {\"line\": {\"color\": \"#2a3f5f\"}}, \"ternary\": {\"aaxis\": {\"gridcolor\": \"white\", \"linecolor\": \"white\", \"ticks\": \"\"}, \"baxis\": {\"gridcolor\": \"white\", \"linecolor\": \"white\", \"ticks\": \"\"}, \"bgcolor\": \"#E5ECF6\", \"caxis\": {\"gridcolor\": \"white\", \"linecolor\": \"white\", \"ticks\": \"\"}}, \"title\": {\"x\": 0.05}, \"xaxis\": {\"automargin\": true, \"gridcolor\": \"white\", \"linecolor\": \"white\", \"ticks\": \"\", \"title\": {\"standoff\": 15}, \"zerolinecolor\": \"white\", \"zerolinewidth\": 2}, \"yaxis\": {\"automargin\": true, \"gridcolor\": \"white\", \"linecolor\": \"white\", \"ticks\": \"\", \"title\": {\"standoff\": 15}, \"zerolinecolor\": \"white\", \"zerolinewidth\": 2}}}, \"title\": {\"text\": \"2016\"}, \"xaxis\": {\"anchor\": \"y\", \"domain\": [0.0, 1.0], \"title\": {\"text\": \"genres\"}}, \"yaxis\": {\"anchor\": \"x\", \"domain\": [0.0, 1.0], \"title\": {\"text\": \"revenue\"}, \"type\": \"log\"}},\n",
       "                        {\"responsive\": true}\n",
       "                    ).then(function(){\n",
       "                            \n",
       "var gd = document.getElementById('3c60f057-5c57-4e69-ab30-ed9c2582d961');\n",
       "var x = new MutationObserver(function (mutations, observer) {{\n",
       "        var display = window.getComputedStyle(gd).display;\n",
       "        if (!display || display === 'none') {{\n",
       "            console.log([gd, 'removed!']);\n",
       "            Plotly.purge(gd);\n",
       "            observer.disconnect();\n",
       "        }}\n",
       "}});\n",
       "\n",
       "// Listen for the removal of the full notebook cells\n",
       "var notebookContainer = gd.closest('#notebook-container');\n",
       "if (notebookContainer) {{\n",
       "    x.observe(notebookContainer, {childList: true});\n",
       "}}\n",
       "\n",
       "// Listen for the clearing of the current output cell\n",
       "var outputEl = gd.closest('.output');\n",
       "if (outputEl) {{\n",
       "    x.observe(outputEl, {childList: true});\n",
       "}}\n",
       "\n",
       "                        })\n",
       "                };\n",
       "                });\n",
       "            </script>\n",
       "        </div>"
      ]
     },
     "metadata": {},
     "output_type": "display_data"
    }
   ],
   "source": [
    "import plotly.express as px\n",
    "df = px.data.gapminder()\n",
    "\n",
    "fig = px.scatter(tm.explode('genres').groupby(['realease_year', 'genres']).mean().reset_index().query(\"realease_year==2016\"), x=\"genres\", y=\"revenue\",\n",
    "\t         size=\"popularity\", color=\"popularity\",\n",
    "                log_y=True, size_max=60, title=\"2016\")\n",
    "fig.show()"
   ]
  },
  {
   "cell_type": "code",
   "execution_count": 197,
   "metadata": {},
   "outputs": [
    {
     "data": {
      "text/plain": [
       "count    3.159000e+03\n",
       "mean     1.238399e+08\n",
       "std      1.875258e+08\n",
       "min      6.399000e+03\n",
       "25%      1.837731e+07\n",
       "50%      5.777711e+07\n",
       "75%      1.494847e+08\n",
       "max      2.787965e+09\n",
       "Name: revenue, dtype: float64"
      ]
     },
     "execution_count": 197,
     "metadata": {},
     "output_type": "execute_result"
    }
   ],
   "source": [
    "tm.revenue.describe()"
   ]
  },
  {
   "cell_type": "code",
   "execution_count": 198,
   "metadata": {},
   "outputs": [],
   "source": [
    "#https://plotly.com/python/animations/\n",
    "df = tm.copy()\n",
    "df = df[df.genres.apply(lambda x : len(x)>0)]\n",
    "df.genres = df.genres.apply(lambda x : x[0])"
   ]
  },
  {
   "cell_type": "code",
   "execution_count": 199,
   "metadata": {},
   "outputs": [
    {
     "data": {
      "text/html": [
       "<div>\n",
       "<style scoped>\n",
       "    .dataframe tbody tr th:only-of-type {\n",
       "        vertical-align: middle;\n",
       "    }\n",
       "\n",
       "    .dataframe tbody tr th {\n",
       "        vertical-align: top;\n",
       "    }\n",
       "\n",
       "    .dataframe thead th {\n",
       "        text-align: right;\n",
       "    }\n",
       "</style>\n",
       "<table border=\"1\" class=\"dataframe\">\n",
       "  <thead>\n",
       "    <tr style=\"text-align: right;\">\n",
       "      <th></th>\n",
       "      <th>budget</th>\n",
       "      <th>genres</th>\n",
       "      <th>homepage</th>\n",
       "      <th>id</th>\n",
       "      <th>keywords</th>\n",
       "      <th>original_language</th>\n",
       "      <th>original_title</th>\n",
       "      <th>overview</th>\n",
       "      <th>popularity</th>\n",
       "      <th>production_companies</th>\n",
       "      <th>...</th>\n",
       "      <th>revenue</th>\n",
       "      <th>runtime</th>\n",
       "      <th>spoken_languages</th>\n",
       "      <th>status</th>\n",
       "      <th>tagline</th>\n",
       "      <th>title</th>\n",
       "      <th>vote_average</th>\n",
       "      <th>vote_count</th>\n",
       "      <th>realease_year</th>\n",
       "      <th>realease_year_decimal</th>\n",
       "    </tr>\n",
       "  </thead>\n",
       "  <tbody>\n",
       "    <tr>\n",
       "      <th>0</th>\n",
       "      <td>237000000</td>\n",
       "      <td>Action</td>\n",
       "      <td>http://www.avatarmovie.com/</td>\n",
       "      <td>19995</td>\n",
       "      <td>[{\"id\": 1463, \"name\": \"culture clash\"}, {\"id\":...</td>\n",
       "      <td>en</td>\n",
       "      <td>Avatar</td>\n",
       "      <td>In the 22nd century, a paraplegic Marine is di...</td>\n",
       "      <td>150.437577</td>\n",
       "      <td>[{\"name\": \"Ingenious Film Partners\", \"id\": 289...</td>\n",
       "      <td>...</td>\n",
       "      <td>2787965087</td>\n",
       "      <td>162.0</td>\n",
       "      <td>[{\"iso_639_1\": \"en\", \"name\": \"English\"}, {\"iso...</td>\n",
       "      <td>Released</td>\n",
       "      <td>Enter the World of Pandora.</td>\n",
       "      <td>Avatar</td>\n",
       "      <td>7.2</td>\n",
       "      <td>11800</td>\n",
       "      <td>2009</td>\n",
       "      <td>2009.943989</td>\n",
       "    </tr>\n",
       "    <tr>\n",
       "      <th>1</th>\n",
       "      <td>300000000</td>\n",
       "      <td>Adventure</td>\n",
       "      <td>http://disney.go.com/disneypictures/pirates/</td>\n",
       "      <td>285</td>\n",
       "      <td>[{\"id\": 270, \"name\": \"ocean\"}, {\"id\": 726, \"na...</td>\n",
       "      <td>en</td>\n",
       "      <td>Pirates of the Caribbean: At World's End</td>\n",
       "      <td>Captain Barbossa, long believed to be dead, ha...</td>\n",
       "      <td>139.082615</td>\n",
       "      <td>[{\"name\": \"Walt Disney Pictures\", \"id\": 2}, {\"...</td>\n",
       "      <td>...</td>\n",
       "      <td>961000000</td>\n",
       "      <td>169.0</td>\n",
       "      <td>[{\"iso_639_1\": \"en\", \"name\": \"English\"}]</td>\n",
       "      <td>Released</td>\n",
       "      <td>At the end of the world, the adventure begins.</td>\n",
       "      <td>Pirates of the Caribbean: At World's End</td>\n",
       "      <td>6.9</td>\n",
       "      <td>4500</td>\n",
       "      <td>2007</td>\n",
       "      <td>2007.385246</td>\n",
       "    </tr>\n",
       "    <tr>\n",
       "      <th>2</th>\n",
       "      <td>245000000</td>\n",
       "      <td>Action</td>\n",
       "      <td>http://www.sonypictures.com/movies/spectre/</td>\n",
       "      <td>206647</td>\n",
       "      <td>[{\"id\": 470, \"name\": \"spy\"}, {\"id\": 818, \"name...</td>\n",
       "      <td>en</td>\n",
       "      <td>Spectre</td>\n",
       "      <td>A cryptic message from Bond’s past sends him o...</td>\n",
       "      <td>107.376788</td>\n",
       "      <td>[{\"name\": \"Columbia Pictures\", \"id\": 5}, {\"nam...</td>\n",
       "      <td>...</td>\n",
       "      <td>880674609</td>\n",
       "      <td>148.0</td>\n",
       "      <td>[{\"iso_639_1\": \"fr\", \"name\": \"Fran\\u00e7ais\"},...</td>\n",
       "      <td>Released</td>\n",
       "      <td>A Plan No One Escapes</td>\n",
       "      <td>Spectre</td>\n",
       "      <td>6.3</td>\n",
       "      <td>4466</td>\n",
       "      <td>2015</td>\n",
       "      <td>2015.821038</td>\n",
       "    </tr>\n",
       "    <tr>\n",
       "      <th>3</th>\n",
       "      <td>250000000</td>\n",
       "      <td>Action</td>\n",
       "      <td>http://www.thedarkknightrises.com/</td>\n",
       "      <td>49026</td>\n",
       "      <td>[{\"id\": 849, \"name\": \"dc comics\"}, {\"id\": 853,...</td>\n",
       "      <td>en</td>\n",
       "      <td>The Dark Knight Rises</td>\n",
       "      <td>Following the death of District Attorney Harve...</td>\n",
       "      <td>112.312950</td>\n",
       "      <td>[{\"name\": \"Legendary Pictures\", \"id\": 923}, {\"...</td>\n",
       "      <td>...</td>\n",
       "      <td>1084939099</td>\n",
       "      <td>165.0</td>\n",
       "      <td>[{\"iso_639_1\": \"en\", \"name\": \"English\"}]</td>\n",
       "      <td>Released</td>\n",
       "      <td>The Legend Ends</td>\n",
       "      <td>The Dark Knight Rises</td>\n",
       "      <td>7.6</td>\n",
       "      <td>9106</td>\n",
       "      <td>2012</td>\n",
       "      <td>2012.543716</td>\n",
       "    </tr>\n",
       "    <tr>\n",
       "      <th>4</th>\n",
       "      <td>260000000</td>\n",
       "      <td>Action</td>\n",
       "      <td>http://movies.disney.com/john-carter</td>\n",
       "      <td>49529</td>\n",
       "      <td>[{\"id\": 818, \"name\": \"based on novel\"}, {\"id\":...</td>\n",
       "      <td>en</td>\n",
       "      <td>John Carter</td>\n",
       "      <td>John Carter is a war-weary, former military ca...</td>\n",
       "      <td>43.926995</td>\n",
       "      <td>[{\"name\": \"Walt Disney Pictures\", \"id\": 2}]</td>\n",
       "      <td>...</td>\n",
       "      <td>284139100</td>\n",
       "      <td>132.0</td>\n",
       "      <td>[{\"iso_639_1\": \"en\", \"name\": \"English\"}]</td>\n",
       "      <td>Released</td>\n",
       "      <td>Lost in our world, found in another.</td>\n",
       "      <td>John Carter</td>\n",
       "      <td>6.1</td>\n",
       "      <td>2124</td>\n",
       "      <td>2012</td>\n",
       "      <td>2012.185792</td>\n",
       "    </tr>\n",
       "    <tr>\n",
       "      <th>...</th>\n",
       "      <td>...</td>\n",
       "      <td>...</td>\n",
       "      <td>...</td>\n",
       "      <td>...</td>\n",
       "      <td>...</td>\n",
       "      <td>...</td>\n",
       "      <td>...</td>\n",
       "      <td>...</td>\n",
       "      <td>...</td>\n",
       "      <td>...</td>\n",
       "      <td>...</td>\n",
       "      <td>...</td>\n",
       "      <td>...</td>\n",
       "      <td>...</td>\n",
       "      <td>...</td>\n",
       "      <td>...</td>\n",
       "      <td>...</td>\n",
       "      <td>...</td>\n",
       "      <td>...</td>\n",
       "      <td>...</td>\n",
       "      <td>...</td>\n",
       "    </tr>\n",
       "    <tr>\n",
       "      <th>4772</th>\n",
       "      <td>31192</td>\n",
       "      <td>Drama</td>\n",
       "      <td>http://downterrace.blogspot.com/</td>\n",
       "      <td>42151</td>\n",
       "      <td>[{\"id\": 9826, \"name\": \"murder\"}, {\"id\": 10123,...</td>\n",
       "      <td>en</td>\n",
       "      <td>Down Terrace</td>\n",
       "      <td>After serving jail time for a mysterious crime...</td>\n",
       "      <td>1.330379</td>\n",
       "      <td>[]</td>\n",
       "      <td>...</td>\n",
       "      <td>10000</td>\n",
       "      <td>89.0</td>\n",
       "      <td>[{\"iso_639_1\": \"en\", \"name\": \"English\"}]</td>\n",
       "      <td>Released</td>\n",
       "      <td>You're only as good as the people you know.</td>\n",
       "      <td>Down Terrace</td>\n",
       "      <td>6.3</td>\n",
       "      <td>26</td>\n",
       "      <td>2009</td>\n",
       "      <td>2009.669399</td>\n",
       "    </tr>\n",
       "    <tr>\n",
       "      <th>4773</th>\n",
       "      <td>27000</td>\n",
       "      <td>Comedy</td>\n",
       "      <td>http://www.miramax.com/movie/clerks/</td>\n",
       "      <td>2292</td>\n",
       "      <td>[{\"id\": 1361, \"name\": \"salesclerk\"}, {\"id\": 30...</td>\n",
       "      <td>en</td>\n",
       "      <td>Clerks</td>\n",
       "      <td>Convenience and video store clerks Dante and R...</td>\n",
       "      <td>19.748658</td>\n",
       "      <td>[{\"name\": \"Miramax Films\", \"id\": 14}, {\"name\":...</td>\n",
       "      <td>...</td>\n",
       "      <td>3151130</td>\n",
       "      <td>92.0</td>\n",
       "      <td>[{\"iso_639_1\": \"en\", \"name\": \"English\"}]</td>\n",
       "      <td>Released</td>\n",
       "      <td>Just because they serve you doesn't mean they ...</td>\n",
       "      <td>Clerks</td>\n",
       "      <td>7.4</td>\n",
       "      <td>755</td>\n",
       "      <td>1994</td>\n",
       "      <td>1994.702186</td>\n",
       "    </tr>\n",
       "    <tr>\n",
       "      <th>4788</th>\n",
       "      <td>12000</td>\n",
       "      <td>Horror</td>\n",
       "      <td>NaN</td>\n",
       "      <td>692</td>\n",
       "      <td>[{\"id\": 237, \"name\": \"gay\"}, {\"id\": 900, \"name...</td>\n",
       "      <td>en</td>\n",
       "      <td>Pink Flamingos</td>\n",
       "      <td>Notorious Baltimore criminal and underground f...</td>\n",
       "      <td>4.553644</td>\n",
       "      <td>[{\"name\": \"Dreamland Productions\", \"id\": 407}]</td>\n",
       "      <td>...</td>\n",
       "      <td>6000000</td>\n",
       "      <td>93.0</td>\n",
       "      <td>[{\"iso_639_1\": \"en\", \"name\": \"English\"}]</td>\n",
       "      <td>Released</td>\n",
       "      <td>An exercise in poor taste.</td>\n",
       "      <td>Pink Flamingos</td>\n",
       "      <td>6.2</td>\n",
       "      <td>110</td>\n",
       "      <td>1972</td>\n",
       "      <td>1972.199454</td>\n",
       "    </tr>\n",
       "    <tr>\n",
       "      <th>4796</th>\n",
       "      <td>7000</td>\n",
       "      <td>Science Fiction</td>\n",
       "      <td>http://www.primermovie.com</td>\n",
       "      <td>14337</td>\n",
       "      <td>[{\"id\": 1448, \"name\": \"distrust\"}, {\"id\": 2101...</td>\n",
       "      <td>en</td>\n",
       "      <td>Primer</td>\n",
       "      <td>Friends/fledgling entrepreneurs invent a devic...</td>\n",
       "      <td>23.307949</td>\n",
       "      <td>[{\"name\": \"Thinkfilm\", \"id\": 446}]</td>\n",
       "      <td>...</td>\n",
       "      <td>424760</td>\n",
       "      <td>77.0</td>\n",
       "      <td>[{\"iso_639_1\": \"en\", \"name\": \"English\"}]</td>\n",
       "      <td>Released</td>\n",
       "      <td>What happens if it actually works?</td>\n",
       "      <td>Primer</td>\n",
       "      <td>6.9</td>\n",
       "      <td>658</td>\n",
       "      <td>2004</td>\n",
       "      <td>2004.771858</td>\n",
       "    </tr>\n",
       "    <tr>\n",
       "      <th>4798</th>\n",
       "      <td>220000</td>\n",
       "      <td>Action</td>\n",
       "      <td>NaN</td>\n",
       "      <td>9367</td>\n",
       "      <td>[{\"id\": 5616, \"name\": \"united states\\u2013mexi...</td>\n",
       "      <td>es</td>\n",
       "      <td>El Mariachi</td>\n",
       "      <td>El Mariachi just wants to play his guitar and ...</td>\n",
       "      <td>14.269792</td>\n",
       "      <td>[{\"name\": \"Columbia Pictures\", \"id\": 5}]</td>\n",
       "      <td>...</td>\n",
       "      <td>2040920</td>\n",
       "      <td>81.0</td>\n",
       "      <td>[{\"iso_639_1\": \"es\", \"name\": \"Espa\\u00f1ol\"}]</td>\n",
       "      <td>Released</td>\n",
       "      <td>He didn't come looking for trouble, but troubl...</td>\n",
       "      <td>El Mariachi</td>\n",
       "      <td>6.6</td>\n",
       "      <td>238</td>\n",
       "      <td>1992</td>\n",
       "      <td>1992.677596</td>\n",
       "    </tr>\n",
       "  </tbody>\n",
       "</table>\n",
       "<p>3159 rows × 22 columns</p>\n",
       "</div>"
      ],
      "text/plain": [
       "         budget           genres  \\\n",
       "0     237000000           Action   \n",
       "1     300000000        Adventure   \n",
       "2     245000000           Action   \n",
       "3     250000000           Action   \n",
       "4     260000000           Action   \n",
       "...         ...              ...   \n",
       "4772      31192            Drama   \n",
       "4773      27000           Comedy   \n",
       "4788      12000           Horror   \n",
       "4796       7000  Science Fiction   \n",
       "4798     220000           Action   \n",
       "\n",
       "                                          homepage      id  \\\n",
       "0                      http://www.avatarmovie.com/   19995   \n",
       "1     http://disney.go.com/disneypictures/pirates/     285   \n",
       "2      http://www.sonypictures.com/movies/spectre/  206647   \n",
       "3               http://www.thedarkknightrises.com/   49026   \n",
       "4             http://movies.disney.com/john-carter   49529   \n",
       "...                                            ...     ...   \n",
       "4772              http://downterrace.blogspot.com/   42151   \n",
       "4773          http://www.miramax.com/movie/clerks/    2292   \n",
       "4788                                           NaN     692   \n",
       "4796                    http://www.primermovie.com   14337   \n",
       "4798                                           NaN    9367   \n",
       "\n",
       "                                               keywords original_language  \\\n",
       "0     [{\"id\": 1463, \"name\": \"culture clash\"}, {\"id\":...                en   \n",
       "1     [{\"id\": 270, \"name\": \"ocean\"}, {\"id\": 726, \"na...                en   \n",
       "2     [{\"id\": 470, \"name\": \"spy\"}, {\"id\": 818, \"name...                en   \n",
       "3     [{\"id\": 849, \"name\": \"dc comics\"}, {\"id\": 853,...                en   \n",
       "4     [{\"id\": 818, \"name\": \"based on novel\"}, {\"id\":...                en   \n",
       "...                                                 ...               ...   \n",
       "4772  [{\"id\": 9826, \"name\": \"murder\"}, {\"id\": 10123,...                en   \n",
       "4773  [{\"id\": 1361, \"name\": \"salesclerk\"}, {\"id\": 30...                en   \n",
       "4788  [{\"id\": 237, \"name\": \"gay\"}, {\"id\": 900, \"name...                en   \n",
       "4796  [{\"id\": 1448, \"name\": \"distrust\"}, {\"id\": 2101...                en   \n",
       "4798  [{\"id\": 5616, \"name\": \"united states\\u2013mexi...                es   \n",
       "\n",
       "                                original_title  \\\n",
       "0                                       Avatar   \n",
       "1     Pirates of the Caribbean: At World's End   \n",
       "2                                      Spectre   \n",
       "3                        The Dark Knight Rises   \n",
       "4                                  John Carter   \n",
       "...                                        ...   \n",
       "4772                              Down Terrace   \n",
       "4773                                    Clerks   \n",
       "4788                            Pink Flamingos   \n",
       "4796                                    Primer   \n",
       "4798                               El Mariachi   \n",
       "\n",
       "                                               overview  popularity  \\\n",
       "0     In the 22nd century, a paraplegic Marine is di...  150.437577   \n",
       "1     Captain Barbossa, long believed to be dead, ha...  139.082615   \n",
       "2     A cryptic message from Bond’s past sends him o...  107.376788   \n",
       "3     Following the death of District Attorney Harve...  112.312950   \n",
       "4     John Carter is a war-weary, former military ca...   43.926995   \n",
       "...                                                 ...         ...   \n",
       "4772  After serving jail time for a mysterious crime...    1.330379   \n",
       "4773  Convenience and video store clerks Dante and R...   19.748658   \n",
       "4788  Notorious Baltimore criminal and underground f...    4.553644   \n",
       "4796  Friends/fledgling entrepreneurs invent a devic...   23.307949   \n",
       "4798  El Mariachi just wants to play his guitar and ...   14.269792   \n",
       "\n",
       "                                   production_companies  ...     revenue  \\\n",
       "0     [{\"name\": \"Ingenious Film Partners\", \"id\": 289...  ...  2787965087   \n",
       "1     [{\"name\": \"Walt Disney Pictures\", \"id\": 2}, {\"...  ...   961000000   \n",
       "2     [{\"name\": \"Columbia Pictures\", \"id\": 5}, {\"nam...  ...   880674609   \n",
       "3     [{\"name\": \"Legendary Pictures\", \"id\": 923}, {\"...  ...  1084939099   \n",
       "4           [{\"name\": \"Walt Disney Pictures\", \"id\": 2}]  ...   284139100   \n",
       "...                                                 ...  ...         ...   \n",
       "4772                                                 []  ...       10000   \n",
       "4773  [{\"name\": \"Miramax Films\", \"id\": 14}, {\"name\":...  ...     3151130   \n",
       "4788     [{\"name\": \"Dreamland Productions\", \"id\": 407}]  ...     6000000   \n",
       "4796                 [{\"name\": \"Thinkfilm\", \"id\": 446}]  ...      424760   \n",
       "4798           [{\"name\": \"Columbia Pictures\", \"id\": 5}]  ...     2040920   \n",
       "\n",
       "     runtime                                   spoken_languages    status  \\\n",
       "0      162.0  [{\"iso_639_1\": \"en\", \"name\": \"English\"}, {\"iso...  Released   \n",
       "1      169.0           [{\"iso_639_1\": \"en\", \"name\": \"English\"}]  Released   \n",
       "2      148.0  [{\"iso_639_1\": \"fr\", \"name\": \"Fran\\u00e7ais\"},...  Released   \n",
       "3      165.0           [{\"iso_639_1\": \"en\", \"name\": \"English\"}]  Released   \n",
       "4      132.0           [{\"iso_639_1\": \"en\", \"name\": \"English\"}]  Released   \n",
       "...      ...                                                ...       ...   \n",
       "4772    89.0           [{\"iso_639_1\": \"en\", \"name\": \"English\"}]  Released   \n",
       "4773    92.0           [{\"iso_639_1\": \"en\", \"name\": \"English\"}]  Released   \n",
       "4788    93.0           [{\"iso_639_1\": \"en\", \"name\": \"English\"}]  Released   \n",
       "4796    77.0           [{\"iso_639_1\": \"en\", \"name\": \"English\"}]  Released   \n",
       "4798    81.0      [{\"iso_639_1\": \"es\", \"name\": \"Espa\\u00f1ol\"}]  Released   \n",
       "\n",
       "                                                tagline  \\\n",
       "0                           Enter the World of Pandora.   \n",
       "1        At the end of the world, the adventure begins.   \n",
       "2                                 A Plan No One Escapes   \n",
       "3                                       The Legend Ends   \n",
       "4                  Lost in our world, found in another.   \n",
       "...                                                 ...   \n",
       "4772        You're only as good as the people you know.   \n",
       "4773  Just because they serve you doesn't mean they ...   \n",
       "4788                         An exercise in poor taste.   \n",
       "4796                 What happens if it actually works?   \n",
       "4798  He didn't come looking for trouble, but troubl...   \n",
       "\n",
       "                                         title vote_average vote_count  \\\n",
       "0                                       Avatar          7.2      11800   \n",
       "1     Pirates of the Caribbean: At World's End          6.9       4500   \n",
       "2                                      Spectre          6.3       4466   \n",
       "3                        The Dark Knight Rises          7.6       9106   \n",
       "4                                  John Carter          6.1       2124   \n",
       "...                                        ...          ...        ...   \n",
       "4772                              Down Terrace          6.3         26   \n",
       "4773                                    Clerks          7.4        755   \n",
       "4788                            Pink Flamingos          6.2        110   \n",
       "4796                                    Primer          6.9        658   \n",
       "4798                               El Mariachi          6.6        238   \n",
       "\n",
       "      realease_year  realease_year_decimal  \n",
       "0              2009            2009.943989  \n",
       "1              2007            2007.385246  \n",
       "2              2015            2015.821038  \n",
       "3              2012            2012.543716  \n",
       "4              2012            2012.185792  \n",
       "...             ...                    ...  \n",
       "4772           2009            2009.669399  \n",
       "4773           1994            1994.702186  \n",
       "4788           1972            1972.199454  \n",
       "4796           2004            2004.771858  \n",
       "4798           1992            1992.677596  \n",
       "\n",
       "[3159 rows x 22 columns]"
      ]
     },
     "execution_count": 199,
     "metadata": {},
     "output_type": "execute_result"
    }
   ],
   "source": [
    "df"
   ]
  },
  {
   "cell_type": "code",
   "execution_count": 200,
   "metadata": {},
   "outputs": [
    {
     "data": {
      "text/plain": [
       "count    3.159000e+03\n",
       "mean     4.142912e+07\n",
       "std      4.456172e+07\n",
       "min      1.000000e+01\n",
       "25%      1.100000e+07\n",
       "50%      2.600000e+07\n",
       "75%      5.500000e+07\n",
       "max      3.800000e+08\n",
       "Name: budget, dtype: float64"
      ]
     },
     "execution_count": 200,
     "metadata": {},
     "output_type": "execute_result"
    }
   ],
   "source": [
    "df.budget.describe()"
   ]
  },
  {
   "cell_type": "code",
   "execution_count": 201,
   "metadata": {},
   "outputs": [
    {
     "data": {
      "application/vnd.plotly.v1+json": {
       "config": {
        "plotlyServerURL": "https://plot.ly"
       },
       "data": [
        {
         "hoverlabel": {
          "namelength": 0
         },
         "hovertemplate": "genres=Action<br>realease_year=2009<br>revenue=%{x}<br>popularity=%{y}<br>budget=%{marker.size}",
         "legendgroup": "genres=Action",
         "marker": {
          "color": "#636efa",
          "size": [
           237000000,
           200000000,
           200000000,
           130000000,
           90000000,
           80000000,
           60000000,
           50000000,
           40000000,
           50000000,
           50000000,
           33000000,
           33000000,
           40000000,
           30000000,
           26000000,
           20000000,
           20000000,
           20000000,
           16000000,
           8000000
          ],
          "sizemode": "area",
          "sizeref": 77777.77777777778,
          "symbol": "circle"
         },
         "mode": "markers",
         "name": "genres=Action",
         "showlegend": true,
         "type": "scatter",
         "x": [
          2787965087,
          371353001,
          769653595,
          185258983,
          524028679,
          122444772,
          87784194,
          155446362,
          60462347,
          40828540,
          12764201,
          14000000,
          20645327,
          12206028,
          48428063,
          183293131,
          22942221,
          34560577,
          17280326,
          11301649,
          10629321
         ],
         "xaxis": "x",
         "y": [
          150.437577,
          71.862892,
          45.274225,
          64.798873,
          57.834787,
          36.664991,
          21.685719,
          32.693093,
          19.085403,
          27.631262,
          8.139676,
          7.663514999999999,
          28.353517,
          14.818717999999999,
          55.806402,
          31.250383000000003,
          15.21229,
          35.542809000000005,
          15.66135,
          4.628525,
          13.517017000000001
         ],
         "yaxis": "y"
        }
       ],
       "frames": [
        {
         "data": [
          {
           "hoverlabel": {
            "namelength": 0
           },
           "hovertemplate": "genres=Action<br>realease_year=2009<br>revenue=%{x}<br>popularity=%{y}<br>budget=%{marker.size}",
           "legendgroup": "genres=Action",
           "marker": {
            "color": "#636efa",
            "size": [
             237000000,
             200000000,
             200000000,
             130000000,
             90000000,
             80000000,
             60000000,
             50000000,
             40000000,
             50000000,
             50000000,
             33000000,
             33000000,
             40000000,
             30000000,
             26000000,
             20000000,
             20000000,
             20000000,
             16000000,
             8000000
            ],
            "sizemode": "area",
            "sizeref": 77777.77777777778,
            "symbol": "circle"
           },
           "mode": "markers",
           "name": "genres=Action",
           "showlegend": true,
           "type": "scatter",
           "x": [
            2787965087,
            371353001,
            769653595,
            185258983,
            524028679,
            122444772,
            87784194,
            155446362,
            60462347,
            40828540,
            12764201,
            14000000,
            20645327,
            12206028,
            48428063,
            183293131,
            22942221,
            34560577,
            17280326,
            11301649,
            10629321
           ],
           "xaxis": "x",
           "y": [
            150.437577,
            71.862892,
            45.274225,
            64.798873,
            57.834787,
            36.664991,
            21.685719,
            32.693093,
            19.085403,
            27.631262,
            8.139676,
            7.663514999999999,
            28.353517,
            14.818717999999999,
            55.806402,
            31.250383000000003,
            15.21229,
            35.542809000000005,
            15.66135,
            4.628525,
            13.517017000000001
           ],
           "yaxis": "y"
          }
         ],
         "name": "2009"
        },
        {
         "data": [
          {
           "hoverlabel": {
            "namelength": 0
           },
           "hovertemplate": "genres=Action<br>realease_year=2015<br>revenue=%{x}<br>popularity=%{y}<br>budget=%{marker.size}",
           "legendgroup": "genres=Action",
           "marker": {
            "color": "#636efa",
            "size": [
             245000000,
             280000000,
             150000000,
             190000000,
             160000000,
             150000000,
             150000000,
             120000000,
             110000000,
             105000000,
             88000000,
             65000000,
             61000000,
             50000000,
             40000000,
             40000000,
             38000000,
             36000000,
             35000000,
             30000000,
             30000000,
             15000000,
             5000000
            ],
            "sizemode": "area",
            "sizeref": 77777.77777777778,
            "symbol": "circle"
           },
           "mode": "markers",
           "name": "genres=Action",
           "showlegend": true,
           "type": "scatter",
           "x": [
            880674609,
            1405403694,
            1513528810,
            1506249360,
            653428261,
            378858340,
            682330139,
            167977596,
            470490832,
            133718711,
            243637091,
            121545703,
            311256926,
            71561644,
            13644292,
            100000000,
            107597242,
            156844753,
            51680201,
            84025816,
            91709827,
            632542,
            54418872
           ],
           "xaxis": "x",
           "y": [
            107.37678799999999,
            134.27922900000002,
            418.708552,
            102.32221700000001,
            127.28442700000001,
            434.27856399999996,
            114.52223700000002,
            38.126095,
            100.412364,
            33.507289,
            140.849495,
            9.568883999999999,
            113.161483,
            74.64653,
            26.935458,
            16.254032000000002,
            41.258487,
            19.167377,
            18.262017,
            55.424027,
            65.364452,
            8.142166,
            38.006982
           ],
           "yaxis": "y"
          }
         ],
         "name": "2015"
        },
        {
         "data": [
          {
           "hoverlabel": {
            "namelength": 0
           },
           "hovertemplate": "genres=Action<br>realease_year=2012<br>revenue=%{x}<br>popularity=%{y}<br>budget=%{marker.size}",
           "legendgroup": "genres=Action",
           "marker": {
            "color": "#636efa",
            "size": [
             250000000,
             260000000,
             225000000,
             215000000,
             200000000,
             130000000,
             100000000,
             85000000,
             50000000,
             69000000,
             65000000,
             65000000,
             45000000,
             42000000,
             40000000,
             42000000,
             45000000,
             35000000,
             30000000,
             30000000,
             25000000,
             2000000,
             20000000,
             20000000,
             15000000,
             12000000,
             3730500
            ],
            "sizemode": "area",
            "sizeref": 77777.77777777778,
            "symbol": "circle"
           },
           "mode": "markers",
           "name": "genres=Action",
           "showlegend": true,
           "type": "scatter",
           "x": [
            1084939099,
            284139100,
            624026776,
            752215857,
            1108561013,
            276572938,
            312573423,
            208076205,
            41037742,
            112265139,
            156974557,
            240159255,
            376141306,
            201585328,
            36893721,
            46221189,
            30353232,
            2106557,
            40346186,
            47042000,
            77278331,
            14400000,
            32204030,
            16863583,
            15608545,
            81272766,
            6294161
           ],
           "xaxis": "x",
           "y": [
            112.31295,
            43.926995,
            52.035179,
            89.866276,
            93.004993,
            90.33681,
            53.73289200000001,
            34.773106,
            57.67393199999999,
            38.634767,
            38.994296999999996,
            6.227675,
            49.353524,
            62.714026000000004,
            19.438503,
            34.041407,
            14.513243,
            16.830184,
            31.92695,
            46.377628,
            48.552871,
            16.668854,
            35.232278,
            15.131867000000002,
            17.672021,
            21.958054999999998,
            6.938853999999999
           ],
           "yaxis": "y"
          }
         ],
         "name": "2012"
        },
        {
         "data": [
          {
           "hoverlabel": {
            "namelength": 0
           },
           "hovertemplate": "genres=Action<br>realease_year=2016<br>revenue=%{x}<br>popularity=%{y}<br>budget=%{marker.size}",
           "legendgroup": "genres=Action",
           "marker": {
            "color": "#636efa",
            "size": [
             250000000,
             185000000,
             180000000,
             175000000,
             165000000,
             15000000,
             160000000,
             144000000,
             145000000,
             120000000,
             115000000,
             90000000,
             80000000,
             60000000,
             68490000,
             58000000,
             50000000,
             50000000,
             40000000,
             31500000,
             25000000,
             20000000,
             20000000,
             15000000,
             10000000,
             5000000
            ],
            "sizemode": "area",
            "sizeref": 77777.77777777778,
            "symbol": "circle"
           },
           "mode": "markers",
           "name": "genres=Action",
           "showlegend": true,
           "type": "scatter",
           "x": [
            873260194,
            343471816,
            356743061,
            745000000,
            389681935,
            77000000,
            433677183,
            229147509,
            521170825,
            415484914,
            164602163,
            334901337,
            52099090,
            205754447,
            193677158,
            783112979,
            216972543,
            69411370,
            124827316,
            14708696,
            1397284,
            46069568,
            12639297,
            20566327,
            118587880,
            24804129
           ],
           "xaxis": "x",
           "y": [
            155.790452,
            65.352913,
            42.741719,
            90.23791999999999,
            48.775723,
            9.476999000000001,
            63.148529,
            66.21806,
            56.747978,
            62.641286,
            60.467983999999994,
            51.535701,
            28.223664000000003,
            61.849520999999996,
            4.7262900000000005,
            514.5699559999999,
            45.318703,
            42.526529,
            25.136082000000002,
            27.891012,
            15.333575,
            16.663797,
            29.371987,
            18.268009,
            53.727146,
            22.9951
           ],
           "yaxis": "y"
          }
         ],
         "name": "2016"
        },
        {
         "data": [
          {
           "hoverlabel": {
            "namelength": 0
           },
           "hovertemplate": "genres=Action<br>realease_year=2013<br>revenue=%{x}<br>popularity=%{y}<br>budget=%{marker.size}",
           "legendgroup": "genres=Action",
           "marker": {
            "color": "#636efa",
            "size": [
             255000000,
             225000000,
             200000000,
             200000000,
             190000000,
             195000000,
             180000000,
             170000000,
             150000000,
             120000000,
             120000000,
             92000000,
             70000000,
             50000000,
             61000000,
             60000000,
             55000000,
             55000000,
             44000000,
             43000000,
             40000000,
             39200000,
             3860000,
             35000000,
             32000000,
             28000000,
             22000000,
             12000000,
             18000000,
             9000000
            ],
            "sizemode": "area",
            "sizeref": 77777.77777777778,
            "symbol": "circle"
           },
           "mode": "markers",
           "name": "genres=Action",
           "showlegend": true,
           "type": "scatter",
           "x": [
            89289910,
            662845518,
            1215439994,
            531865000,
            467365246,
            197687603,
            407602906,
            644571402,
            205366737,
            286168572,
            415440673,
            304654182,
            161025640,
            122915111,
            131940411,
            90565421,
            95000000,
            9489829,
            63327201,
            158674180,
            149295601,
            86758912,
            64076736,
            46216641,
            126041322,
            60700000,
            43058898,
            15008161,
            10501938,
            6108720
           ],
           "xaxis": "x",
           "y": [
            49.046956,
            99.398009,
            77.68208,
            81.834855,
            78.29101800000001,
            43.349855,
            56.523205000000004,
            99.499595,
            39.004588,
            67.698004,
            15.953444000000001,
            65.40259499999999,
            59.428222999999996,
            44.478043,
            42.881415000000004,
            45.514031,
            52.786917,
            22.503935000000002,
            42.933027,
            37.654688,
            37.084384,
            64.238688,
            19.947264999999998,
            28.670477,
            38.217079999999996,
            40.28635,
            35.737655,
            29.072964000000002,
            16.520516,
            28.540614
           ],
           "yaxis": "y"
          }
         ],
         "name": "2013"
        },
        {
         "data": [
          {
           "hoverlabel": {
            "namelength": 0
           },
           "hovertemplate": "genres=Action<br>realease_year=2014<br>revenue=%{x}<br>popularity=%{y}<br>budget=%{marker.size}",
           "legendgroup": "genres=Action",
           "marker": {
            "color": "#636efa",
            "size": [
             250000000,
             200000000,
             250000000,
             178000000,
             170000000,
             170000000,
             120000000,
             110000000,
             100000000,
             90000000,
             130000000,
             70000000,
             66000000,
             60000000,
             50000000,
             50000000,
             44000000,
             40000000,
             35000000,
             34000000,
             28000000,
             28000000,
             25000000,
             5000000
            ],
            "sizemode": "area",
            "sizeref": 77777.77777777778,
            "symbol": "circle"
           },
           "mode": "markers",
           "name": "genres=Action",
           "showlegend": true,
           "type": "scatter",
           "x": [
            956019788,
            705717432,
            747862775,
            370541256,
            714766572,
            773328629,
            242688965,
            337580051,
            243400000,
            206172544,
            117831631,
            61279452,
            203277636,
            50549107,
            222809600,
            160602194,
            12342632,
            126546825,
            17508518,
            348319861,
            52597999,
            68896829,
            153997819,
            6833445
           ],
           "xaxis": "x",
           "y": [
            120.96574299999999,
            89.270217,
            118.07869099999999,
            79.456485,
            72.22526500000001,
            481.09862400000003,
            66.757869,
            71.51059599999999,
            76.842247,
            61.025639,
            50.561849,
            25.020428,
            54.814890000000005,
            42.538258,
            83.295796,
            20.566554,
            74.16801600000001,
            115.241998,
            27.903999,
            131.815575,
            41.638961,
            25.520976,
            28.468000000000004,
            17.845160999999997
           ],
           "yaxis": "y"
          }
         ],
         "name": "2014"
        },
        {
         "data": [
          {
           "hoverlabel": {
            "namelength": 0
           },
           "hovertemplate": "genres=Action<br>realease_year=2010<br>revenue=%{x}<br>popularity=%{y}<br>budget=%{marker.size}",
           "legendgroup": "genres=Action",
           "marker": {
            "color": "#636efa",
            "size": [
             200000000,
             160000000,
             150000000,
             110000000,
             117000000,
             100000000,
             100000000,
             100000000,
             60000000,
             80000000,
             75000000,
             58000000,
             60000000,
             52000000,
             47000000,
             40000000,
             40000000,
             30000000,
             32000000,
             32000000,
             28000000,
             28000000,
             25000000,
             20000000,
             10000000,
             8000000
            ],
            "sizemode": "area",
            "sizeref": 77777.77777777778,
            "symbol": "circle"
           },
           "mode": "markers",
           "name": "genres=Action",
           "showlegend": true,
           "type": "scatter",
           "x": [
            310669540,
            825532764,
            318502923,
            293329073,
            261930431,
            170432927,
            278731369,
            167805466,
            47664559,
            157107755,
            98159963,
            71664962,
            300228084,
            52826594,
            10539000,
            136000000,
            126248813,
            55583804,
            69055695,
            18409891,
            96188903,
            45236543,
            23580000,
            31327899,
            6110000,
            3453043
           ],
           "xaxis": "x",
           "y": [
            37.668301,
            167.58371,
            33.769335999999996,
            48.829437,
            44.906918,
            24.399642,
            41.426678,
            37.698465,
            38.885195,
            32.363538,
            23.004607,
            41.430245,
            2.143764,
            27.916284,
            22.581313,
            33.747825,
            47.649553999999995,
            25.825771,
            18.47242,
            25.799697000000002,
            45.054936,
            14.639323999999998,
            24.903418,
            26.396190999999998,
            14.038511999999999,
            10.791953999999999
           ],
           "yaxis": "y"
          }
         ],
         "name": "2010"
        },
        {
         "data": [
          {
           "hoverlabel": {
            "namelength": 0
           },
           "hovertemplate": "genres=Action<br>realease_year=2004<br>revenue=%{x}<br>popularity=%{y}<br>budget=%{marker.size}",
           "legendgroup": "genres=Action",
           "marker": {
            "color": "#636efa",
            "size": [
             200000000,
             125000000,
             105000000,
             110000000,
             120000000,
             100000000,
             90000000,
             92000000,
             75000000,
             45000000,
             70000000,
             60000000,
             30000000,
             57000000,
             25000000,
             40000000,
             33000000,
             28000000,
             19000000,
             20000000,
             20000000,
             12000000
            ],
            "sizemode": "area",
            "sizeref": 77777.77777777778,
            "symbol": "circle"
           },
           "mode": "markers",
           "name": "genres=Action",
           "showlegend": true,
           "type": "scatter",
           "x": [
            783766341,
            544272402,
            115772733,
            72178895,
            347234916,
            82102379,
            102000000,
            631442092,
            288500217,
            21009180,
            130293714,
            61347797,
            152159461,
            28283637,
            56422687,
            46546197,
            54700105,
            30016165,
            69631118,
            100914445,
            16605763,
            9584131
           ],
           "xaxis": "x",
           "y": [
            35.149586,
            41.380094,
            27.835435999999998,
            22.643776000000003,
            95.914473,
            32.271938,
            19.224754,
            77.817571,
            53.213931,
            20.374308,
            45.299089,
            14.113066,
            50.622607,
            9.27875,
            24.459948,
            7.360792999999999,
            35.099610999999996,
            6.201404,
            8.584398,
            13.658985000000001,
            9.149089,
            17.493735
           ],
           "yaxis": "y"
          }
         ],
         "name": "2004"
        },
        {
         "data": [
          {
           "hoverlabel": {
            "namelength": 0
           },
           "hovertemplate": "genres=Action<br>realease_year=2011<br>revenue=%{x}<br>popularity=%{y}<br>budget=%{marker.size}",
           "legendgroup": "genres=Action",
           "marker": {
            "color": "#636efa",
            "size": [
             195000000,
             160000000,
             145000000,
             140000000,
             130000000,
             125000000,
             120000000,
             110000000,
             75000000,
             82000000,
             70000000,
             66000000,
             60000000,
             57000000,
             50000000,
             40000000,
             30000000,
             40000000,
             40000000,
             30000000,
             30000000,
             30000000,
             28000000,
             25000000,
             23000000,
             20000000,
             18000000,
             14350531,
             6000000,
             3000000,
             1100000
            ],
            "sizemode": "area",
            "sizeref": 77777.77777777778,
            "symbol": "circle"
           },
           "mode": "markers",
           "name": "genres=Action",
           "showlegend": true,
           "type": "scatter",
           "x": [
            1123746996,
            353624124,
            694713380,
            370569774,
            554987477,
            626137675,
            227817248,
            299268508,
            152930623,
            89792502,
            202466756,
            57777106,
            78309131,
            149217355,
            144492830,
            51070807,
            130786397,
            60965854,
            173930596,
            63782078,
            108609310,
            2527904,
            40547440,
            23057115,
            33372606,
            4634062,
            47088990,
            3964682,
            19560274,
            748453,
            4105187
           ],
           "xaxis": "x",
           "y": [
            28.529607000000002,
            3.195174,
            77.77476999999999,
            74.50624599999999,
            20.678787,
            7.255717999999999,
            31.703608000000003,
            37.195046000000005,
            36.743324,
            39.127082,
            49.199234000000004,
            29.501489000000003,
            28.350927000000002,
            48.622278,
            43.450266,
            44.094856,
            38.643914,
            33.785969,
            60.231381999999996,
            31.191975,
            20.063164999999998,
            13.268935999999998,
            25.039382999999997,
            51.915025,
            26.257951000000002,
            10.617236,
            19.234672,
            30.952377000000002,
            19.411141,
            16.900433,
            40.285095
           ],
           "yaxis": "y"
          }
         ],
         "name": "2011"
        },
        {
         "data": [
          {
           "hoverlabel": {
            "namelength": 0
           },
           "hovertemplate": "genres=Action<br>realease_year=2007<br>revenue=%{x}<br>popularity=%{y}<br>budget=%{marker.size}",
           "legendgroup": "genres=Action",
           "marker": {
            "color": "#636efa",
            "size": [
             140000000,
             70000000,
             110000000,
             67000000,
             61000000,
             35000000,
             30000000,
             25000000,
             20000000,
             20000000,
             20000000,
             24000000,
             10000000
            ],
            "sizemode": "area",
            "sizeref": 77777.77777777778,
            "symbol": "circle"
           },
           "mode": "markers",
           "name": "genres=Action",
           "showlegend": true,
           "type": "scatter",
           "x": [
            258022233,
            442824138,
            383531464,
            25303038,
            95696996,
            63215872,
            14711793,
            40452643,
            86865564,
            16974459,
            10337477,
            99965753,
            20342161
           ],
           "xaxis": "x",
           "y": [
            22.57178,
            45.381501,
            48.933370000000004,
            12.282911,
            37.378081,
            9.789027,
            35.53352,
            18.896239,
            6.0646379999999995,
            12.643703,
            9.361460000000001,
            42.669304,
            4.207456
           ],
           "yaxis": "y"
          }
         ],
         "name": "2007"
        },
        {
         "data": [
          {
           "hoverlabel": {
            "namelength": 0
           },
           "hovertemplate": "genres=Action<br>realease_year=2008<br>revenue=%{x}<br>popularity=%{y}<br>budget=%{marker.size}",
           "legendgroup": "genres=Action",
           "marker": {
            "color": "#636efa",
            "size": [
             140000000,
             120000000,
             92000000,
             80000000,
             75000000,
             70000000,
             45000000,
             60000000,
             60000000,
             55000000,
             45000000,
             70000000,
             45000000,
             36500000,
             35000000,
             35000000,
             20500000,
             30000000,
             27000000,
             25000000,
             25000000,
             20000000,
             25000000,
             18000000,
             5000000
            ],
            "sizemode": "area",
            "sizeref": 77777.77777777778,
            "symbol": "circle"
           },
           "mode": "markers",
           "name": "genres=Action",
           "showlegend": true,
           "type": "scatter",
           "x": [
            585174222,
            93945766,
            188072649,
            230685453,
            258270008,
            113280098,
            73762516,
            73174566,
            39031337,
            127906624,
            101702060,
            72108608,
            42487390,
            21834845,
            85416905,
            25871834,
            10089373,
            22211426,
            101624843,
            226830568,
            170764026,
            65569869,
            14109284,
            25739015,
            1296184
           ],
           "xaxis": "x",
           "y": [
            120.725053,
            17.060695000000003,
            43.192048,
            23.496054,
            73.82289,
            37.507135999999996,
            42.57877,
            18.380176000000002,
            14.84856,
            17.097041,
            53.090422,
            27.568194000000002,
            14.813057,
            2.785832,
            25.903237,
            19.088655,
            17.112498000000002,
            21.538222,
            41.832392,
            80.879032,
            46.942396,
            18.666876000000002,
            16.238961,
            31.887978000000004,
            6.265658999999999
           ],
           "yaxis": "y"
          }
         ],
         "name": "2008"
        },
        {
         "data": [
          {
           "hoverlabel": {
            "namelength": 0
           },
           "hovertemplate": "genres=Action<br>realease_year=1999<br>revenue=%{x}<br>popularity=%{y}<br>budget=%{marker.size}",
           "legendgroup": "genres=Action",
           "marker": {
            "color": "#636efa",
            "size": [
             170000000,
             100000000,
             63000000,
             60000000,
             75000000,
             45000000,
             65000000,
             70000000,
             15000000,
             25000000,
             10000000,
             6000000
            ],
            "sizemode": "area",
            "sizeref": 77777.77777777778,
            "symbol": "circle"
           },
           "mode": "markers",
           "name": "genres=Action",
           "showlegend": true,
           "type": "scatter",
           "x": [
            222104681,
            211989043,
            463517383,
            73648228,
            108000000,
            10667893,
            117758500,
            11263966,
            2856712,
            15156200,
            3193102,
            30471
           ],
           "xaxis": "x",
           "y": [
            40.748915000000004,
            20.652943,
            104.309993,
            22.991269,
            34.973086,
            14.566664000000001,
            16.865782,
            3.2769120000000003,
            21.928025,
            4.068107,
            8.902102000000001,
            34.917446999999996
           ],
           "yaxis": "y"
          }
         ],
         "name": "1999"
        },
        {
         "data": [
          {
           "hoverlabel": {
            "namelength": 0
           },
           "hovertemplate": "genres=Action<br>realease_year=2003<br>revenue=%{x}<br>popularity=%{y}<br>budget=%{marker.size}",
           "legendgroup": "genres=Action",
           "marker": {
            "color": "#636efa",
            "size": [
             200000000,
             120000000,
             95000000,
             60000000,
             80000000,
             76000000,
             70000000,
             75000000,
             80000000,
             60000000,
             60000000,
             30000000,
             50000000,
             50000000,
             38000000,
             40000000,
             36000000,
             29000000,
             28000000,
             25000000
            ],
            "sizemode": "area",
            "sizeref": 77777.77777777778,
            "symbol": "circle"
           },
           "mode": "markers",
           "name": "genres=Action",
           "showlegend": true,
           "type": "scatter",
           "x": [
            435000000,
            259175788,
            156505388,
            74208267,
            19480739,
            236350661,
            85632458,
            51142659,
            116643346,
            176070171,
            96269812,
            180949000,
            88323487,
            42792561,
            197011982,
            19322135,
            44350926,
            98185582,
            58795814,
            56489558
           ],
           "xaxis": "x",
           "y": [
            69.405188,
            33.616115,
            56.81105600000001,
            29.211254999999998,
            11.22268,
            10.520961,
            27.055085,
            10.605084,
            34.052253,
            62.766854,
            29.018826,
            79.75496600000001,
            16.251204,
            19.226763000000002,
            21.998734,
            15.590001,
            19.854932,
            27.555646000000003,
            11.859396,
            12.837116
           ],
           "yaxis": "y"
          }
         ],
         "name": "2003"
        },
        {
         "data": [
          {
           "hoverlabel": {
            "namelength": 0
           },
           "hovertemplate": "genres=Action<br>realease_year=2001<br>revenue=%{x}<br>popularity=%{y}<br>budget=%{marker.size}",
           "legendgroup": "genres=Action",
           "marker": {
            "color": "#636efa",
            "size": [
             38000000,
             92000000,
             90000000,
             92000000,
             102000000,
             75000000,
             94000000,
             68000000,
             62000000,
             72000000,
             49000000,
             45000000,
             60000000,
             57000000,
             40000000,
             40000000,
             35000000,
             35000000,
             50000000,
             30000000,
             28000000,
             25000000,
             25000000,
             22000000,
             15000000,
             11000000,
             7000000,
             5000000,
             7000000
            ],
            "sizemode": "area",
            "sizeref": 77777.77777777778,
            "symbol": "circle"
           },
           "mode": "markers",
           "name": "genres=Action",
           "showlegend": true,
           "type": "scatter",
           "x": [
            207283925,
            172989651,
            347325802,
            143049560,
            147080413,
            67631903,
            54744738,
            71069884,
            18720175,
            27642707,
            72700000,
            104876233,
            56359980,
            147845033,
            91753202,
            27053815,
            147934180,
            13678913,
            79958599,
            18195610,
            14010832,
            80936232,
            64437847,
            84772742,
            23000,
            23978402,
            4720371,
            5476060,
            10229331
           ],
           "xaxis": "x",
           "y": [
            6.909942,
            44.455166,
            35.814765,
            27.166757,
            36.788745,
            24.353302,
            8.468586,
            22.572323,
            11.262655,
            15.433244,
            21.746245000000002,
            52.081131,
            15.205371,
            21.021809,
            24.012985999999998,
            3.296933,
            21.543389,
            6.727949000000001,
            12.601306,
            8.359599000000001,
            13.145204999999999,
            12.739721000000001,
            16.936576000000002,
            13.786075,
            1.833058,
            3.4957580000000004,
            2.206097,
            4.149628,
            2.453459
           ],
           "yaxis": "y"
          }
         ],
         "name": "2001"
        },
        {
         "data": [
          {
           "hoverlabel": {
            "namelength": 0
           },
           "hovertemplate": "genres=Action<br>realease_year=2005<br>revenue=%{x}<br>popularity=%{y}<br>budget=%{marker.size}",
           "legendgroup": "genres=Action",
           "marker": {
            "color": "#636efa",
            "size": [
             150000000,
             135000000,
             130000000,
             110000000,
             126000000,
             75000000,
             43000000,
             60000000,
             80000000,
             56000000,
             62000000,
             50000000,
             50000000,
             50000000,
             45000000,
             40000000,
             32000000,
             45000000,
             30000000,
             25000000,
             20000000,
             2000000,
             15000000,
             10000000,
             6000000
            ],
            "sizemode": "area",
            "sizeref": 77777.77777777778,
            "symbol": "circle"
           },
           "mode": "markers",
           "name": "genres=Action",
           "showlegend": true,
           "type": "scatter",
           "x": [
            374218673,
            76932943,
            119269486,
            478207520,
            162949164,
            142400065,
            56681566,
            71073932,
            10166502,
            113006880,
            52304001,
            110803676,
            44434439,
            22944502,
            50871113,
            158733820,
            85167639,
            92374674,
            15007991,
            2405420,
            10442808,
            5048693,
            15785148,
            17297244,
            27165581
           ],
           "xaxis": "x",
           "y": [
            115.040024,
            17.88953,
            21.605567999999998,
            44.635452,
            37.68056,
            31.054334000000004,
            28.613892,
            36.689223,
            8.923214999999999,
            35.4763,
            29.954302000000002,
            15.982120000000002,
            14.723467000000001,
            18.394571,
            25.999888000000002,
            66.003433,
            47.5612,
            24.694551,
            10.756266,
            7.008216,
            9.292987,
            14.617944,
            32.690038,
            5.647538,
            11.81832
           ],
           "yaxis": "y"
          }
         ],
         "name": "2005"
        },
        {
         "data": [
          {
           "hoverlabel": {
            "namelength": 0
           },
           "hovertemplate": "genres=Action<br>realease_year=1998<br>revenue=%{x}<br>popularity=%{y}<br>budget=%{marker.size}",
           "legendgroup": "genres=Action",
           "marker": {
            "color": "#636efa",
            "size": [
             140000000,
             140000000,
             90000000,
             75000000,
             70000000,
             75000000,
             95000000,
             55000000,
             50000000,
             30000000,
             13000000,
             2000000,
             1530000
            ],
            "sizemode": "area",
            "sizeref": 77777.77777777778,
            "symbol": "circle"
           },
           "mode": "markers",
           "name": "genres=Action",
           "showlegend": true,
           "type": "scatter",
           "x": [
            553799566,
            285444603,
            250649836,
            140464664,
            164000000,
            14567883,
            250288523,
            41610884,
            44547681,
            19204929,
            27007143,
            124494,
            7267585
           ],
           "xaxis": "x",
           "y": [
            58.485967,
            24.855701,
            41.207568,
            34.070054,
            18.264635000000002,
            11.873856,
            31.086790999999998,
            32.657488,
            28.725621000000004,
            9.607391,
            6.425528,
            1.8921830000000002,
            27.36562
           ],
           "yaxis": "y"
          }
         ],
         "name": "1998"
        },
        {
         "data": [
          {
           "hoverlabel": {
            "namelength": 0
           },
           "hovertemplate": "genres=Action<br>realease_year=2002<br>revenue=%{x}<br>popularity=%{y}<br>budget=%{marker.size}",
           "legendgroup": "genres=Action",
           "marker": {
            "color": "#636efa",
            "size": [
             140000000,
             102000000,
             100000000,
             85000000,
             70000000,
             75000000,
             70000000,
             70000000,
             70000000,
             60000000,
             60000000,
             55000000,
             45000000,
             40000000,
             35000000,
             40000000,
             38000000,
             45000000,
             25000000,
             21000000,
             20000000,
             20000000,
             15000000,
             14000000,
             12000000,
             6500000
            ],
            "sizemode": "area",
            "sizeref": 77777.77777777778,
            "symbol": "circle"
           },
           "mode": "markers",
           "name": "genres=Action",
           "showlegend": true,
           "type": "scatter",
           "x": [
            441818803,
            358372926,
            7103973,
            78382433,
            277448382,
            114660784,
            65977295,
            33561137,
            19924033,
            214034224,
            165333180,
            6416302,
            94935764,
            8493890,
            75395048,
            10959475,
            119723358,
            306776732,
            41604473,
            43928932,
            12398628,
            5359645,
            9237470,
            25482931,
            61141030,
            12633747
           ],
           "xaxis": "x",
           "y": [
            91.332849,
            65.948959,
            12.092241,
            18.827753,
            46.217769,
            19.708731,
            14.086292000000002,
            13.267631,
            8.37378,
            86.47681700000001,
            37.537093,
            12.669777999999999,
            17.270539000000003,
            5.201688,
            26.595983,
            2.911819,
            24.085144,
            32.217425,
            6.086083,
            34.433521,
            17.227376,
            44.566609,
            6.373316,
            5.102258,
            6.7033190000000005,
            8.526635
           ],
           "yaxis": "y"
          }
         ],
         "name": "2002"
        },
        {
         "data": [
          {
           "hoverlabel": {
            "namelength": 0
           },
           "hovertemplate": "genres=Action<br>realease_year=1990<br>revenue=%{x}<br>popularity=%{y}<br>budget=%{marker.size}",
           "legendgroup": "genres=Action",
           "marker": {
            "color": "#636efa",
            "size": [
             65000000,
             70000000,
             49000000,
             30000000,
             11000000
            ],
            "sizemode": "area",
            "sizeref": 77777.77777777778,
            "symbol": "circle"
           },
           "mode": "markers",
           "name": "genres=Action",
           "showlegend": true,
           "type": "scatter",
           "x": [
            261317921,
            240031094,
            20423389,
            199200000,
            48572000
           ],
           "xaxis": "x",
           "y": [
            43.129703000000006,
            57.69846999999999,
            2.8084279999999997,
            46.212154999999996,
            32.579696999999996
           ],
           "yaxis": "y"
          }
         ],
         "name": "1990"
        },
        {
         "data": [
          {
           "hoverlabel": {
            "namelength": 0
           },
           "hovertemplate": "genres=Action<br>realease_year=1997<br>revenue=%{x}<br>popularity=%{y}<br>budget=%{marker.size}",
           "legendgroup": "genres=Action",
           "marker": {
            "color": "#636efa",
            "size": [
             125000000,
             116000000,
             160000000,
             90000000,
             85000000,
             80000000,
             75000000,
             75000000,
             60000000,
             55000000,
             50000000,
             50000000,
             45000000,
             40000000,
             37000000,
             30000000,
             15000000
            ],
            "sizemode": "area",
            "sizeref": 77777.77777777778,
            "symbol": "circle"
           },
           "mode": "markers",
           "name": "genres=Action",
           "showlegend": true,
           "type": "scatter",
           "x": [
            238207122,
            178127760,
            164508066,
            589390539,
            315156409,
            245676146,
            224012234,
            136982834,
            159330280,
            11466088,
            48169156,
            10541523,
            2154540,
            87840042,
            6482195,
            51376861,
            44862187
           ],
           "xaxis": "x",
           "y": [
            50.073575,
            16.90444,
            23.336875,
            104.121555,
            36.38795,
            46.075037,
            45.154631,
            22.179658,
            19.747459,
            4.700024,
            19.434672,
            3.314004,
            3.848893,
            19.833664000000002,
            4.131546,
            11.916389,
            19.284129
           ],
           "yaxis": "y"
          }
         ],
         "name": "1997"
        },
        {
         "data": [
          {
           "hoverlabel": {
            "namelength": 0
           },
           "hovertemplate": "genres=Action<br>realease_year=2006<br>revenue=%{x}<br>popularity=%{y}<br>budget=%{marker.size}",
           "legendgroup": "genres=Action",
           "marker": {
            "color": "#636efa",
            "size": [
             110000000,
             85000000,
             65000000,
             60000000,
             60000000,
             54000000,
             55000000,
             40000000,
             35000000,
             33000000,
             30000000,
             24000000,
             20000000,
             18000000,
             17000000,
             17000000,
             17000000,
             20000000,
             19000000,
             12000000,
             11000000,
             8000000,
             8000000,
             5800000
            ],
            "sizemode": "area",
            "sizeref": 77777.77777777778,
            "symbol": "circle"
           },
           "mode": "markers",
           "name": "genres=Action",
           "showlegend": true,
           "type": "scatter",
           "x": [
            574480841,
            158468292,
            422610419,
            77920346,
            17800000,
            132511035,
            65664721,
            120175290,
            10496317,
            62022014,
            41480851,
            23321954,
            37597471,
            1831348,
            57103895,
            9500000,
            374743,
            22165608,
            68673228,
            42931041,
            72778712,
            12671300,
            143451,
            7000000
           ],
           "xaxis": "x",
           "y": [
            48.780039,
            8.282876,
            65.197968,
            15.352807,
            13.155999,
            84.630969,
            32.31022,
            41.570046999999995,
            20.27704,
            19.642328,
            9.278361,
            6.009644000000001,
            15.804814000000002,
            9.244181,
            23.491962,
            19.311572,
            9.349386,
            7.679336,
            24.472479999999997,
            47.992816999999995,
            11.227087,
            5.069095,
            3.9424639999999997,
            3.201886
           ],
           "yaxis": "y"
          }
         ],
         "name": "2006"
        },
        {
         "data": [
          {
           "hoverlabel": {
            "namelength": 0
           },
           "hovertemplate": "genres=Action<br>realease_year=2000<br>revenue=%{x}<br>popularity=%{y}<br>budget=%{marker.size}",
           "legendgroup": "genres=Action",
           "marker": {
            "color": "#636efa",
            "size": [
             90000000,
             103000000,
             92000000,
             95000000,
             44000000,
             76000000,
             75000000,
             65000000,
             62000000,
             46000000,
             63600000,
             26000000,
             25000000,
             24000000,
             20000000,
             25000000,
             10000000,
             8500000,
             6000000
            ],
            "sizemode": "area",
            "sizeref": 77777.77777777778,
            "symbol": "circle"
           },
           "mode": "markers",
           "name": "genres=Action",
           "showlegend": true,
           "type": "scatter",
           "x": [
            237202299,
            457640427,
            264105545,
            190213455,
            21400000,
            35134820,
            215663859,
            128884132,
            127666415,
            107196498,
            19412993,
            71868327,
            91036760,
            12372410,
            27728118,
            15843608,
            1631839,
            19125401,
            9000000
           ],
           "xaxis": "x",
           "y": [
            52.995628,
            95.301296,
            40.20395,
            28.200874,
            7.89147,
            8.981427,
            13.318744,
            15.772081,
            18.096884,
            19.643365,
            4.494788,
            39.742009,
            19.750059,
            3.113009,
            2.027393,
            11.782725,
            3.988432,
            8.775844000000001,
            1.433692
           ],
           "yaxis": "y"
          }
         ],
         "name": "2000"
        },
        {
         "data": [
          {
           "hoverlabel": {
            "namelength": 0
           },
           "hovertemplate": "genres=Action<br>realease_year=1991<br>revenue=%{x}<br>popularity=%{y}<br>budget=%{marker.size}",
           "legendgroup": "genres=Action",
           "marker": {
            "color": "#636efa",
            "size": [
             100000000,
             65000000,
             23000000,
             14000000,
             8000000,
             6000000
            ],
            "sizemode": "area",
            "sizeref": 77777.77777777778,
            "symbol": "circle"
           },
           "mode": "markers",
           "name": "genres=Action",
           "showlegend": true,
           "type": "scatter",
           "x": [
            520000000,
            17218080,
            7434726,
            34793160,
            2275557,
            869325
           ],
           "xaxis": "x",
           "y": [
            101.74155,
            16.803457,
            12.869436,
            13.13724,
            8.403858999999999,
            1.478505
           ],
           "yaxis": "y"
          }
         ],
         "name": "1991"
        },
        {
         "data": [
          {
           "hoverlabel": {
            "namelength": 0
           },
           "hovertemplate": "genres=Action<br>realease_year=1994<br>revenue=%{x}<br>popularity=%{y}<br>budget=%{marker.size}",
           "legendgroup": "genres=Action",
           "marker": {
            "color": "#636efa",
            "size": [
             115000000,
             62000000,
             50000000,
             50000000,
             50000000,
             45000000,
             35000000,
             30000000,
             26000000,
             10000000
            ],
            "sizemode": "area",
            "sizeref": 77777.77777777778,
            "symbol": "circle"
           },
           "mode": "markers",
           "name": "genres=Action",
           "showlegend": true,
           "type": "scatter",
           "x": [
            378882411,
            215887717,
            119208989,
            49000000,
            16671505,
            170362582,
            99423521,
            350448145,
            36800000,
            29392418
           ],
           "xaxis": "x",
           "y": [
            38.729418,
            18.832470999999998,
            20.333953,
            9.114168,
            21.312185999999997,
            16.582709,
            19.286099,
            49.526736,
            7.9644509999999995,
            3.290639
           ],
           "yaxis": "y"
          }
         ],
         "name": "1994"
        },
        {
         "data": [
          {
           "hoverlabel": {
            "namelength": 0
           },
           "hovertemplate": "genres=Action<br>realease_year=1996<br>revenue=%{x}<br>popularity=%{y}<br>budget=%{marker.size}",
           "legendgroup": "genres=Action",
           "marker": {
            "color": "#636efa",
            "size": [
             100000000,
             92000000,
             80000000,
             75000000,
             75000000,
             80000000,
             50000000,
             55000000,
             50000000,
             50000000,
             38000000,
             25000000,
             25000000
            ],
            "sizemode": "area",
            "sizeref": 77777.77777777778,
            "symbol": "circle"
           },
           "mode": "markers",
           "name": "genres=Action",
           "showlegend": true,
           "type": "scatter",
           "x": [
            242295562,
            494471524,
            159212469,
            816969268,
            335062621,
            309492681,
            150270147,
            121969216,
            60209334,
            42277365,
            10300000,
            17193231,
            51702483
           ],
           "xaxis": "x",
           "y": [
            24.507987,
            32.079995000000004,
            16.681269,
            60.442593,
            51.469576,
            16.411345,
            22.769108,
            17.231675,
            20.588620000000002,
            21.637234,
            10.047578999999999,
            2.77255,
            10.115011
           ],
           "yaxis": "y"
          }
         ],
         "name": "1996"
        },
        {
         "data": [
          {
           "hoverlabel": {
            "namelength": 0
           },
           "hovertemplate": "genres=Action<br>realease_year=1995<br>revenue=%{x}<br>popularity=%{y}<br>budget=%{marker.size}",
           "legendgroup": "genres=Action",
           "marker": {
            "color": "#636efa",
            "size": [
             100000000,
             98000000,
             90000000,
             55000000,
             72000000,
             60000000,
             60000000,
             53000000,
             50000000,
             50000000,
             50000000,
             50000000,
             20000000,
             32000000,
             30000000,
             25000000,
             19000000,
             18000000
            ],
            "sizemode": "area",
            "sizeref": 77777.77777777778,
            "symbol": "circle"
           },
           "mode": "markers",
           "name": "genres=Action",
           "showlegend": true,
           "type": "scatter",
           "x": [
            336529144,
            10017322,
            366101666,
            127600435,
            210000000,
            35431113,
            104324083,
            157387195,
            152022101,
            189859560,
            30303072,
            9851610,
            7563728,
            18552460,
            24048000,
            4064495,
            141407024,
            122195920
           ],
           "xaxis": "x",
           "y": [
            48.205606,
            7.029308,
            51.881077000000005,
            19.143321,
            60.722162,
            10.004564,
            13.080725,
            20.334629,
            10.755847,
            30.397496000000004,
            23.073933,
            8.189406,
            17.842246,
            16.473354999999998,
            5.301589,
            8.186936,
            33.872182,
            16.470895000000002
           ],
           "yaxis": "y"
          }
         ],
         "name": "1995"
        },
        {
         "data": [
          {
           "hoverlabel": {
            "namelength": 0
           },
           "hovertemplate": "genres=Action<br>realease_year=1992<br>revenue=%{x}<br>popularity=%{y}<br>budget=%{marker.size}",
           "legendgroup": "genres=Action",
           "marker": {
            "color": "#636efa",
            "size": [
             80000000,
             40000000,
             8000000,
             220000
            ],
            "sizemode": "area",
            "sizeref": 77777.77777777778,
            "symbol": "circle"
           },
           "mode": "markers",
           "name": "genres=Action",
           "showlegend": true,
           "type": "scatter",
           "x": [
            280000000,
            75505856,
            6739141,
            2040920
           ],
           "xaxis": "x",
           "y": [
            59.113174,
            37.776565999999995,
            8.708229,
            14.269792
           ],
           "yaxis": "y"
          }
         ],
         "name": "1992"
        },
        {
         "data": [
          {
           "hoverlabel": {
            "namelength": 0
           },
           "hovertemplate": "genres=Action<br>realease_year=1993<br>revenue=%{x}<br>popularity=%{y}<br>budget=%{marker.size}",
           "legendgroup": "genres=Action",
           "marker": {
            "color": "#636efa",
            "size": [
             70000000,
             32000000,
             25000000,
             22000000,
             21000000,
             3000000,
             12500000,
             11500000,
             6000000,
             1500000,
             2600000
            ],
            "sizemode": "area",
            "sizeref": 77777.77777777778,
            "symbol": "circle"
           },
           "mode": "markers",
           "name": "genres=Action",
           "showlegend": true,
           "type": "scatter",
           "x": [
            255000211,
            36733909,
            56505065,
            10696210,
            42000000,
            1200000,
            12281551,
            3275585,
            3283371,
            418961,
            2850263
           ],
           "xaxis": "x",
           "y": [
            26.199089999999998,
            14.48851,
            30.537845,
            14.725467000000002,
            10.207065,
            1.2791059999999999,
            35.268557,
            4.850402,
            5.411243,
            5.817519,
            8.001156
           ],
           "yaxis": "y"
          }
         ],
         "name": "1993"
        },
        {
         "data": [
          {
           "hoverlabel": {
            "namelength": 0
           },
           "hovertemplate": "genres=Action<br>realease_year=1984<br>revenue=%{x}<br>popularity=%{y}<br>budget=%{marker.size}",
           "legendgroup": "genres=Action",
           "marker": {
            "color": "#636efa",
            "size": [
             4200000,
             40000000,
             25000000,
             25000000,
             15000000,
             6400000
            ],
            "sizemode": "area",
            "sizeref": 77777.77777777778,
            "symbol": "circle"
           },
           "mode": "markers",
           "name": "genres=Action",
           "showlegend": true,
           "type": "scatter",
           "x": [
            38376497,
            30925690,
            5778353,
            8613462,
            316360478,
            78371200
           ],
           "xaxis": "x",
           "y": [
            11.743085,
            25.876582,
            4.020194,
            7.436491,
            29.843818,
            74.23479300000001
           ],
           "yaxis": "y"
          }
         ],
         "name": "1984"
        },
        {
         "data": [
          {
           "hoverlabel": {
            "namelength": 0
           },
           "hovertemplate": "genres=Action<br>realease_year=1988<br>revenue=%{x}<br>popularity=%{y}<br>budget=%{marker.size}",
           "legendgroup": "genres=Action",
           "marker": {
            "color": "#636efa",
            "size": [
             63000000,
             28000000,
             7000000,
             4000000,
             3000000,
             1500000
            ],
            "sizemode": "area",
            "sizeref": 77777.77777777778,
            "symbol": "circle"
           },
           "mode": "markers",
           "name": "genres=Action",
           "showlegend": true,
           "type": "scatter",
           "x": [
            189015611,
            140767956,
            20256975,
            13008928,
            7282851,
            11806119
           ],
           "xaxis": "x",
           "y": [
            31.294717,
            66.169628,
            6.872783999999999,
            29.852608,
            5.003615,
            17.49699
           ],
           "yaxis": "y"
          }
         ],
         "name": "1988"
        },
        {
         "data": [
          {
           "hoverlabel": {
            "namelength": 0
           },
           "hovertemplate": "genres=Action<br>realease_year=1978<br>revenue=%{x}<br>popularity=%{y}<br>budget=%{marker.size}",
           "legendgroup": "genres=Action",
           "marker": {
            "color": "#636efa",
            "size": [
             55000000,
             5000000
            ],
            "sizemode": "area",
            "sizeref": 77777.77777777778,
            "symbol": "circle"
           },
           "mode": "markers",
           "name": "genres=Action",
           "showlegend": true,
           "type": "scatter",
           "x": [
            300218018,
            7230000
           ],
           "xaxis": "x",
           "y": [
            48.507081,
            5.348446
           ],
           "yaxis": "y"
          }
         ],
         "name": "1978"
        },
        {
         "data": [
          {
           "hoverlabel": {
            "namelength": 0
           },
           "hovertemplate": "genres=Action<br>realease_year=1989<br>revenue=%{x}<br>popularity=%{y}<br>budget=%{marker.size}",
           "legendgroup": "genres=Action",
           "marker": {
            "color": "#636efa",
            "size": [
             55000000,
             30000000,
             15000000
            ],
            "sizemode": "area",
            "sizeref": 77777.77777777778,
            "symbol": "circle"
           },
           "mode": "markers",
           "name": "genres=Action",
           "showlegend": true,
           "type": "scatter",
           "x": [
            63408614,
            45892212,
            30050028
           ],
           "xaxis": "x",
           "y": [
            22.787667000000003,
            11.196019999999999,
            6.216203
           ],
           "yaxis": "y"
          }
         ],
         "name": "1989"
        },
        {
         "data": [
          {
           "hoverlabel": {
            "namelength": 0
           },
           "hovertemplate": "genres=Action<br>realease_year=1980<br>revenue=%{x}<br>popularity=%{y}<br>budget=%{marker.size}",
           "legendgroup": "genres=Action",
           "marker": {
            "color": "#636efa",
            "size": [
             54000000,
             44000000
            ],
            "sizemode": "area",
            "sizeref": 77777.77777777778,
            "symbol": "circle"
           },
           "mode": "markers",
           "name": "genres=Action",
           "showlegend": true,
           "type": "scatter",
           "x": [
            190458706,
            3484331
           ],
           "xaxis": "x",
           "y": [
            30.515175,
            5.3801239999999995
           ],
           "yaxis": "y"
          }
         ],
         "name": "1980"
        },
        {
         "data": [
          {
           "hoverlabel": {
            "namelength": 0
           },
           "hovertemplate": "genres=Action<br>realease_year=1982<br>revenue=%{x}<br>popularity=%{y}<br>budget=%{marker.size}",
           "legendgroup": "genres=Action",
           "marker": {
            "color": "#636efa",
            "size": [
             15000000,
             12000000
            ],
            "sizemode": "area",
            "sizeref": 77777.77777777778,
            "symbol": "circle"
           },
           "mode": "markers",
           "name": "genres=Action",
           "showlegend": true,
           "type": "scatter",
           "x": [
            125212904,
            96800000
           ],
           "xaxis": "x",
           "y": [
            63.071045999999996,
            22.434102
           ],
           "yaxis": "y"
          }
         ],
         "name": "1982"
        },
        {
         "data": [
          {
           "hoverlabel": {
            "namelength": 0
           },
           "hovertemplate": "genres=Action<br>realease_year=1985<br>revenue=%{x}<br>popularity=%{y}<br>budget=%{marker.size}",
           "legendgroup": "genres=Action",
           "marker": {
            "color": "#636efa",
            "size": [
             44000000,
             12305523,
             10000000,
             10000000,
             2000000
            ],
            "sizemode": "area",
            "sizeref": 77777.77777777778,
            "symbol": "circle"
           },
           "mode": "markers",
           "name": "genres=Action",
           "showlegend": true,
           "type": "scatter",
           "x": [
            300400432,
            36230219,
            57500000,
            25754284,
            390659
           ],
           "xaxis": "x",
           "y": [
            38.653969000000004,
            36.582038,
            34.224204,
            4.928776999999999,
            5.261065
           ],
           "yaxis": "y"
          }
         ],
         "name": "1985"
        },
        {
         "data": [
          {
           "hoverlabel": {
            "namelength": 0
           },
           "hovertemplate": "genres=Action<br>realease_year=1987<br>revenue=%{x}<br>popularity=%{y}<br>budget=%{marker.size}",
           "legendgroup": "genres=Action",
           "marker": {
            "color": "#636efa",
            "size": [
             40000000,
             55000000,
             27000000,
             20000000,
             17000000
            ],
            "sizemode": "area",
            "sizeref": 77777.77777777778,
            "symbol": "circle"
           },
           "mode": "markers",
           "name": "genres=Action",
           "showlegend": true,
           "type": "scatter",
           "x": [
            191185897,
            14375181,
            38122105,
            299965036,
            19300000
           ],
           "xaxis": "x",
           "y": [
            23.331459,
            2.410546,
            30.131497999999997,
            25.28436,
            17.062117
           ],
           "yaxis": "y"
          }
         ],
         "name": "1987"
        },
        {
         "data": [
          {
           "hoverlabel": {
            "namelength": 0
           },
           "hovertemplate": "genres=Action<br>realease_year=1979<br>revenue=%{x}<br>popularity=%{y}<br>budget=%{marker.size}",
           "legendgroup": "genres=Action",
           "marker": {
            "color": "#636efa",
            "size": [
             35000000,
             34000000
            ],
            "sizemode": "area",
            "sizeref": 77777.77777777778,
            "symbol": "circle"
           },
           "mode": "markers",
           "name": "genres=Action",
           "showlegend": true,
           "type": "scatter",
           "x": [
            31755742,
            210308099
           ],
           "xaxis": "x",
           "y": [
            10.032625999999999,
            29.887403999999997
           ],
           "yaxis": "y"
          }
         ],
         "name": "1979"
        },
        {
         "data": [
          {
           "hoverlabel": {
            "namelength": 0
           },
           "hovertemplate": "genres=Action<br>realease_year=1983<br>revenue=%{x}<br>popularity=%{y}<br>budget=%{marker.size}",
           "legendgroup": "genres=Action",
           "marker": {
            "color": "#636efa",
            "size": [
             25000000,
             5000000
            ],
            "sizemode": "area",
            "sizeref": 77777.77777777778,
            "symbol": "circle"
           },
           "mode": "markers",
           "name": "genres=Action",
           "showlegend": true,
           "type": "scatter",
           "x": [
            65884703,
            12232628
           ],
           "xaxis": "x",
           "y": [
            70.105981,
            8.452666
           ],
           "yaxis": "y"
          }
         ],
         "name": "1983"
        },
        {
         "data": [
          {
           "hoverlabel": {
            "namelength": 0
           },
           "hovertemplate": "genres=Action<br>realease_year=1986<br>revenue=%{x}<br>popularity=%{y}<br>budget=%{marker.size}",
           "legendgroup": "genres=Action",
           "marker": {
            "color": "#636efa",
            "size": [
             25000000,
             15000000,
             25000000
            ],
            "sizemode": "area",
            "sizeref": 77777.77777777778,
            "symbol": "circle"
           },
           "mode": "markers",
           "name": "genres=Action",
           "showlegend": true,
           "type": "scatter",
           "x": [
            11000000,
            356830601,
            79817939
           ],
           "xaxis": "x",
           "y": [
            29.796394,
            58.900647,
            15.262129999999999
           ],
           "yaxis": "y"
          }
         ],
         "name": "1986"
        },
        {
         "data": [
          {
           "hoverlabel": {
            "namelength": 0
           },
           "hovertemplate": "genres=Action<br>realease_year=1977<br>revenue=%{x}<br>popularity=%{y}<br>budget=%{marker.size}",
           "legendgroup": "genres=Action",
           "marker": {
            "color": "#636efa",
            "size": [
             22000000,
             17000000
            ],
            "sizemode": "area",
            "sizeref": 77777.77777777778,
            "symbol": "circle"
           },
           "mode": "markers",
           "name": "genres=Action",
           "showlegend": true,
           "type": "scatter",
           "x": [
            12000000,
            8720000
           ],
           "xaxis": "x",
           "y": [
            9.088208999999999,
            2.215261
           ],
           "yaxis": "y"
          }
         ],
         "name": "1977"
        },
        {
         "data": [
          {
           "hoverlabel": {
            "namelength": 0
           },
           "hovertemplate": "genres=Action<br>realease_year=1971<br>revenue=%{x}<br>popularity=%{y}<br>budget=%{marker.size}",
           "legendgroup": "genres=Action",
           "marker": {
            "color": "#636efa",
            "size": [
             1800000,
             2500000
            ],
            "sizemode": "area",
            "sizeref": 77777.77777777778,
            "symbol": "circle"
           },
           "mode": "markers",
           "name": "genres=Action",
           "showlegend": true,
           "type": "scatter",
           "x": [
            41158757,
            12348905
           ],
           "xaxis": "x",
           "y": [
            15.978136,
            18.30961
           ],
           "yaxis": "y"
          }
         ],
         "name": "1971"
        },
        {
         "data": [
          {
           "hoverlabel": {
            "namelength": 0
           },
           "hovertemplate": "genres=Action<br>realease_year=1981<br>revenue=%{x}<br>popularity=%{y}<br>budget=%{marker.size}",
           "legendgroup": "genres=Action",
           "marker": {
            "color": "#636efa",
            "size": [
             18000000,
             14000000,
             10000000,
             5000000
            ],
            "sizemode": "area",
            "sizeref": 77777.77777777778,
            "symbol": "circle"
           },
           "mode": "markers",
           "name": "genres=Action",
           "showlegend": true,
           "type": "scatter",
           "x": [
            2945600,
            85000000,
            85300000,
            19905359
           ],
           "xaxis": "x",
           "y": [
            11.725805000000001,
            26.967494,
            10.892398,
            7.0588679999999995
           ],
           "yaxis": "y"
          }
         ],
         "name": "1981"
        },
        {
         "data": [
          {
           "hoverlabel": {
            "namelength": 0
           },
           "hovertemplate": "genres=Action<br>realease_year=1963<br>revenue=%{x}<br>popularity=%{y}<br>budget=%{marker.size}",
           "legendgroup": "genres=Action",
           "marker": {
            "color": "#636efa",
            "size": [
             17000000,
             9400000,
             2500000,
             2000000
            ],
            "sizemode": "area",
            "sizeref": 77777.77777777778,
            "symbol": "circle"
           },
           "mode": "markers",
           "name": "genres=Action",
           "showlegend": true,
           "type": "scatter",
           "x": [
            10000000,
            60000000,
            10000000,
            78898765
           ],
           "xaxis": "x",
           "y": [
            3.3210949999999997,
            14.562991,
            6.82919,
            41.298722999999995
           ],
           "yaxis": "y"
          }
         ],
         "name": "1963"
        },
        {
         "data": [
          {
           "hoverlabel": {
            "namelength": 0
           },
           "hovertemplate": "genres=Action<br>realease_year=1962<br>revenue=%{x}<br>popularity=%{y}<br>budget=%{marker.size}",
           "legendgroup": "genres=Action",
           "marker": {
            "color": "#636efa",
            "size": [
             10000000
            ],
            "sizemode": "area",
            "sizeref": 77777.77777777778,
            "symbol": "circle"
           },
           "mode": "markers",
           "name": "genres=Action",
           "showlegend": true,
           "type": "scatter",
           "x": [
            50100000
           ],
           "xaxis": "x",
           "y": [
            19.524972
           ],
           "yaxis": "y"
          }
         ],
         "name": "1962"
        },
        {
         "data": [
          {
           "hoverlabel": {
            "namelength": 0
           },
           "hovertemplate": "genres=Action<br>realease_year=1967<br>revenue=%{x}<br>popularity=%{y}<br>budget=%{marker.size}",
           "legendgroup": "genres=Action",
           "marker": {
            "color": "#636efa",
            "size": [
             9500000,
             2500000
            ],
            "sizemode": "area",
            "sizeref": 77777.77777777778,
            "symbol": "circle"
           },
           "mode": "markers",
           "name": "genres=Action",
           "showlegend": true,
           "type": "scatter",
           "x": [
            111584787,
            3200000
           ],
           "xaxis": "x",
           "y": [
            28.675890999999996,
            5.164423
           ],
           "yaxis": "y"
          }
         ],
         "name": "1967"
        },
        {
         "data": [
          {
           "hoverlabel": {
            "namelength": 0
           },
           "hovertemplate": "genres=Action<br>realease_year=1964<br>revenue=%{x}<br>popularity=%{y}<br>budget=%{marker.size}",
           "legendgroup": "genres=Action",
           "marker": {
            "color": "#636efa",
            "size": [
             5800000
            ],
            "sizemode": "area",
            "sizeref": 77777.77777777778,
            "symbol": "circle"
           },
           "mode": "markers",
           "name": "genres=Action",
           "showlegend": true,
           "type": "scatter",
           "x": [
            6800000
           ],
           "xaxis": "x",
           "y": [
            4.49029
           ],
           "yaxis": "y"
          }
         ],
         "name": "1964"
        },
        {
         "data": [
          {
           "hoverlabel": {
            "namelength": 0
           },
           "hovertemplate": "genres=Action<br>realease_year=1952<br>revenue=%{x}<br>popularity=%{y}<br>budget=%{marker.size}",
           "legendgroup": "genres=Action",
           "marker": {
            "color": "#636efa",
            "size": [
             4000000
            ],
            "sizemode": "area",
            "sizeref": 77777.77777777778,
            "symbol": "circle"
           },
           "mode": "markers",
           "name": "genres=Action",
           "showlegend": true,
           "type": "scatter",
           "x": [
            36000000
           ],
           "xaxis": "x",
           "y": [
            8.988455
           ],
           "yaxis": "y"
          }
         ],
         "name": "1952"
        },
        {
         "data": [
          {
           "hoverlabel": {
            "namelength": 0
           },
           "hovertemplate": "genres=Action<br>realease_year=1969<br>revenue=%{x}<br>popularity=%{y}<br>budget=%{marker.size}",
           "legendgroup": "genres=Action",
           "marker": {
            "color": "#636efa",
            "size": [
             4000000
            ],
            "sizemode": "area",
            "sizeref": 77777.77777777778,
            "symbol": "circle"
           },
           "mode": "markers",
           "name": "genres=Action",
           "showlegend": true,
           "type": "scatter",
           "x": [
            6000000
           ],
           "xaxis": "x",
           "y": [
            5.975604
           ],
           "yaxis": "y"
          }
         ],
         "name": "1969"
        },
        {
         "data": [
          {
           "hoverlabel": {
            "namelength": 0
           },
           "hovertemplate": "genres=Action<br>realease_year=1930<br>revenue=%{x}<br>popularity=%{y}<br>budget=%{marker.size}",
           "legendgroup": "genres=Action",
           "marker": {
            "color": "#636efa",
            "size": [
             3950000
            ],
            "sizemode": "area",
            "sizeref": 77777.77777777778,
            "symbol": "circle"
           },
           "mode": "markers",
           "name": "genres=Action",
           "showlegend": true,
           "type": "scatter",
           "x": [
            8000000
           ],
           "xaxis": "x",
           "y": [
            8.484123
           ],
           "yaxis": "y"
          }
         ],
         "name": "1930"
        },
        {
         "data": [
          {
           "hoverlabel": {
            "namelength": 0
           },
           "hovertemplate": "genres=Action<br>realease_year=1950<br>revenue=%{x}<br>popularity=%{y}<br>budget=%{marker.size}",
           "legendgroup": "genres=Action",
           "marker": {
            "color": "#636efa",
            "size": [
             3768785
            ],
            "sizemode": "area",
            "sizeref": 77777.77777777778,
            "symbol": "circle"
           },
           "mode": "markers",
           "name": "genres=Action",
           "showlegend": true,
           "type": "scatter",
           "x": [
            8000000
           ],
           "xaxis": "x",
           "y": [
            1.726175
           ],
           "yaxis": "y"
          }
         ],
         "name": "1950"
        },
        {
         "data": [
          {
           "hoverlabel": {
            "namelength": 0
           },
           "hovertemplate": "genres=Action<br>realease_year=1970<br>revenue=%{x}<br>popularity=%{y}<br>budget=%{marker.size}",
           "legendgroup": "genres=Action",
           "marker": {
            "color": "#636efa",
            "size": [
             3716946
            ],
            "sizemode": "area",
            "sizeref": 77777.77777777778,
            "symbol": "circle"
           },
           "mode": "markers",
           "name": "genres=Action",
           "showlegend": true,
           "type": "scatter",
           "x": [
            5000000
           ],
           "xaxis": "x",
           "y": [
            2.676535
           ],
           "yaxis": "y"
          }
         ],
         "name": "1970"
        },
        {
         "data": [
          {
           "hoverlabel": {
            "namelength": 0
           },
           "hovertemplate": "genres=Action<br>realease_year=1966<br>revenue=%{x}<br>popularity=%{y}<br>budget=%{marker.size}",
           "legendgroup": "genres=Action",
           "marker": {
            "color": "#636efa",
            "size": [
             3500000
            ],
            "sizemode": "area",
            "sizeref": 77777.77777777778,
            "symbol": "circle"
           },
           "mode": "markers",
           "name": "genres=Action",
           "showlegend": true,
           "type": "scatter",
           "x": [
            12000000
           ],
           "xaxis": "x",
           "y": [
            2.938973
           ],
           "yaxis": "y"
          }
         ],
         "name": "1966"
        },
        {
         "data": [
          {
           "hoverlabel": {
            "namelength": 0
           },
           "hovertemplate": "genres=Action<br>realease_year=1973<br>revenue=%{x}<br>popularity=%{y}<br>budget=%{marker.size}",
           "legendgroup": "genres=Action",
           "marker": {
            "color": "#636efa",
            "size": [
             1700000
            ],
            "sizemode": "area",
            "sizeref": 77777.77777777778,
            "symbol": "circle"
           },
           "mode": "markers",
           "name": "genres=Action",
           "showlegend": true,
           "type": "scatter",
           "x": [
            8844595
           ],
           "xaxis": "x",
           "y": [
            13.315382999999999
           ],
           "yaxis": "y"
          }
         ],
         "name": "1973"
        },
        {
         "data": [
          {
           "hoverlabel": {
            "namelength": 0
           },
           "hovertemplate": "genres=Action<br>realease_year=1972<br>revenue=%{x}<br>popularity=%{y}<br>budget=%{marker.size}",
           "legendgroup": "genres=Action",
           "marker": {
            "color": "#636efa",
            "size": [
             1700000
            ],
            "sizemode": "area",
            "sizeref": 77777.77777777778,
            "symbol": "circle"
           },
           "mode": "markers",
           "name": "genres=Action",
           "showlegend": true,
           "type": "scatter",
           "x": [
            9700000
           ],
           "xaxis": "x",
           "y": [
            18.828682999999998
           ],
           "yaxis": "y"
          }
         ],
         "name": "1972"
        },
        {
         "data": [
          {
           "hoverlabel": {
            "namelength": 0
           },
           "hovertemplate": "genres=Action<br>realease_year=1936<br>revenue=%{x}<br>popularity=%{y}<br>budget=%{marker.size}",
           "legendgroup": "genres=Action",
           "marker": {
            "color": "#636efa",
            "size": [
             1200000
            ],
            "sizemode": "area",
            "sizeref": 77777.77777777778,
            "symbol": "circle"
           },
           "mode": "markers",
           "name": "genres=Action",
           "showlegend": true,
           "type": "scatter",
           "x": [
            2736000
           ],
           "xaxis": "x",
           "y": [
            2.968235
           ],
           "yaxis": "y"
          }
         ],
         "name": "1936"
        },
        {
         "data": [
          {
           "hoverlabel": {
            "namelength": 0
           },
           "hovertemplate": "genres=Action<br>realease_year=1949<br>revenue=%{x}<br>popularity=%{y}<br>budget=%{marker.size}",
           "legendgroup": "genres=Action",
           "marker": {
            "color": "#636efa",
            "size": [
             1000000
            ],
            "sizemode": "area",
            "sizeref": 77777.77777777778,
            "symbol": "circle"
           },
           "mode": "markers",
           "name": "genres=Action",
           "showlegend": true,
           "type": "scatter",
           "x": [
            7800000
           ],
           "xaxis": "x",
           "y": [
            3.8510000000000004
           ],
           "yaxis": "y"
          }
         ],
         "name": "1949"
        },
        {
         "data": [
          {
           "hoverlabel": {
            "namelength": 0
           },
           "hovertemplate": "genres=Action<br>realease_year=1954<br>revenue=%{x}<br>popularity=%{y}<br>budget=%{marker.size}",
           "legendgroup": "genres=Action",
           "marker": {
            "color": "#636efa",
            "size": [
             2000000
            ],
            "sizemode": "area",
            "sizeref": 77777.77777777778,
            "symbol": "circle"
           },
           "mode": "markers",
           "name": "genres=Action",
           "showlegend": true,
           "type": "scatter",
           "x": [
            271841
           ],
           "xaxis": "x",
           "y": [
            39.756747999999995
           ],
           "yaxis": "y"
          }
         ],
         "name": "1954"
        },
        {
         "data": [
          {
           "hoverlabel": {
            "namelength": 0
           },
           "hovertemplate": "genres=Action<br>realease_year=1975<br>revenue=%{x}<br>popularity=%{y}<br>budget=%{marker.size}",
           "legendgroup": "genres=Action",
           "marker": {
            "color": "#636efa",
            "size": [
             300000
            ],
            "sizemode": "area",
            "sizeref": 77777.77777777778,
            "symbol": "circle"
           },
           "mode": "markers",
           "name": "genres=Action",
           "showlegend": true,
           "type": "scatter",
           "x": [
            8000000
           ],
           "xaxis": "x",
           "y": [
            6.473667
           ],
           "yaxis": "y"
          }
         ],
         "name": "1975"
        }
       ],
       "layout": {
        "legend": {
         "itemsizing": "constant",
         "tracegroupgap": 0
        },
        "sliders": [
         {
          "active": 0,
          "currentvalue": {
           "prefix": "realease_year="
          },
          "len": 0.9,
          "pad": {
           "b": 10,
           "t": 60
          },
          "steps": [
           {
            "args": [
             [
              "2009"
             ],
             {
              "frame": {
               "duration": 0,
               "redraw": false
              },
              "fromcurrent": true,
              "mode": "immediate",
              "transition": {
               "duration": 0,
               "easing": "linear"
              }
             }
            ],
            "label": "2009",
            "method": "animate"
           },
           {
            "args": [
             [
              "2015"
             ],
             {
              "frame": {
               "duration": 0,
               "redraw": false
              },
              "fromcurrent": true,
              "mode": "immediate",
              "transition": {
               "duration": 0,
               "easing": "linear"
              }
             }
            ],
            "label": "2015",
            "method": "animate"
           },
           {
            "args": [
             [
              "2012"
             ],
             {
              "frame": {
               "duration": 0,
               "redraw": false
              },
              "fromcurrent": true,
              "mode": "immediate",
              "transition": {
               "duration": 0,
               "easing": "linear"
              }
             }
            ],
            "label": "2012",
            "method": "animate"
           },
           {
            "args": [
             [
              "2016"
             ],
             {
              "frame": {
               "duration": 0,
               "redraw": false
              },
              "fromcurrent": true,
              "mode": "immediate",
              "transition": {
               "duration": 0,
               "easing": "linear"
              }
             }
            ],
            "label": "2016",
            "method": "animate"
           },
           {
            "args": [
             [
              "2013"
             ],
             {
              "frame": {
               "duration": 0,
               "redraw": false
              },
              "fromcurrent": true,
              "mode": "immediate",
              "transition": {
               "duration": 0,
               "easing": "linear"
              }
             }
            ],
            "label": "2013",
            "method": "animate"
           },
           {
            "args": [
             [
              "2014"
             ],
             {
              "frame": {
               "duration": 0,
               "redraw": false
              },
              "fromcurrent": true,
              "mode": "immediate",
              "transition": {
               "duration": 0,
               "easing": "linear"
              }
             }
            ],
            "label": "2014",
            "method": "animate"
           },
           {
            "args": [
             [
              "2010"
             ],
             {
              "frame": {
               "duration": 0,
               "redraw": false
              },
              "fromcurrent": true,
              "mode": "immediate",
              "transition": {
               "duration": 0,
               "easing": "linear"
              }
             }
            ],
            "label": "2010",
            "method": "animate"
           },
           {
            "args": [
             [
              "2004"
             ],
             {
              "frame": {
               "duration": 0,
               "redraw": false
              },
              "fromcurrent": true,
              "mode": "immediate",
              "transition": {
               "duration": 0,
               "easing": "linear"
              }
             }
            ],
            "label": "2004",
            "method": "animate"
           },
           {
            "args": [
             [
              "2011"
             ],
             {
              "frame": {
               "duration": 0,
               "redraw": false
              },
              "fromcurrent": true,
              "mode": "immediate",
              "transition": {
               "duration": 0,
               "easing": "linear"
              }
             }
            ],
            "label": "2011",
            "method": "animate"
           },
           {
            "args": [
             [
              "2007"
             ],
             {
              "frame": {
               "duration": 0,
               "redraw": false
              },
              "fromcurrent": true,
              "mode": "immediate",
              "transition": {
               "duration": 0,
               "easing": "linear"
              }
             }
            ],
            "label": "2007",
            "method": "animate"
           },
           {
            "args": [
             [
              "2008"
             ],
             {
              "frame": {
               "duration": 0,
               "redraw": false
              },
              "fromcurrent": true,
              "mode": "immediate",
              "transition": {
               "duration": 0,
               "easing": "linear"
              }
             }
            ],
            "label": "2008",
            "method": "animate"
           },
           {
            "args": [
             [
              "1999"
             ],
             {
              "frame": {
               "duration": 0,
               "redraw": false
              },
              "fromcurrent": true,
              "mode": "immediate",
              "transition": {
               "duration": 0,
               "easing": "linear"
              }
             }
            ],
            "label": "1999",
            "method": "animate"
           },
           {
            "args": [
             [
              "2003"
             ],
             {
              "frame": {
               "duration": 0,
               "redraw": false
              },
              "fromcurrent": true,
              "mode": "immediate",
              "transition": {
               "duration": 0,
               "easing": "linear"
              }
             }
            ],
            "label": "2003",
            "method": "animate"
           },
           {
            "args": [
             [
              "2001"
             ],
             {
              "frame": {
               "duration": 0,
               "redraw": false
              },
              "fromcurrent": true,
              "mode": "immediate",
              "transition": {
               "duration": 0,
               "easing": "linear"
              }
             }
            ],
            "label": "2001",
            "method": "animate"
           },
           {
            "args": [
             [
              "2005"
             ],
             {
              "frame": {
               "duration": 0,
               "redraw": false
              },
              "fromcurrent": true,
              "mode": "immediate",
              "transition": {
               "duration": 0,
               "easing": "linear"
              }
             }
            ],
            "label": "2005",
            "method": "animate"
           },
           {
            "args": [
             [
              "1998"
             ],
             {
              "frame": {
               "duration": 0,
               "redraw": false
              },
              "fromcurrent": true,
              "mode": "immediate",
              "transition": {
               "duration": 0,
               "easing": "linear"
              }
             }
            ],
            "label": "1998",
            "method": "animate"
           },
           {
            "args": [
             [
              "2002"
             ],
             {
              "frame": {
               "duration": 0,
               "redraw": false
              },
              "fromcurrent": true,
              "mode": "immediate",
              "transition": {
               "duration": 0,
               "easing": "linear"
              }
             }
            ],
            "label": "2002",
            "method": "animate"
           },
           {
            "args": [
             [
              "1990"
             ],
             {
              "frame": {
               "duration": 0,
               "redraw": false
              },
              "fromcurrent": true,
              "mode": "immediate",
              "transition": {
               "duration": 0,
               "easing": "linear"
              }
             }
            ],
            "label": "1990",
            "method": "animate"
           },
           {
            "args": [
             [
              "1997"
             ],
             {
              "frame": {
               "duration": 0,
               "redraw": false
              },
              "fromcurrent": true,
              "mode": "immediate",
              "transition": {
               "duration": 0,
               "easing": "linear"
              }
             }
            ],
            "label": "1997",
            "method": "animate"
           },
           {
            "args": [
             [
              "2006"
             ],
             {
              "frame": {
               "duration": 0,
               "redraw": false
              },
              "fromcurrent": true,
              "mode": "immediate",
              "transition": {
               "duration": 0,
               "easing": "linear"
              }
             }
            ],
            "label": "2006",
            "method": "animate"
           },
           {
            "args": [
             [
              "2000"
             ],
             {
              "frame": {
               "duration": 0,
               "redraw": false
              },
              "fromcurrent": true,
              "mode": "immediate",
              "transition": {
               "duration": 0,
               "easing": "linear"
              }
             }
            ],
            "label": "2000",
            "method": "animate"
           },
           {
            "args": [
             [
              "1991"
             ],
             {
              "frame": {
               "duration": 0,
               "redraw": false
              },
              "fromcurrent": true,
              "mode": "immediate",
              "transition": {
               "duration": 0,
               "easing": "linear"
              }
             }
            ],
            "label": "1991",
            "method": "animate"
           },
           {
            "args": [
             [
              "1994"
             ],
             {
              "frame": {
               "duration": 0,
               "redraw": false
              },
              "fromcurrent": true,
              "mode": "immediate",
              "transition": {
               "duration": 0,
               "easing": "linear"
              }
             }
            ],
            "label": "1994",
            "method": "animate"
           },
           {
            "args": [
             [
              "1996"
             ],
             {
              "frame": {
               "duration": 0,
               "redraw": false
              },
              "fromcurrent": true,
              "mode": "immediate",
              "transition": {
               "duration": 0,
               "easing": "linear"
              }
             }
            ],
            "label": "1996",
            "method": "animate"
           },
           {
            "args": [
             [
              "1995"
             ],
             {
              "frame": {
               "duration": 0,
               "redraw": false
              },
              "fromcurrent": true,
              "mode": "immediate",
              "transition": {
               "duration": 0,
               "easing": "linear"
              }
             }
            ],
            "label": "1995",
            "method": "animate"
           },
           {
            "args": [
             [
              "1992"
             ],
             {
              "frame": {
               "duration": 0,
               "redraw": false
              },
              "fromcurrent": true,
              "mode": "immediate",
              "transition": {
               "duration": 0,
               "easing": "linear"
              }
             }
            ],
            "label": "1992",
            "method": "animate"
           },
           {
            "args": [
             [
              "1993"
             ],
             {
              "frame": {
               "duration": 0,
               "redraw": false
              },
              "fromcurrent": true,
              "mode": "immediate",
              "transition": {
               "duration": 0,
               "easing": "linear"
              }
             }
            ],
            "label": "1993",
            "method": "animate"
           },
           {
            "args": [
             [
              "1984"
             ],
             {
              "frame": {
               "duration": 0,
               "redraw": false
              },
              "fromcurrent": true,
              "mode": "immediate",
              "transition": {
               "duration": 0,
               "easing": "linear"
              }
             }
            ],
            "label": "1984",
            "method": "animate"
           },
           {
            "args": [
             [
              "1988"
             ],
             {
              "frame": {
               "duration": 0,
               "redraw": false
              },
              "fromcurrent": true,
              "mode": "immediate",
              "transition": {
               "duration": 0,
               "easing": "linear"
              }
             }
            ],
            "label": "1988",
            "method": "animate"
           },
           {
            "args": [
             [
              "1978"
             ],
             {
              "frame": {
               "duration": 0,
               "redraw": false
              },
              "fromcurrent": true,
              "mode": "immediate",
              "transition": {
               "duration": 0,
               "easing": "linear"
              }
             }
            ],
            "label": "1978",
            "method": "animate"
           },
           {
            "args": [
             [
              "1989"
             ],
             {
              "frame": {
               "duration": 0,
               "redraw": false
              },
              "fromcurrent": true,
              "mode": "immediate",
              "transition": {
               "duration": 0,
               "easing": "linear"
              }
             }
            ],
            "label": "1989",
            "method": "animate"
           },
           {
            "args": [
             [
              "1980"
             ],
             {
              "frame": {
               "duration": 0,
               "redraw": false
              },
              "fromcurrent": true,
              "mode": "immediate",
              "transition": {
               "duration": 0,
               "easing": "linear"
              }
             }
            ],
            "label": "1980",
            "method": "animate"
           },
           {
            "args": [
             [
              "1982"
             ],
             {
              "frame": {
               "duration": 0,
               "redraw": false
              },
              "fromcurrent": true,
              "mode": "immediate",
              "transition": {
               "duration": 0,
               "easing": "linear"
              }
             }
            ],
            "label": "1982",
            "method": "animate"
           },
           {
            "args": [
             [
              "1985"
             ],
             {
              "frame": {
               "duration": 0,
               "redraw": false
              },
              "fromcurrent": true,
              "mode": "immediate",
              "transition": {
               "duration": 0,
               "easing": "linear"
              }
             }
            ],
            "label": "1985",
            "method": "animate"
           },
           {
            "args": [
             [
              "1987"
             ],
             {
              "frame": {
               "duration": 0,
               "redraw": false
              },
              "fromcurrent": true,
              "mode": "immediate",
              "transition": {
               "duration": 0,
               "easing": "linear"
              }
             }
            ],
            "label": "1987",
            "method": "animate"
           },
           {
            "args": [
             [
              "1979"
             ],
             {
              "frame": {
               "duration": 0,
               "redraw": false
              },
              "fromcurrent": true,
              "mode": "immediate",
              "transition": {
               "duration": 0,
               "easing": "linear"
              }
             }
            ],
            "label": "1979",
            "method": "animate"
           },
           {
            "args": [
             [
              "1983"
             ],
             {
              "frame": {
               "duration": 0,
               "redraw": false
              },
              "fromcurrent": true,
              "mode": "immediate",
              "transition": {
               "duration": 0,
               "easing": "linear"
              }
             }
            ],
            "label": "1983",
            "method": "animate"
           },
           {
            "args": [
             [
              "1986"
             ],
             {
              "frame": {
               "duration": 0,
               "redraw": false
              },
              "fromcurrent": true,
              "mode": "immediate",
              "transition": {
               "duration": 0,
               "easing": "linear"
              }
             }
            ],
            "label": "1986",
            "method": "animate"
           },
           {
            "args": [
             [
              "1977"
             ],
             {
              "frame": {
               "duration": 0,
               "redraw": false
              },
              "fromcurrent": true,
              "mode": "immediate",
              "transition": {
               "duration": 0,
               "easing": "linear"
              }
             }
            ],
            "label": "1977",
            "method": "animate"
           },
           {
            "args": [
             [
              "1971"
             ],
             {
              "frame": {
               "duration": 0,
               "redraw": false
              },
              "fromcurrent": true,
              "mode": "immediate",
              "transition": {
               "duration": 0,
               "easing": "linear"
              }
             }
            ],
            "label": "1971",
            "method": "animate"
           },
           {
            "args": [
             [
              "1981"
             ],
             {
              "frame": {
               "duration": 0,
               "redraw": false
              },
              "fromcurrent": true,
              "mode": "immediate",
              "transition": {
               "duration": 0,
               "easing": "linear"
              }
             }
            ],
            "label": "1981",
            "method": "animate"
           },
           {
            "args": [
             [
              "1963"
             ],
             {
              "frame": {
               "duration": 0,
               "redraw": false
              },
              "fromcurrent": true,
              "mode": "immediate",
              "transition": {
               "duration": 0,
               "easing": "linear"
              }
             }
            ],
            "label": "1963",
            "method": "animate"
           },
           {
            "args": [
             [
              "1962"
             ],
             {
              "frame": {
               "duration": 0,
               "redraw": false
              },
              "fromcurrent": true,
              "mode": "immediate",
              "transition": {
               "duration": 0,
               "easing": "linear"
              }
             }
            ],
            "label": "1962",
            "method": "animate"
           },
           {
            "args": [
             [
              "1967"
             ],
             {
              "frame": {
               "duration": 0,
               "redraw": false
              },
              "fromcurrent": true,
              "mode": "immediate",
              "transition": {
               "duration": 0,
               "easing": "linear"
              }
             }
            ],
            "label": "1967",
            "method": "animate"
           },
           {
            "args": [
             [
              "1964"
             ],
             {
              "frame": {
               "duration": 0,
               "redraw": false
              },
              "fromcurrent": true,
              "mode": "immediate",
              "transition": {
               "duration": 0,
               "easing": "linear"
              }
             }
            ],
            "label": "1964",
            "method": "animate"
           },
           {
            "args": [
             [
              "1952"
             ],
             {
              "frame": {
               "duration": 0,
               "redraw": false
              },
              "fromcurrent": true,
              "mode": "immediate",
              "transition": {
               "duration": 0,
               "easing": "linear"
              }
             }
            ],
            "label": "1952",
            "method": "animate"
           },
           {
            "args": [
             [
              "1969"
             ],
             {
              "frame": {
               "duration": 0,
               "redraw": false
              },
              "fromcurrent": true,
              "mode": "immediate",
              "transition": {
               "duration": 0,
               "easing": "linear"
              }
             }
            ],
            "label": "1969",
            "method": "animate"
           },
           {
            "args": [
             [
              "1930"
             ],
             {
              "frame": {
               "duration": 0,
               "redraw": false
              },
              "fromcurrent": true,
              "mode": "immediate",
              "transition": {
               "duration": 0,
               "easing": "linear"
              }
             }
            ],
            "label": "1930",
            "method": "animate"
           },
           {
            "args": [
             [
              "1950"
             ],
             {
              "frame": {
               "duration": 0,
               "redraw": false
              },
              "fromcurrent": true,
              "mode": "immediate",
              "transition": {
               "duration": 0,
               "easing": "linear"
              }
             }
            ],
            "label": "1950",
            "method": "animate"
           },
           {
            "args": [
             [
              "1970"
             ],
             {
              "frame": {
               "duration": 0,
               "redraw": false
              },
              "fromcurrent": true,
              "mode": "immediate",
              "transition": {
               "duration": 0,
               "easing": "linear"
              }
             }
            ],
            "label": "1970",
            "method": "animate"
           },
           {
            "args": [
             [
              "1966"
             ],
             {
              "frame": {
               "duration": 0,
               "redraw": false
              },
              "fromcurrent": true,
              "mode": "immediate",
              "transition": {
               "duration": 0,
               "easing": "linear"
              }
             }
            ],
            "label": "1966",
            "method": "animate"
           },
           {
            "args": [
             [
              "1973"
             ],
             {
              "frame": {
               "duration": 0,
               "redraw": false
              },
              "fromcurrent": true,
              "mode": "immediate",
              "transition": {
               "duration": 0,
               "easing": "linear"
              }
             }
            ],
            "label": "1973",
            "method": "animate"
           },
           {
            "args": [
             [
              "1972"
             ],
             {
              "frame": {
               "duration": 0,
               "redraw": false
              },
              "fromcurrent": true,
              "mode": "immediate",
              "transition": {
               "duration": 0,
               "easing": "linear"
              }
             }
            ],
            "label": "1972",
            "method": "animate"
           },
           {
            "args": [
             [
              "1936"
             ],
             {
              "frame": {
               "duration": 0,
               "redraw": false
              },
              "fromcurrent": true,
              "mode": "immediate",
              "transition": {
               "duration": 0,
               "easing": "linear"
              }
             }
            ],
            "label": "1936",
            "method": "animate"
           },
           {
            "args": [
             [
              "1949"
             ],
             {
              "frame": {
               "duration": 0,
               "redraw": false
              },
              "fromcurrent": true,
              "mode": "immediate",
              "transition": {
               "duration": 0,
               "easing": "linear"
              }
             }
            ],
            "label": "1949",
            "method": "animate"
           },
           {
            "args": [
             [
              "1954"
             ],
             {
              "frame": {
               "duration": 0,
               "redraw": false
              },
              "fromcurrent": true,
              "mode": "immediate",
              "transition": {
               "duration": 0,
               "easing": "linear"
              }
             }
            ],
            "label": "1954",
            "method": "animate"
           },
           {
            "args": [
             [
              "1975"
             ],
             {
              "frame": {
               "duration": 0,
               "redraw": false
              },
              "fromcurrent": true,
              "mode": "immediate",
              "transition": {
               "duration": 0,
               "easing": "linear"
              }
             }
            ],
            "label": "1975",
            "method": "animate"
           }
          ],
          "x": 0.1,
          "xanchor": "left",
          "y": 0,
          "yanchor": "top"
         }
        ],
        "template": {
         "data": {
          "bar": [
           {
            "error_x": {
             "color": "#2a3f5f"
            },
            "error_y": {
             "color": "#2a3f5f"
            },
            "marker": {
             "line": {
              "color": "#E5ECF6",
              "width": 0.5
             }
            },
            "type": "bar"
           }
          ],
          "barpolar": [
           {
            "marker": {
             "line": {
              "color": "#E5ECF6",
              "width": 0.5
             }
            },
            "type": "barpolar"
           }
          ],
          "carpet": [
           {
            "aaxis": {
             "endlinecolor": "#2a3f5f",
             "gridcolor": "white",
             "linecolor": "white",
             "minorgridcolor": "white",
             "startlinecolor": "#2a3f5f"
            },
            "baxis": {
             "endlinecolor": "#2a3f5f",
             "gridcolor": "white",
             "linecolor": "white",
             "minorgridcolor": "white",
             "startlinecolor": "#2a3f5f"
            },
            "type": "carpet"
           }
          ],
          "choropleth": [
           {
            "colorbar": {
             "outlinewidth": 0,
             "ticks": ""
            },
            "type": "choropleth"
           }
          ],
          "contour": [
           {
            "colorbar": {
             "outlinewidth": 0,
             "ticks": ""
            },
            "colorscale": [
             [
              0,
              "#0d0887"
             ],
             [
              0.1111111111111111,
              "#46039f"
             ],
             [
              0.2222222222222222,
              "#7201a8"
             ],
             [
              0.3333333333333333,
              "#9c179e"
             ],
             [
              0.4444444444444444,
              "#bd3786"
             ],
             [
              0.5555555555555556,
              "#d8576b"
             ],
             [
              0.6666666666666666,
              "#ed7953"
             ],
             [
              0.7777777777777778,
              "#fb9f3a"
             ],
             [
              0.8888888888888888,
              "#fdca26"
             ],
             [
              1,
              "#f0f921"
             ]
            ],
            "type": "contour"
           }
          ],
          "contourcarpet": [
           {
            "colorbar": {
             "outlinewidth": 0,
             "ticks": ""
            },
            "type": "contourcarpet"
           }
          ],
          "heatmap": [
           {
            "colorbar": {
             "outlinewidth": 0,
             "ticks": ""
            },
            "colorscale": [
             [
              0,
              "#0d0887"
             ],
             [
              0.1111111111111111,
              "#46039f"
             ],
             [
              0.2222222222222222,
              "#7201a8"
             ],
             [
              0.3333333333333333,
              "#9c179e"
             ],
             [
              0.4444444444444444,
              "#bd3786"
             ],
             [
              0.5555555555555556,
              "#d8576b"
             ],
             [
              0.6666666666666666,
              "#ed7953"
             ],
             [
              0.7777777777777778,
              "#fb9f3a"
             ],
             [
              0.8888888888888888,
              "#fdca26"
             ],
             [
              1,
              "#f0f921"
             ]
            ],
            "type": "heatmap"
           }
          ],
          "heatmapgl": [
           {
            "colorbar": {
             "outlinewidth": 0,
             "ticks": ""
            },
            "colorscale": [
             [
              0,
              "#0d0887"
             ],
             [
              0.1111111111111111,
              "#46039f"
             ],
             [
              0.2222222222222222,
              "#7201a8"
             ],
             [
              0.3333333333333333,
              "#9c179e"
             ],
             [
              0.4444444444444444,
              "#bd3786"
             ],
             [
              0.5555555555555556,
              "#d8576b"
             ],
             [
              0.6666666666666666,
              "#ed7953"
             ],
             [
              0.7777777777777778,
              "#fb9f3a"
             ],
             [
              0.8888888888888888,
              "#fdca26"
             ],
             [
              1,
              "#f0f921"
             ]
            ],
            "type": "heatmapgl"
           }
          ],
          "histogram": [
           {
            "marker": {
             "colorbar": {
              "outlinewidth": 0,
              "ticks": ""
             }
            },
            "type": "histogram"
           }
          ],
          "histogram2d": [
           {
            "colorbar": {
             "outlinewidth": 0,
             "ticks": ""
            },
            "colorscale": [
             [
              0,
              "#0d0887"
             ],
             [
              0.1111111111111111,
              "#46039f"
             ],
             [
              0.2222222222222222,
              "#7201a8"
             ],
             [
              0.3333333333333333,
              "#9c179e"
             ],
             [
              0.4444444444444444,
              "#bd3786"
             ],
             [
              0.5555555555555556,
              "#d8576b"
             ],
             [
              0.6666666666666666,
              "#ed7953"
             ],
             [
              0.7777777777777778,
              "#fb9f3a"
             ],
             [
              0.8888888888888888,
              "#fdca26"
             ],
             [
              1,
              "#f0f921"
             ]
            ],
            "type": "histogram2d"
           }
          ],
          "histogram2dcontour": [
           {
            "colorbar": {
             "outlinewidth": 0,
             "ticks": ""
            },
            "colorscale": [
             [
              0,
              "#0d0887"
             ],
             [
              0.1111111111111111,
              "#46039f"
             ],
             [
              0.2222222222222222,
              "#7201a8"
             ],
             [
              0.3333333333333333,
              "#9c179e"
             ],
             [
              0.4444444444444444,
              "#bd3786"
             ],
             [
              0.5555555555555556,
              "#d8576b"
             ],
             [
              0.6666666666666666,
              "#ed7953"
             ],
             [
              0.7777777777777778,
              "#fb9f3a"
             ],
             [
              0.8888888888888888,
              "#fdca26"
             ],
             [
              1,
              "#f0f921"
             ]
            ],
            "type": "histogram2dcontour"
           }
          ],
          "mesh3d": [
           {
            "colorbar": {
             "outlinewidth": 0,
             "ticks": ""
            },
            "type": "mesh3d"
           }
          ],
          "parcoords": [
           {
            "line": {
             "colorbar": {
              "outlinewidth": 0,
              "ticks": ""
             }
            },
            "type": "parcoords"
           }
          ],
          "pie": [
           {
            "automargin": true,
            "type": "pie"
           }
          ],
          "scatter": [
           {
            "marker": {
             "colorbar": {
              "outlinewidth": 0,
              "ticks": ""
             }
            },
            "type": "scatter"
           }
          ],
          "scatter3d": [
           {
            "line": {
             "colorbar": {
              "outlinewidth": 0,
              "ticks": ""
             }
            },
            "marker": {
             "colorbar": {
              "outlinewidth": 0,
              "ticks": ""
             }
            },
            "type": "scatter3d"
           }
          ],
          "scattercarpet": [
           {
            "marker": {
             "colorbar": {
              "outlinewidth": 0,
              "ticks": ""
             }
            },
            "type": "scattercarpet"
           }
          ],
          "scattergeo": [
           {
            "marker": {
             "colorbar": {
              "outlinewidth": 0,
              "ticks": ""
             }
            },
            "type": "scattergeo"
           }
          ],
          "scattergl": [
           {
            "marker": {
             "colorbar": {
              "outlinewidth": 0,
              "ticks": ""
             }
            },
            "type": "scattergl"
           }
          ],
          "scattermapbox": [
           {
            "marker": {
             "colorbar": {
              "outlinewidth": 0,
              "ticks": ""
             }
            },
            "type": "scattermapbox"
           }
          ],
          "scatterpolar": [
           {
            "marker": {
             "colorbar": {
              "outlinewidth": 0,
              "ticks": ""
             }
            },
            "type": "scatterpolar"
           }
          ],
          "scatterpolargl": [
           {
            "marker": {
             "colorbar": {
              "outlinewidth": 0,
              "ticks": ""
             }
            },
            "type": "scatterpolargl"
           }
          ],
          "scatterternary": [
           {
            "marker": {
             "colorbar": {
              "outlinewidth": 0,
              "ticks": ""
             }
            },
            "type": "scatterternary"
           }
          ],
          "surface": [
           {
            "colorbar": {
             "outlinewidth": 0,
             "ticks": ""
            },
            "colorscale": [
             [
              0,
              "#0d0887"
             ],
             [
              0.1111111111111111,
              "#46039f"
             ],
             [
              0.2222222222222222,
              "#7201a8"
             ],
             [
              0.3333333333333333,
              "#9c179e"
             ],
             [
              0.4444444444444444,
              "#bd3786"
             ],
             [
              0.5555555555555556,
              "#d8576b"
             ],
             [
              0.6666666666666666,
              "#ed7953"
             ],
             [
              0.7777777777777778,
              "#fb9f3a"
             ],
             [
              0.8888888888888888,
              "#fdca26"
             ],
             [
              1,
              "#f0f921"
             ]
            ],
            "type": "surface"
           }
          ],
          "table": [
           {
            "cells": {
             "fill": {
              "color": "#EBF0F8"
             },
             "line": {
              "color": "white"
             }
            },
            "header": {
             "fill": {
              "color": "#C8D4E3"
             },
             "line": {
              "color": "white"
             }
            },
            "type": "table"
           }
          ]
         },
         "layout": {
          "annotationdefaults": {
           "arrowcolor": "#2a3f5f",
           "arrowhead": 0,
           "arrowwidth": 1
          },
          "coloraxis": {
           "colorbar": {
            "outlinewidth": 0,
            "ticks": ""
           }
          },
          "colorscale": {
           "diverging": [
            [
             0,
             "#8e0152"
            ],
            [
             0.1,
             "#c51b7d"
            ],
            [
             0.2,
             "#de77ae"
            ],
            [
             0.3,
             "#f1b6da"
            ],
            [
             0.4,
             "#fde0ef"
            ],
            [
             0.5,
             "#f7f7f7"
            ],
            [
             0.6,
             "#e6f5d0"
            ],
            [
             0.7,
             "#b8e186"
            ],
            [
             0.8,
             "#7fbc41"
            ],
            [
             0.9,
             "#4d9221"
            ],
            [
             1,
             "#276419"
            ]
           ],
           "sequential": [
            [
             0,
             "#0d0887"
            ],
            [
             0.1111111111111111,
             "#46039f"
            ],
            [
             0.2222222222222222,
             "#7201a8"
            ],
            [
             0.3333333333333333,
             "#9c179e"
            ],
            [
             0.4444444444444444,
             "#bd3786"
            ],
            [
             0.5555555555555556,
             "#d8576b"
            ],
            [
             0.6666666666666666,
             "#ed7953"
            ],
            [
             0.7777777777777778,
             "#fb9f3a"
            ],
            [
             0.8888888888888888,
             "#fdca26"
            ],
            [
             1,
             "#f0f921"
            ]
           ],
           "sequentialminus": [
            [
             0,
             "#0d0887"
            ],
            [
             0.1111111111111111,
             "#46039f"
            ],
            [
             0.2222222222222222,
             "#7201a8"
            ],
            [
             0.3333333333333333,
             "#9c179e"
            ],
            [
             0.4444444444444444,
             "#bd3786"
            ],
            [
             0.5555555555555556,
             "#d8576b"
            ],
            [
             0.6666666666666666,
             "#ed7953"
            ],
            [
             0.7777777777777778,
             "#fb9f3a"
            ],
            [
             0.8888888888888888,
             "#fdca26"
            ],
            [
             1,
             "#f0f921"
            ]
           ]
          },
          "colorway": [
           "#636efa",
           "#EF553B",
           "#00cc96",
           "#ab63fa",
           "#FFA15A",
           "#19d3f3",
           "#FF6692",
           "#B6E880",
           "#FF97FF",
           "#FECB52"
          ],
          "font": {
           "color": "#2a3f5f"
          },
          "geo": {
           "bgcolor": "white",
           "lakecolor": "white",
           "landcolor": "#E5ECF6",
           "showlakes": true,
           "showland": true,
           "subunitcolor": "white"
          },
          "hoverlabel": {
           "align": "left"
          },
          "hovermode": "closest",
          "mapbox": {
           "style": "light"
          },
          "paper_bgcolor": "white",
          "plot_bgcolor": "#E5ECF6",
          "polar": {
           "angularaxis": {
            "gridcolor": "white",
            "linecolor": "white",
            "ticks": ""
           },
           "bgcolor": "#E5ECF6",
           "radialaxis": {
            "gridcolor": "white",
            "linecolor": "white",
            "ticks": ""
           }
          },
          "scene": {
           "xaxis": {
            "backgroundcolor": "#E5ECF6",
            "gridcolor": "white",
            "gridwidth": 2,
            "linecolor": "white",
            "showbackground": true,
            "ticks": "",
            "zerolinecolor": "white"
           },
           "yaxis": {
            "backgroundcolor": "#E5ECF6",
            "gridcolor": "white",
            "gridwidth": 2,
            "linecolor": "white",
            "showbackground": true,
            "ticks": "",
            "zerolinecolor": "white"
           },
           "zaxis": {
            "backgroundcolor": "#E5ECF6",
            "gridcolor": "white",
            "gridwidth": 2,
            "linecolor": "white",
            "showbackground": true,
            "ticks": "",
            "zerolinecolor": "white"
           }
          },
          "shapedefaults": {
           "line": {
            "color": "#2a3f5f"
           }
          },
          "ternary": {
           "aaxis": {
            "gridcolor": "white",
            "linecolor": "white",
            "ticks": ""
           },
           "baxis": {
            "gridcolor": "white",
            "linecolor": "white",
            "ticks": ""
           },
           "bgcolor": "#E5ECF6",
           "caxis": {
            "gridcolor": "white",
            "linecolor": "white",
            "ticks": ""
           }
          },
          "title": {
           "x": 0.05
          },
          "xaxis": {
           "automargin": true,
           "gridcolor": "white",
           "linecolor": "white",
           "ticks": "",
           "title": {
            "standoff": 15
           },
           "zerolinecolor": "white",
           "zerolinewidth": 2
          },
          "yaxis": {
           "automargin": true,
           "gridcolor": "white",
           "linecolor": "white",
           "ticks": "",
           "title": {
            "standoff": 15
           },
           "zerolinecolor": "white",
           "zerolinewidth": 2
          }
         }
        },
        "title": {
         "text": "2016"
        },
        "updatemenus": [
         {
          "buttons": [
           {
            "args": [
             null,
             {
              "frame": {
               "duration": 500,
               "redraw": false
              },
              "fromcurrent": true,
              "mode": "immediate",
              "transition": {
               "duration": 500,
               "easing": "linear"
              }
             }
            ],
            "label": "&#9654;",
            "method": "animate"
           },
           {
            "args": [
             [
              null
             ],
             {
              "frame": {
               "duration": 0,
               "redraw": false
              },
              "fromcurrent": true,
              "mode": "immediate",
              "transition": {
               "duration": 0,
               "easing": "linear"
              }
             }
            ],
            "label": "&#9724;",
            "method": "animate"
           }
          ],
          "direction": "left",
          "pad": {
           "r": 10,
           "t": 70
          },
          "showactive": false,
          "type": "buttons",
          "x": 0.1,
          "xanchor": "right",
          "y": 0,
          "yanchor": "top"
         }
        ],
        "xaxis": {
         "anchor": "y",
         "domain": [
          0,
          1
         ],
         "range": [
          2,
          10
         ],
         "title": {
          "text": "revenue"
         },
         "type": "log"
        },
        "yaxis": {
         "anchor": "x",
         "domain": [
          0,
          1
         ],
         "range": [
          0,
          2.9999999999999996
         ],
         "title": {
          "text": "popularity"
         },
         "type": "log"
        }
       }
      },
      "text/html": [
       "<div>\n",
       "        \n",
       "        \n",
       "            <div id=\"eb98fd38-a077-4be7-af06-23a540129678\" class=\"plotly-graph-div\" style=\"height:525px; width:100%;\"></div>\n",
       "            <script type=\"text/javascript\">\n",
       "                require([\"plotly\"], function(Plotly) {\n",
       "                    window.PLOTLYENV=window.PLOTLYENV || {};\n",
       "                    \n",
       "                if (document.getElementById(\"eb98fd38-a077-4be7-af06-23a540129678\")) {\n",
       "                    Plotly.newPlot(\n",
       "                        'eb98fd38-a077-4be7-af06-23a540129678',\n",
       "                        [{\"hoverlabel\": {\"namelength\": 0}, \"hovertemplate\": \"genres=Action<br>realease_year=2009<br>revenue=%{x}<br>popularity=%{y}<br>budget=%{marker.size}\", \"legendgroup\": \"genres=Action\", \"marker\": {\"color\": \"#636efa\", \"size\": [237000000, 200000000, 200000000, 130000000, 90000000, 80000000, 60000000, 50000000, 40000000, 50000000, 50000000, 33000000, 33000000, 40000000, 30000000, 26000000, 20000000, 20000000, 20000000, 16000000, 8000000], \"sizemode\": \"area\", \"sizeref\": 77777.77777777778, \"symbol\": \"circle\"}, \"mode\": \"markers\", \"name\": \"genres=Action\", \"showlegend\": true, \"type\": \"scatter\", \"x\": [2787965087, 371353001, 769653595, 185258983, 524028679, 122444772, 87784194, 155446362, 60462347, 40828540, 12764201, 14000000, 20645327, 12206028, 48428063, 183293131, 22942221, 34560577, 17280326, 11301649, 10629321], \"xaxis\": \"x\", \"y\": [150.437577, 71.862892, 45.274225, 64.798873, 57.834787, 36.664991, 21.685719, 32.693093, 19.085403, 27.631262, 8.139676, 7.663514999999999, 28.353517, 14.818717999999999, 55.806402, 31.250383000000003, 15.21229, 35.542809000000005, 15.66135, 4.628525, 13.517017000000001], \"yaxis\": \"y\"}],\n",
       "                        {\"legend\": {\"itemsizing\": \"constant\", \"tracegroupgap\": 0}, \"sliders\": [{\"active\": 0, \"currentvalue\": {\"prefix\": \"realease_year=\"}, \"len\": 0.9, \"pad\": {\"b\": 10, \"t\": 60}, \"steps\": [{\"args\": [[\"2009\"], {\"frame\": {\"duration\": 0, \"redraw\": false}, \"fromcurrent\": true, \"mode\": \"immediate\", \"transition\": {\"duration\": 0, \"easing\": \"linear\"}}], \"label\": \"2009\", \"method\": \"animate\"}, {\"args\": [[\"2015\"], {\"frame\": {\"duration\": 0, \"redraw\": false}, \"fromcurrent\": true, \"mode\": \"immediate\", \"transition\": {\"duration\": 0, \"easing\": \"linear\"}}], \"label\": \"2015\", \"method\": \"animate\"}, {\"args\": [[\"2012\"], {\"frame\": {\"duration\": 0, \"redraw\": false}, \"fromcurrent\": true, \"mode\": \"immediate\", \"transition\": {\"duration\": 0, \"easing\": \"linear\"}}], \"label\": \"2012\", \"method\": \"animate\"}, {\"args\": [[\"2016\"], {\"frame\": {\"duration\": 0, \"redraw\": false}, \"fromcurrent\": true, \"mode\": \"immediate\", \"transition\": {\"duration\": 0, \"easing\": \"linear\"}}], \"label\": \"2016\", \"method\": \"animate\"}, {\"args\": [[\"2013\"], {\"frame\": {\"duration\": 0, \"redraw\": false}, \"fromcurrent\": true, \"mode\": \"immediate\", \"transition\": {\"duration\": 0, \"easing\": \"linear\"}}], \"label\": \"2013\", \"method\": \"animate\"}, {\"args\": [[\"2014\"], {\"frame\": {\"duration\": 0, \"redraw\": false}, \"fromcurrent\": true, \"mode\": \"immediate\", \"transition\": {\"duration\": 0, \"easing\": \"linear\"}}], \"label\": \"2014\", \"method\": \"animate\"}, {\"args\": [[\"2010\"], {\"frame\": {\"duration\": 0, \"redraw\": false}, \"fromcurrent\": true, \"mode\": \"immediate\", \"transition\": {\"duration\": 0, \"easing\": \"linear\"}}], \"label\": \"2010\", \"method\": \"animate\"}, {\"args\": [[\"2004\"], {\"frame\": {\"duration\": 0, \"redraw\": false}, \"fromcurrent\": true, \"mode\": \"immediate\", \"transition\": {\"duration\": 0, \"easing\": \"linear\"}}], \"label\": \"2004\", \"method\": \"animate\"}, {\"args\": [[\"2011\"], {\"frame\": {\"duration\": 0, \"redraw\": false}, \"fromcurrent\": true, \"mode\": \"immediate\", \"transition\": {\"duration\": 0, \"easing\": \"linear\"}}], \"label\": \"2011\", \"method\": \"animate\"}, {\"args\": [[\"2007\"], {\"frame\": {\"duration\": 0, \"redraw\": false}, \"fromcurrent\": true, \"mode\": \"immediate\", \"transition\": {\"duration\": 0, \"easing\": \"linear\"}}], \"label\": \"2007\", \"method\": \"animate\"}, {\"args\": [[\"2008\"], {\"frame\": {\"duration\": 0, \"redraw\": false}, \"fromcurrent\": true, \"mode\": \"immediate\", \"transition\": {\"duration\": 0, \"easing\": \"linear\"}}], \"label\": \"2008\", \"method\": \"animate\"}, {\"args\": [[\"1999\"], {\"frame\": {\"duration\": 0, \"redraw\": false}, \"fromcurrent\": true, \"mode\": \"immediate\", \"transition\": {\"duration\": 0, \"easing\": \"linear\"}}], \"label\": \"1999\", \"method\": \"animate\"}, {\"args\": [[\"2003\"], {\"frame\": {\"duration\": 0, \"redraw\": false}, \"fromcurrent\": true, \"mode\": \"immediate\", \"transition\": {\"duration\": 0, \"easing\": \"linear\"}}], \"label\": \"2003\", \"method\": \"animate\"}, {\"args\": [[\"2001\"], {\"frame\": {\"duration\": 0, \"redraw\": false}, \"fromcurrent\": true, \"mode\": \"immediate\", \"transition\": {\"duration\": 0, \"easing\": \"linear\"}}], \"label\": \"2001\", \"method\": \"animate\"}, {\"args\": [[\"2005\"], {\"frame\": {\"duration\": 0, \"redraw\": false}, \"fromcurrent\": true, \"mode\": \"immediate\", \"transition\": {\"duration\": 0, \"easing\": \"linear\"}}], \"label\": \"2005\", \"method\": \"animate\"}, {\"args\": [[\"1998\"], {\"frame\": {\"duration\": 0, \"redraw\": false}, \"fromcurrent\": true, \"mode\": \"immediate\", \"transition\": {\"duration\": 0, \"easing\": \"linear\"}}], \"label\": \"1998\", \"method\": \"animate\"}, {\"args\": [[\"2002\"], {\"frame\": {\"duration\": 0, \"redraw\": false}, \"fromcurrent\": true, \"mode\": \"immediate\", \"transition\": {\"duration\": 0, \"easing\": \"linear\"}}], \"label\": \"2002\", \"method\": \"animate\"}, {\"args\": [[\"1990\"], {\"frame\": {\"duration\": 0, \"redraw\": false}, \"fromcurrent\": true, \"mode\": \"immediate\", \"transition\": {\"duration\": 0, \"easing\": \"linear\"}}], \"label\": \"1990\", \"method\": \"animate\"}, {\"args\": [[\"1997\"], {\"frame\": {\"duration\": 0, \"redraw\": false}, \"fromcurrent\": true, \"mode\": \"immediate\", \"transition\": {\"duration\": 0, \"easing\": \"linear\"}}], \"label\": \"1997\", \"method\": \"animate\"}, {\"args\": [[\"2006\"], {\"frame\": {\"duration\": 0, \"redraw\": false}, \"fromcurrent\": true, \"mode\": \"immediate\", \"transition\": {\"duration\": 0, \"easing\": \"linear\"}}], \"label\": \"2006\", \"method\": \"animate\"}, {\"args\": [[\"2000\"], {\"frame\": {\"duration\": 0, \"redraw\": false}, \"fromcurrent\": true, \"mode\": \"immediate\", \"transition\": {\"duration\": 0, \"easing\": \"linear\"}}], \"label\": \"2000\", \"method\": \"animate\"}, {\"args\": [[\"1991\"], {\"frame\": {\"duration\": 0, \"redraw\": false}, \"fromcurrent\": true, \"mode\": \"immediate\", \"transition\": {\"duration\": 0, \"easing\": \"linear\"}}], \"label\": \"1991\", \"method\": \"animate\"}, {\"args\": [[\"1994\"], {\"frame\": {\"duration\": 0, \"redraw\": false}, \"fromcurrent\": true, \"mode\": \"immediate\", \"transition\": {\"duration\": 0, \"easing\": \"linear\"}}], \"label\": \"1994\", \"method\": \"animate\"}, {\"args\": [[\"1996\"], {\"frame\": {\"duration\": 0, \"redraw\": false}, \"fromcurrent\": true, \"mode\": \"immediate\", \"transition\": {\"duration\": 0, \"easing\": \"linear\"}}], \"label\": \"1996\", \"method\": \"animate\"}, {\"args\": [[\"1995\"], {\"frame\": {\"duration\": 0, \"redraw\": false}, \"fromcurrent\": true, \"mode\": \"immediate\", \"transition\": {\"duration\": 0, \"easing\": \"linear\"}}], \"label\": \"1995\", \"method\": \"animate\"}, {\"args\": [[\"1992\"], {\"frame\": {\"duration\": 0, \"redraw\": false}, \"fromcurrent\": true, \"mode\": \"immediate\", \"transition\": {\"duration\": 0, \"easing\": \"linear\"}}], \"label\": \"1992\", \"method\": \"animate\"}, {\"args\": [[\"1993\"], {\"frame\": {\"duration\": 0, \"redraw\": false}, \"fromcurrent\": true, \"mode\": \"immediate\", \"transition\": {\"duration\": 0, \"easing\": \"linear\"}}], \"label\": \"1993\", \"method\": \"animate\"}, {\"args\": [[\"1984\"], {\"frame\": {\"duration\": 0, \"redraw\": false}, \"fromcurrent\": true, \"mode\": \"immediate\", \"transition\": {\"duration\": 0, \"easing\": \"linear\"}}], \"label\": \"1984\", \"method\": \"animate\"}, {\"args\": [[\"1988\"], {\"frame\": {\"duration\": 0, \"redraw\": false}, \"fromcurrent\": true, \"mode\": \"immediate\", \"transition\": {\"duration\": 0, \"easing\": \"linear\"}}], \"label\": \"1988\", \"method\": \"animate\"}, {\"args\": [[\"1978\"], {\"frame\": {\"duration\": 0, \"redraw\": false}, \"fromcurrent\": true, \"mode\": \"immediate\", \"transition\": {\"duration\": 0, \"easing\": \"linear\"}}], \"label\": \"1978\", \"method\": \"animate\"}, {\"args\": [[\"1989\"], {\"frame\": {\"duration\": 0, \"redraw\": false}, \"fromcurrent\": true, \"mode\": \"immediate\", \"transition\": {\"duration\": 0, \"easing\": \"linear\"}}], \"label\": \"1989\", \"method\": \"animate\"}, {\"args\": [[\"1980\"], {\"frame\": {\"duration\": 0, \"redraw\": false}, \"fromcurrent\": true, \"mode\": \"immediate\", \"transition\": {\"duration\": 0, \"easing\": \"linear\"}}], \"label\": \"1980\", \"method\": \"animate\"}, {\"args\": [[\"1982\"], {\"frame\": {\"duration\": 0, \"redraw\": false}, \"fromcurrent\": true, \"mode\": \"immediate\", \"transition\": {\"duration\": 0, \"easing\": \"linear\"}}], \"label\": \"1982\", \"method\": \"animate\"}, {\"args\": [[\"1985\"], {\"frame\": {\"duration\": 0, \"redraw\": false}, \"fromcurrent\": true, \"mode\": \"immediate\", \"transition\": {\"duration\": 0, \"easing\": \"linear\"}}], \"label\": \"1985\", \"method\": \"animate\"}, {\"args\": [[\"1987\"], {\"frame\": {\"duration\": 0, \"redraw\": false}, \"fromcurrent\": true, \"mode\": \"immediate\", \"transition\": {\"duration\": 0, \"easing\": \"linear\"}}], \"label\": \"1987\", \"method\": \"animate\"}, {\"args\": [[\"1979\"], {\"frame\": {\"duration\": 0, \"redraw\": false}, \"fromcurrent\": true, \"mode\": \"immediate\", \"transition\": {\"duration\": 0, \"easing\": \"linear\"}}], \"label\": \"1979\", \"method\": \"animate\"}, {\"args\": [[\"1983\"], {\"frame\": {\"duration\": 0, \"redraw\": false}, \"fromcurrent\": true, \"mode\": \"immediate\", \"transition\": {\"duration\": 0, \"easing\": \"linear\"}}], \"label\": \"1983\", \"method\": \"animate\"}, {\"args\": [[\"1986\"], {\"frame\": {\"duration\": 0, \"redraw\": false}, \"fromcurrent\": true, \"mode\": \"immediate\", \"transition\": {\"duration\": 0, \"easing\": \"linear\"}}], \"label\": \"1986\", \"method\": \"animate\"}, {\"args\": [[\"1977\"], {\"frame\": {\"duration\": 0, \"redraw\": false}, \"fromcurrent\": true, \"mode\": \"immediate\", \"transition\": {\"duration\": 0, \"easing\": \"linear\"}}], \"label\": \"1977\", \"method\": \"animate\"}, {\"args\": [[\"1971\"], {\"frame\": {\"duration\": 0, \"redraw\": false}, \"fromcurrent\": true, \"mode\": \"immediate\", \"transition\": {\"duration\": 0, \"easing\": \"linear\"}}], \"label\": \"1971\", \"method\": \"animate\"}, {\"args\": [[\"1981\"], {\"frame\": {\"duration\": 0, \"redraw\": false}, \"fromcurrent\": true, \"mode\": \"immediate\", \"transition\": {\"duration\": 0, \"easing\": \"linear\"}}], \"label\": \"1981\", \"method\": \"animate\"}, {\"args\": [[\"1963\"], {\"frame\": {\"duration\": 0, \"redraw\": false}, \"fromcurrent\": true, \"mode\": \"immediate\", \"transition\": {\"duration\": 0, \"easing\": \"linear\"}}], \"label\": \"1963\", \"method\": \"animate\"}, {\"args\": [[\"1962\"], {\"frame\": {\"duration\": 0, \"redraw\": false}, \"fromcurrent\": true, \"mode\": \"immediate\", \"transition\": {\"duration\": 0, \"easing\": \"linear\"}}], \"label\": \"1962\", \"method\": \"animate\"}, {\"args\": [[\"1967\"], {\"frame\": {\"duration\": 0, \"redraw\": false}, \"fromcurrent\": true, \"mode\": \"immediate\", \"transition\": {\"duration\": 0, \"easing\": \"linear\"}}], \"label\": \"1967\", \"method\": \"animate\"}, {\"args\": [[\"1964\"], {\"frame\": {\"duration\": 0, \"redraw\": false}, \"fromcurrent\": true, \"mode\": \"immediate\", \"transition\": {\"duration\": 0, \"easing\": \"linear\"}}], \"label\": \"1964\", \"method\": \"animate\"}, {\"args\": [[\"1952\"], {\"frame\": {\"duration\": 0, \"redraw\": false}, \"fromcurrent\": true, \"mode\": \"immediate\", \"transition\": {\"duration\": 0, \"easing\": \"linear\"}}], \"label\": \"1952\", \"method\": \"animate\"}, {\"args\": [[\"1969\"], {\"frame\": {\"duration\": 0, \"redraw\": false}, \"fromcurrent\": true, \"mode\": \"immediate\", \"transition\": {\"duration\": 0, \"easing\": \"linear\"}}], \"label\": \"1969\", \"method\": \"animate\"}, {\"args\": [[\"1930\"], {\"frame\": {\"duration\": 0, \"redraw\": false}, \"fromcurrent\": true, \"mode\": \"immediate\", \"transition\": {\"duration\": 0, \"easing\": \"linear\"}}], \"label\": \"1930\", \"method\": \"animate\"}, {\"args\": [[\"1950\"], {\"frame\": {\"duration\": 0, \"redraw\": false}, \"fromcurrent\": true, \"mode\": \"immediate\", \"transition\": {\"duration\": 0, \"easing\": \"linear\"}}], \"label\": \"1950\", \"method\": \"animate\"}, {\"args\": [[\"1970\"], {\"frame\": {\"duration\": 0, \"redraw\": false}, \"fromcurrent\": true, \"mode\": \"immediate\", \"transition\": {\"duration\": 0, \"easing\": \"linear\"}}], \"label\": \"1970\", \"method\": \"animate\"}, {\"args\": [[\"1966\"], {\"frame\": {\"duration\": 0, \"redraw\": false}, \"fromcurrent\": true, \"mode\": \"immediate\", \"transition\": {\"duration\": 0, \"easing\": \"linear\"}}], \"label\": \"1966\", \"method\": \"animate\"}, {\"args\": [[\"1973\"], {\"frame\": {\"duration\": 0, \"redraw\": false}, \"fromcurrent\": true, \"mode\": \"immediate\", \"transition\": {\"duration\": 0, \"easing\": \"linear\"}}], \"label\": \"1973\", \"method\": \"animate\"}, {\"args\": [[\"1972\"], {\"frame\": {\"duration\": 0, \"redraw\": false}, \"fromcurrent\": true, \"mode\": \"immediate\", \"transition\": {\"duration\": 0, \"easing\": \"linear\"}}], \"label\": \"1972\", \"method\": \"animate\"}, {\"args\": [[\"1936\"], {\"frame\": {\"duration\": 0, \"redraw\": false}, \"fromcurrent\": true, \"mode\": \"immediate\", \"transition\": {\"duration\": 0, \"easing\": \"linear\"}}], \"label\": \"1936\", \"method\": \"animate\"}, {\"args\": [[\"1949\"], {\"frame\": {\"duration\": 0, \"redraw\": false}, \"fromcurrent\": true, \"mode\": \"immediate\", \"transition\": {\"duration\": 0, \"easing\": \"linear\"}}], \"label\": \"1949\", \"method\": \"animate\"}, {\"args\": [[\"1954\"], {\"frame\": {\"duration\": 0, \"redraw\": false}, \"fromcurrent\": true, \"mode\": \"immediate\", \"transition\": {\"duration\": 0, \"easing\": \"linear\"}}], \"label\": \"1954\", \"method\": \"animate\"}, {\"args\": [[\"1975\"], {\"frame\": {\"duration\": 0, \"redraw\": false}, \"fromcurrent\": true, \"mode\": \"immediate\", \"transition\": {\"duration\": 0, \"easing\": \"linear\"}}], \"label\": \"1975\", \"method\": \"animate\"}], \"x\": 0.1, \"xanchor\": \"left\", \"y\": 0, \"yanchor\": \"top\"}], \"template\": {\"data\": {\"bar\": [{\"error_x\": {\"color\": \"#2a3f5f\"}, \"error_y\": {\"color\": \"#2a3f5f\"}, \"marker\": {\"line\": {\"color\": \"#E5ECF6\", \"width\": 0.5}}, \"type\": \"bar\"}], \"barpolar\": [{\"marker\": {\"line\": {\"color\": \"#E5ECF6\", \"width\": 0.5}}, \"type\": \"barpolar\"}], \"carpet\": [{\"aaxis\": {\"endlinecolor\": \"#2a3f5f\", \"gridcolor\": \"white\", \"linecolor\": \"white\", \"minorgridcolor\": \"white\", \"startlinecolor\": \"#2a3f5f\"}, \"baxis\": {\"endlinecolor\": \"#2a3f5f\", \"gridcolor\": \"white\", \"linecolor\": \"white\", \"minorgridcolor\": \"white\", \"startlinecolor\": \"#2a3f5f\"}, \"type\": \"carpet\"}], \"choropleth\": [{\"colorbar\": {\"outlinewidth\": 0, \"ticks\": \"\"}, \"type\": \"choropleth\"}], \"contour\": [{\"colorbar\": {\"outlinewidth\": 0, \"ticks\": \"\"}, \"colorscale\": [[0.0, \"#0d0887\"], [0.1111111111111111, \"#46039f\"], [0.2222222222222222, \"#7201a8\"], [0.3333333333333333, \"#9c179e\"], [0.4444444444444444, \"#bd3786\"], [0.5555555555555556, \"#d8576b\"], [0.6666666666666666, \"#ed7953\"], [0.7777777777777778, \"#fb9f3a\"], [0.8888888888888888, \"#fdca26\"], [1.0, \"#f0f921\"]], \"type\": \"contour\"}], \"contourcarpet\": [{\"colorbar\": {\"outlinewidth\": 0, \"ticks\": \"\"}, \"type\": \"contourcarpet\"}], \"heatmap\": [{\"colorbar\": {\"outlinewidth\": 0, \"ticks\": \"\"}, \"colorscale\": [[0.0, \"#0d0887\"], [0.1111111111111111, \"#46039f\"], [0.2222222222222222, \"#7201a8\"], [0.3333333333333333, \"#9c179e\"], [0.4444444444444444, \"#bd3786\"], [0.5555555555555556, \"#d8576b\"], [0.6666666666666666, \"#ed7953\"], [0.7777777777777778, \"#fb9f3a\"], [0.8888888888888888, \"#fdca26\"], [1.0, \"#f0f921\"]], \"type\": \"heatmap\"}], \"heatmapgl\": [{\"colorbar\": {\"outlinewidth\": 0, \"ticks\": \"\"}, \"colorscale\": [[0.0, \"#0d0887\"], [0.1111111111111111, \"#46039f\"], [0.2222222222222222, \"#7201a8\"], [0.3333333333333333, \"#9c179e\"], [0.4444444444444444, \"#bd3786\"], [0.5555555555555556, \"#d8576b\"], [0.6666666666666666, \"#ed7953\"], [0.7777777777777778, \"#fb9f3a\"], [0.8888888888888888, \"#fdca26\"], [1.0, \"#f0f921\"]], \"type\": \"heatmapgl\"}], \"histogram\": [{\"marker\": {\"colorbar\": {\"outlinewidth\": 0, \"ticks\": \"\"}}, \"type\": \"histogram\"}], \"histogram2d\": [{\"colorbar\": {\"outlinewidth\": 0, \"ticks\": \"\"}, \"colorscale\": [[0.0, \"#0d0887\"], [0.1111111111111111, \"#46039f\"], [0.2222222222222222, \"#7201a8\"], [0.3333333333333333, \"#9c179e\"], [0.4444444444444444, \"#bd3786\"], [0.5555555555555556, \"#d8576b\"], [0.6666666666666666, \"#ed7953\"], [0.7777777777777778, \"#fb9f3a\"], [0.8888888888888888, \"#fdca26\"], [1.0, \"#f0f921\"]], \"type\": \"histogram2d\"}], \"histogram2dcontour\": [{\"colorbar\": {\"outlinewidth\": 0, \"ticks\": \"\"}, \"colorscale\": [[0.0, \"#0d0887\"], [0.1111111111111111, \"#46039f\"], [0.2222222222222222, \"#7201a8\"], [0.3333333333333333, \"#9c179e\"], [0.4444444444444444, \"#bd3786\"], [0.5555555555555556, \"#d8576b\"], [0.6666666666666666, \"#ed7953\"], [0.7777777777777778, \"#fb9f3a\"], [0.8888888888888888, \"#fdca26\"], [1.0, \"#f0f921\"]], \"type\": \"histogram2dcontour\"}], \"mesh3d\": [{\"colorbar\": {\"outlinewidth\": 0, \"ticks\": \"\"}, \"type\": \"mesh3d\"}], \"parcoords\": [{\"line\": {\"colorbar\": {\"outlinewidth\": 0, \"ticks\": \"\"}}, \"type\": \"parcoords\"}], \"pie\": [{\"automargin\": true, \"type\": \"pie\"}], \"scatter\": [{\"marker\": {\"colorbar\": {\"outlinewidth\": 0, \"ticks\": \"\"}}, \"type\": \"scatter\"}], \"scatter3d\": [{\"line\": {\"colorbar\": {\"outlinewidth\": 0, \"ticks\": \"\"}}, \"marker\": {\"colorbar\": {\"outlinewidth\": 0, \"ticks\": \"\"}}, \"type\": \"scatter3d\"}], \"scattercarpet\": [{\"marker\": {\"colorbar\": {\"outlinewidth\": 0, \"ticks\": \"\"}}, \"type\": \"scattercarpet\"}], \"scattergeo\": [{\"marker\": {\"colorbar\": {\"outlinewidth\": 0, \"ticks\": \"\"}}, \"type\": \"scattergeo\"}], \"scattergl\": [{\"marker\": {\"colorbar\": {\"outlinewidth\": 0, \"ticks\": \"\"}}, \"type\": \"scattergl\"}], \"scattermapbox\": [{\"marker\": {\"colorbar\": {\"outlinewidth\": 0, \"ticks\": \"\"}}, \"type\": \"scattermapbox\"}], \"scatterpolar\": [{\"marker\": {\"colorbar\": {\"outlinewidth\": 0, \"ticks\": \"\"}}, \"type\": \"scatterpolar\"}], \"scatterpolargl\": [{\"marker\": {\"colorbar\": {\"outlinewidth\": 0, \"ticks\": \"\"}}, \"type\": \"scatterpolargl\"}], \"scatterternary\": [{\"marker\": {\"colorbar\": {\"outlinewidth\": 0, \"ticks\": \"\"}}, \"type\": \"scatterternary\"}], \"surface\": [{\"colorbar\": {\"outlinewidth\": 0, \"ticks\": \"\"}, \"colorscale\": [[0.0, \"#0d0887\"], [0.1111111111111111, \"#46039f\"], [0.2222222222222222, \"#7201a8\"], [0.3333333333333333, \"#9c179e\"], [0.4444444444444444, \"#bd3786\"], [0.5555555555555556, \"#d8576b\"], [0.6666666666666666, \"#ed7953\"], [0.7777777777777778, \"#fb9f3a\"], [0.8888888888888888, \"#fdca26\"], [1.0, \"#f0f921\"]], \"type\": \"surface\"}], \"table\": [{\"cells\": {\"fill\": {\"color\": \"#EBF0F8\"}, \"line\": {\"color\": \"white\"}}, \"header\": {\"fill\": {\"color\": \"#C8D4E3\"}, \"line\": {\"color\": \"white\"}}, \"type\": \"table\"}]}, \"layout\": {\"annotationdefaults\": {\"arrowcolor\": \"#2a3f5f\", \"arrowhead\": 0, \"arrowwidth\": 1}, \"coloraxis\": {\"colorbar\": {\"outlinewidth\": 0, \"ticks\": \"\"}}, \"colorscale\": {\"diverging\": [[0, \"#8e0152\"], [0.1, \"#c51b7d\"], [0.2, \"#de77ae\"], [0.3, \"#f1b6da\"], [0.4, \"#fde0ef\"], [0.5, \"#f7f7f7\"], [0.6, \"#e6f5d0\"], [0.7, \"#b8e186\"], [0.8, \"#7fbc41\"], [0.9, \"#4d9221\"], [1, \"#276419\"]], \"sequential\": [[0.0, \"#0d0887\"], [0.1111111111111111, \"#46039f\"], [0.2222222222222222, \"#7201a8\"], [0.3333333333333333, \"#9c179e\"], [0.4444444444444444, \"#bd3786\"], [0.5555555555555556, \"#d8576b\"], [0.6666666666666666, \"#ed7953\"], [0.7777777777777778, \"#fb9f3a\"], [0.8888888888888888, \"#fdca26\"], [1.0, \"#f0f921\"]], \"sequentialminus\": [[0.0, \"#0d0887\"], [0.1111111111111111, \"#46039f\"], [0.2222222222222222, \"#7201a8\"], [0.3333333333333333, \"#9c179e\"], [0.4444444444444444, \"#bd3786\"], [0.5555555555555556, \"#d8576b\"], [0.6666666666666666, \"#ed7953\"], [0.7777777777777778, \"#fb9f3a\"], [0.8888888888888888, \"#fdca26\"], [1.0, \"#f0f921\"]]}, \"colorway\": [\"#636efa\", \"#EF553B\", \"#00cc96\", \"#ab63fa\", \"#FFA15A\", \"#19d3f3\", \"#FF6692\", \"#B6E880\", \"#FF97FF\", \"#FECB52\"], \"font\": {\"color\": \"#2a3f5f\"}, \"geo\": {\"bgcolor\": \"white\", \"lakecolor\": \"white\", \"landcolor\": \"#E5ECF6\", \"showlakes\": true, \"showland\": true, \"subunitcolor\": \"white\"}, \"hoverlabel\": {\"align\": \"left\"}, \"hovermode\": \"closest\", \"mapbox\": {\"style\": \"light\"}, \"paper_bgcolor\": \"white\", \"plot_bgcolor\": \"#E5ECF6\", \"polar\": {\"angularaxis\": {\"gridcolor\": \"white\", \"linecolor\": \"white\", \"ticks\": \"\"}, \"bgcolor\": \"#E5ECF6\", \"radialaxis\": {\"gridcolor\": \"white\", \"linecolor\": \"white\", \"ticks\": \"\"}}, \"scene\": {\"xaxis\": {\"backgroundcolor\": \"#E5ECF6\", \"gridcolor\": \"white\", \"gridwidth\": 2, \"linecolor\": \"white\", \"showbackground\": true, \"ticks\": \"\", \"zerolinecolor\": \"white\"}, \"yaxis\": {\"backgroundcolor\": \"#E5ECF6\", \"gridcolor\": \"white\", \"gridwidth\": 2, \"linecolor\": \"white\", \"showbackground\": true, \"ticks\": \"\", \"zerolinecolor\": \"white\"}, \"zaxis\": {\"backgroundcolor\": \"#E5ECF6\", \"gridcolor\": \"white\", \"gridwidth\": 2, \"linecolor\": \"white\", \"showbackground\": true, \"ticks\": \"\", \"zerolinecolor\": \"white\"}}, \"shapedefaults\": {\"line\": {\"color\": \"#2a3f5f\"}}, \"ternary\": {\"aaxis\": {\"gridcolor\": \"white\", \"linecolor\": \"white\", \"ticks\": \"\"}, \"baxis\": {\"gridcolor\": \"white\", \"linecolor\": \"white\", \"ticks\": \"\"}, \"bgcolor\": \"#E5ECF6\", \"caxis\": {\"gridcolor\": \"white\", \"linecolor\": \"white\", \"ticks\": \"\"}}, \"title\": {\"x\": 0.05}, \"xaxis\": {\"automargin\": true, \"gridcolor\": \"white\", \"linecolor\": \"white\", \"ticks\": \"\", \"title\": {\"standoff\": 15}, \"zerolinecolor\": \"white\", \"zerolinewidth\": 2}, \"yaxis\": {\"automargin\": true, \"gridcolor\": \"white\", \"linecolor\": \"white\", \"ticks\": \"\", \"title\": {\"standoff\": 15}, \"zerolinecolor\": \"white\", \"zerolinewidth\": 2}}}, \"title\": {\"text\": \"2016\"}, \"updatemenus\": [{\"buttons\": [{\"args\": [null, {\"frame\": {\"duration\": 500, \"redraw\": false}, \"fromcurrent\": true, \"mode\": \"immediate\", \"transition\": {\"duration\": 500, \"easing\": \"linear\"}}], \"label\": \"&#9654;\", \"method\": \"animate\"}, {\"args\": [[null], {\"frame\": {\"duration\": 0, \"redraw\": false}, \"fromcurrent\": true, \"mode\": \"immediate\", \"transition\": {\"duration\": 0, \"easing\": \"linear\"}}], \"label\": \"&#9724;\", \"method\": \"animate\"}], \"direction\": \"left\", \"pad\": {\"r\": 10, \"t\": 70}, \"showactive\": false, \"type\": \"buttons\", \"x\": 0.1, \"xanchor\": \"right\", \"y\": 0, \"yanchor\": \"top\"}], \"xaxis\": {\"anchor\": \"y\", \"domain\": [0.0, 1.0], \"range\": [2.0, 10.0], \"title\": {\"text\": \"revenue\"}, \"type\": \"log\"}, \"yaxis\": {\"anchor\": \"x\", \"domain\": [0.0, 1.0], \"range\": [0.0, 2.9999999999999996], \"title\": {\"text\": \"popularity\"}, \"type\": \"log\"}},\n",
       "                        {\"responsive\": true}\n",
       "                    ).then(function(){\n",
       "                            Plotly.addFrames('eb98fd38-a077-4be7-af06-23a540129678', [{\"data\": [{\"hoverlabel\": {\"namelength\": 0}, \"hovertemplate\": \"genres=Action<br>realease_year=2009<br>revenue=%{x}<br>popularity=%{y}<br>budget=%{marker.size}\", \"legendgroup\": \"genres=Action\", \"marker\": {\"color\": \"#636efa\", \"size\": [237000000, 200000000, 200000000, 130000000, 90000000, 80000000, 60000000, 50000000, 40000000, 50000000, 50000000, 33000000, 33000000, 40000000, 30000000, 26000000, 20000000, 20000000, 20000000, 16000000, 8000000], \"sizemode\": \"area\", \"sizeref\": 77777.77777777778, \"symbol\": \"circle\"}, \"mode\": \"markers\", \"name\": \"genres=Action\", \"showlegend\": true, \"x\": [2787965087, 371353001, 769653595, 185258983, 524028679, 122444772, 87784194, 155446362, 60462347, 40828540, 12764201, 14000000, 20645327, 12206028, 48428063, 183293131, 22942221, 34560577, 17280326, 11301649, 10629321], \"xaxis\": \"x\", \"y\": [150.437577, 71.862892, 45.274225, 64.798873, 57.834787, 36.664991, 21.685719, 32.693093, 19.085403, 27.631262, 8.139676, 7.663514999999999, 28.353517, 14.818717999999999, 55.806402, 31.250383000000003, 15.21229, 35.542809000000005, 15.66135, 4.628525, 13.517017000000001], \"yaxis\": \"y\", \"type\": \"scatter\"}], \"name\": \"2009\"}, {\"data\": [{\"hoverlabel\": {\"namelength\": 0}, \"hovertemplate\": \"genres=Action<br>realease_year=2015<br>revenue=%{x}<br>popularity=%{y}<br>budget=%{marker.size}\", \"legendgroup\": \"genres=Action\", \"marker\": {\"color\": \"#636efa\", \"size\": [245000000, 280000000, 150000000, 190000000, 160000000, 150000000, 150000000, 120000000, 110000000, 105000000, 88000000, 65000000, 61000000, 50000000, 40000000, 40000000, 38000000, 36000000, 35000000, 30000000, 30000000, 15000000, 5000000], \"sizemode\": \"area\", \"sizeref\": 77777.77777777778, \"symbol\": \"circle\"}, \"mode\": \"markers\", \"name\": \"genres=Action\", \"showlegend\": true, \"x\": [880674609, 1405403694, 1513528810, 1506249360, 653428261, 378858340, 682330139, 167977596, 470490832, 133718711, 243637091, 121545703, 311256926, 71561644, 13644292, 100000000, 107597242, 156844753, 51680201, 84025816, 91709827, 632542, 54418872], \"xaxis\": \"x\", \"y\": [107.37678799999999, 134.27922900000002, 418.708552, 102.32221700000001, 127.28442700000001, 434.27856399999996, 114.52223700000002, 38.126095, 100.412364, 33.507289, 140.849495, 9.568883999999999, 113.161483, 74.64653, 26.935458, 16.254032000000002, 41.258487, 19.167377, 18.262017, 55.424027, 65.364452, 8.142166, 38.006982], \"yaxis\": \"y\", \"type\": \"scatter\"}], \"name\": \"2015\"}, {\"data\": [{\"hoverlabel\": {\"namelength\": 0}, \"hovertemplate\": \"genres=Action<br>realease_year=2012<br>revenue=%{x}<br>popularity=%{y}<br>budget=%{marker.size}\", \"legendgroup\": \"genres=Action\", \"marker\": {\"color\": \"#636efa\", \"size\": [250000000, 260000000, 225000000, 215000000, 200000000, 130000000, 100000000, 85000000, 50000000, 69000000, 65000000, 65000000, 45000000, 42000000, 40000000, 42000000, 45000000, 35000000, 30000000, 30000000, 25000000, 2000000, 20000000, 20000000, 15000000, 12000000, 3730500], \"sizemode\": \"area\", \"sizeref\": 77777.77777777778, \"symbol\": \"circle\"}, \"mode\": \"markers\", \"name\": \"genres=Action\", \"showlegend\": true, \"x\": [1084939099, 284139100, 624026776, 752215857, 1108561013, 276572938, 312573423, 208076205, 41037742, 112265139, 156974557, 240159255, 376141306, 201585328, 36893721, 46221189, 30353232, 2106557, 40346186, 47042000, 77278331, 14400000, 32204030, 16863583, 15608545, 81272766, 6294161], \"xaxis\": \"x\", \"y\": [112.31295, 43.926995, 52.035179, 89.866276, 93.004993, 90.33681, 53.73289200000001, 34.773106, 57.67393199999999, 38.634767, 38.994296999999996, 6.227675, 49.353524, 62.714026000000004, 19.438503, 34.041407, 14.513243, 16.830184, 31.92695, 46.377628, 48.552871, 16.668854, 35.232278, 15.131867000000002, 17.672021, 21.958054999999998, 6.938853999999999], \"yaxis\": \"y\", \"type\": \"scatter\"}], \"name\": \"2012\"}, {\"data\": [{\"hoverlabel\": {\"namelength\": 0}, \"hovertemplate\": \"genres=Action<br>realease_year=2016<br>revenue=%{x}<br>popularity=%{y}<br>budget=%{marker.size}\", \"legendgroup\": \"genres=Action\", \"marker\": {\"color\": \"#636efa\", \"size\": [250000000, 185000000, 180000000, 175000000, 165000000, 15000000, 160000000, 144000000, 145000000, 120000000, 115000000, 90000000, 80000000, 60000000, 68490000, 58000000, 50000000, 50000000, 40000000, 31500000, 25000000, 20000000, 20000000, 15000000, 10000000, 5000000], \"sizemode\": \"area\", \"sizeref\": 77777.77777777778, \"symbol\": \"circle\"}, \"mode\": \"markers\", \"name\": \"genres=Action\", \"showlegend\": true, \"x\": [873260194, 343471816, 356743061, 745000000, 389681935, 77000000, 433677183, 229147509, 521170825, 415484914, 164602163, 334901337, 52099090, 205754447, 193677158, 783112979, 216972543, 69411370, 124827316, 14708696, 1397284, 46069568, 12639297, 20566327, 118587880, 24804129], \"xaxis\": \"x\", \"y\": [155.790452, 65.352913, 42.741719, 90.23791999999999, 48.775723, 9.476999000000001, 63.148529, 66.21806, 56.747978, 62.641286, 60.467983999999994, 51.535701, 28.223664000000003, 61.849520999999996, 4.7262900000000005, 514.5699559999999, 45.318703, 42.526529, 25.136082000000002, 27.891012, 15.333575, 16.663797, 29.371987, 18.268009, 53.727146, 22.9951], \"yaxis\": \"y\", \"type\": \"scatter\"}], \"name\": \"2016\"}, {\"data\": [{\"hoverlabel\": {\"namelength\": 0}, \"hovertemplate\": \"genres=Action<br>realease_year=2013<br>revenue=%{x}<br>popularity=%{y}<br>budget=%{marker.size}\", \"legendgroup\": \"genres=Action\", \"marker\": {\"color\": \"#636efa\", \"size\": [255000000, 225000000, 200000000, 200000000, 190000000, 195000000, 180000000, 170000000, 150000000, 120000000, 120000000, 92000000, 70000000, 50000000, 61000000, 60000000, 55000000, 55000000, 44000000, 43000000, 40000000, 39200000, 3860000, 35000000, 32000000, 28000000, 22000000, 12000000, 18000000, 9000000], \"sizemode\": \"area\", \"sizeref\": 77777.77777777778, \"symbol\": \"circle\"}, \"mode\": \"markers\", \"name\": \"genres=Action\", \"showlegend\": true, \"x\": [89289910, 662845518, 1215439994, 531865000, 467365246, 197687603, 407602906, 644571402, 205366737, 286168572, 415440673, 304654182, 161025640, 122915111, 131940411, 90565421, 95000000, 9489829, 63327201, 158674180, 149295601, 86758912, 64076736, 46216641, 126041322, 60700000, 43058898, 15008161, 10501938, 6108720], \"xaxis\": \"x\", \"y\": [49.046956, 99.398009, 77.68208, 81.834855, 78.29101800000001, 43.349855, 56.523205000000004, 99.499595, 39.004588, 67.698004, 15.953444000000001, 65.40259499999999, 59.428222999999996, 44.478043, 42.881415000000004, 45.514031, 52.786917, 22.503935000000002, 42.933027, 37.654688, 37.084384, 64.238688, 19.947264999999998, 28.670477, 38.217079999999996, 40.28635, 35.737655, 29.072964000000002, 16.520516, 28.540614], \"yaxis\": \"y\", \"type\": \"scatter\"}], \"name\": \"2013\"}, {\"data\": [{\"hoverlabel\": {\"namelength\": 0}, \"hovertemplate\": \"genres=Action<br>realease_year=2014<br>revenue=%{x}<br>popularity=%{y}<br>budget=%{marker.size}\", \"legendgroup\": \"genres=Action\", \"marker\": {\"color\": \"#636efa\", \"size\": [250000000, 200000000, 250000000, 178000000, 170000000, 170000000, 120000000, 110000000, 100000000, 90000000, 130000000, 70000000, 66000000, 60000000, 50000000, 50000000, 44000000, 40000000, 35000000, 34000000, 28000000, 28000000, 25000000, 5000000], \"sizemode\": \"area\", \"sizeref\": 77777.77777777778, \"symbol\": \"circle\"}, \"mode\": \"markers\", \"name\": \"genres=Action\", \"showlegend\": true, \"x\": [956019788, 705717432, 747862775, 370541256, 714766572, 773328629, 242688965, 337580051, 243400000, 206172544, 117831631, 61279452, 203277636, 50549107, 222809600, 160602194, 12342632, 126546825, 17508518, 348319861, 52597999, 68896829, 153997819, 6833445], \"xaxis\": \"x\", \"y\": [120.96574299999999, 89.270217, 118.07869099999999, 79.456485, 72.22526500000001, 481.09862400000003, 66.757869, 71.51059599999999, 76.842247, 61.025639, 50.561849, 25.020428, 54.814890000000005, 42.538258, 83.295796, 20.566554, 74.16801600000001, 115.241998, 27.903999, 131.815575, 41.638961, 25.520976, 28.468000000000004, 17.845160999999997], \"yaxis\": \"y\", \"type\": \"scatter\"}], \"name\": \"2014\"}, {\"data\": [{\"hoverlabel\": {\"namelength\": 0}, \"hovertemplate\": \"genres=Action<br>realease_year=2010<br>revenue=%{x}<br>popularity=%{y}<br>budget=%{marker.size}\", \"legendgroup\": \"genres=Action\", \"marker\": {\"color\": \"#636efa\", \"size\": [200000000, 160000000, 150000000, 110000000, 117000000, 100000000, 100000000, 100000000, 60000000, 80000000, 75000000, 58000000, 60000000, 52000000, 47000000, 40000000, 40000000, 30000000, 32000000, 32000000, 28000000, 28000000, 25000000, 20000000, 10000000, 8000000], \"sizemode\": \"area\", \"sizeref\": 77777.77777777778, \"symbol\": \"circle\"}, \"mode\": \"markers\", \"name\": \"genres=Action\", \"showlegend\": true, \"x\": [310669540, 825532764, 318502923, 293329073, 261930431, 170432927, 278731369, 167805466, 47664559, 157107755, 98159963, 71664962, 300228084, 52826594, 10539000, 136000000, 126248813, 55583804, 69055695, 18409891, 96188903, 45236543, 23580000, 31327899, 6110000, 3453043], \"xaxis\": \"x\", \"y\": [37.668301, 167.58371, 33.769335999999996, 48.829437, 44.906918, 24.399642, 41.426678, 37.698465, 38.885195, 32.363538, 23.004607, 41.430245, 2.143764, 27.916284, 22.581313, 33.747825, 47.649553999999995, 25.825771, 18.47242, 25.799697000000002, 45.054936, 14.639323999999998, 24.903418, 26.396190999999998, 14.038511999999999, 10.791953999999999], \"yaxis\": \"y\", \"type\": \"scatter\"}], \"name\": \"2010\"}, {\"data\": [{\"hoverlabel\": {\"namelength\": 0}, \"hovertemplate\": \"genres=Action<br>realease_year=2004<br>revenue=%{x}<br>popularity=%{y}<br>budget=%{marker.size}\", \"legendgroup\": \"genres=Action\", \"marker\": {\"color\": \"#636efa\", \"size\": [200000000, 125000000, 105000000, 110000000, 120000000, 100000000, 90000000, 92000000, 75000000, 45000000, 70000000, 60000000, 30000000, 57000000, 25000000, 40000000, 33000000, 28000000, 19000000, 20000000, 20000000, 12000000], \"sizemode\": \"area\", \"sizeref\": 77777.77777777778, \"symbol\": \"circle\"}, \"mode\": \"markers\", \"name\": \"genres=Action\", \"showlegend\": true, \"x\": [783766341, 544272402, 115772733, 72178895, 347234916, 82102379, 102000000, 631442092, 288500217, 21009180, 130293714, 61347797, 152159461, 28283637, 56422687, 46546197, 54700105, 30016165, 69631118, 100914445, 16605763, 9584131], \"xaxis\": \"x\", \"y\": [35.149586, 41.380094, 27.835435999999998, 22.643776000000003, 95.914473, 32.271938, 19.224754, 77.817571, 53.213931, 20.374308, 45.299089, 14.113066, 50.622607, 9.27875, 24.459948, 7.360792999999999, 35.099610999999996, 6.201404, 8.584398, 13.658985000000001, 9.149089, 17.493735], \"yaxis\": \"y\", \"type\": \"scatter\"}], \"name\": \"2004\"}, {\"data\": [{\"hoverlabel\": {\"namelength\": 0}, \"hovertemplate\": \"genres=Action<br>realease_year=2011<br>revenue=%{x}<br>popularity=%{y}<br>budget=%{marker.size}\", \"legendgroup\": \"genres=Action\", \"marker\": {\"color\": \"#636efa\", \"size\": [195000000, 160000000, 145000000, 140000000, 130000000, 125000000, 120000000, 110000000, 75000000, 82000000, 70000000, 66000000, 60000000, 57000000, 50000000, 40000000, 30000000, 40000000, 40000000, 30000000, 30000000, 30000000, 28000000, 25000000, 23000000, 20000000, 18000000, 14350531, 6000000, 3000000, 1100000], \"sizemode\": \"area\", \"sizeref\": 77777.77777777778, \"symbol\": \"circle\"}, \"mode\": \"markers\", \"name\": \"genres=Action\", \"showlegend\": true, \"x\": [1123746996, 353624124, 694713380, 370569774, 554987477, 626137675, 227817248, 299268508, 152930623, 89792502, 202466756, 57777106, 78309131, 149217355, 144492830, 51070807, 130786397, 60965854, 173930596, 63782078, 108609310, 2527904, 40547440, 23057115, 33372606, 4634062, 47088990, 3964682, 19560274, 748453, 4105187], \"xaxis\": \"x\", \"y\": [28.529607000000002, 3.195174, 77.77476999999999, 74.50624599999999, 20.678787, 7.255717999999999, 31.703608000000003, 37.195046000000005, 36.743324, 39.127082, 49.199234000000004, 29.501489000000003, 28.350927000000002, 48.622278, 43.450266, 44.094856, 38.643914, 33.785969, 60.231381999999996, 31.191975, 20.063164999999998, 13.268935999999998, 25.039382999999997, 51.915025, 26.257951000000002, 10.617236, 19.234672, 30.952377000000002, 19.411141, 16.900433, 40.285095], \"yaxis\": \"y\", \"type\": \"scatter\"}], \"name\": \"2011\"}, {\"data\": [{\"hoverlabel\": {\"namelength\": 0}, \"hovertemplate\": \"genres=Action<br>realease_year=2007<br>revenue=%{x}<br>popularity=%{y}<br>budget=%{marker.size}\", \"legendgroup\": \"genres=Action\", \"marker\": {\"color\": \"#636efa\", \"size\": [140000000, 70000000, 110000000, 67000000, 61000000, 35000000, 30000000, 25000000, 20000000, 20000000, 20000000, 24000000, 10000000], \"sizemode\": \"area\", \"sizeref\": 77777.77777777778, \"symbol\": \"circle\"}, \"mode\": \"markers\", \"name\": \"genres=Action\", \"showlegend\": true, \"x\": [258022233, 442824138, 383531464, 25303038, 95696996, 63215872, 14711793, 40452643, 86865564, 16974459, 10337477, 99965753, 20342161], \"xaxis\": \"x\", \"y\": [22.57178, 45.381501, 48.933370000000004, 12.282911, 37.378081, 9.789027, 35.53352, 18.896239, 6.0646379999999995, 12.643703, 9.361460000000001, 42.669304, 4.207456], \"yaxis\": \"y\", \"type\": \"scatter\"}], \"name\": \"2007\"}, {\"data\": [{\"hoverlabel\": {\"namelength\": 0}, \"hovertemplate\": \"genres=Action<br>realease_year=2008<br>revenue=%{x}<br>popularity=%{y}<br>budget=%{marker.size}\", \"legendgroup\": \"genres=Action\", \"marker\": {\"color\": \"#636efa\", \"size\": [140000000, 120000000, 92000000, 80000000, 75000000, 70000000, 45000000, 60000000, 60000000, 55000000, 45000000, 70000000, 45000000, 36500000, 35000000, 35000000, 20500000, 30000000, 27000000, 25000000, 25000000, 20000000, 25000000, 18000000, 5000000], \"sizemode\": \"area\", \"sizeref\": 77777.77777777778, \"symbol\": \"circle\"}, \"mode\": \"markers\", \"name\": \"genres=Action\", \"showlegend\": true, \"x\": [585174222, 93945766, 188072649, 230685453, 258270008, 113280098, 73762516, 73174566, 39031337, 127906624, 101702060, 72108608, 42487390, 21834845, 85416905, 25871834, 10089373, 22211426, 101624843, 226830568, 170764026, 65569869, 14109284, 25739015, 1296184], \"xaxis\": \"x\", \"y\": [120.725053, 17.060695000000003, 43.192048, 23.496054, 73.82289, 37.507135999999996, 42.57877, 18.380176000000002, 14.84856, 17.097041, 53.090422, 27.568194000000002, 14.813057, 2.785832, 25.903237, 19.088655, 17.112498000000002, 21.538222, 41.832392, 80.879032, 46.942396, 18.666876000000002, 16.238961, 31.887978000000004, 6.265658999999999], \"yaxis\": \"y\", \"type\": \"scatter\"}], \"name\": \"2008\"}, {\"data\": [{\"hoverlabel\": {\"namelength\": 0}, \"hovertemplate\": \"genres=Action<br>realease_year=1999<br>revenue=%{x}<br>popularity=%{y}<br>budget=%{marker.size}\", \"legendgroup\": \"genres=Action\", \"marker\": {\"color\": \"#636efa\", \"size\": [170000000, 100000000, 63000000, 60000000, 75000000, 45000000, 65000000, 70000000, 15000000, 25000000, 10000000, 6000000], \"sizemode\": \"area\", \"sizeref\": 77777.77777777778, \"symbol\": \"circle\"}, \"mode\": \"markers\", \"name\": \"genres=Action\", \"showlegend\": true, \"x\": [222104681, 211989043, 463517383, 73648228, 108000000, 10667893, 117758500, 11263966, 2856712, 15156200, 3193102, 30471], \"xaxis\": \"x\", \"y\": [40.748915000000004, 20.652943, 104.309993, 22.991269, 34.973086, 14.566664000000001, 16.865782, 3.2769120000000003, 21.928025, 4.068107, 8.902102000000001, 34.917446999999996], \"yaxis\": \"y\", \"type\": \"scatter\"}], \"name\": \"1999\"}, {\"data\": [{\"hoverlabel\": {\"namelength\": 0}, \"hovertemplate\": \"genres=Action<br>realease_year=2003<br>revenue=%{x}<br>popularity=%{y}<br>budget=%{marker.size}\", \"legendgroup\": \"genres=Action\", \"marker\": {\"color\": \"#636efa\", \"size\": [200000000, 120000000, 95000000, 60000000, 80000000, 76000000, 70000000, 75000000, 80000000, 60000000, 60000000, 30000000, 50000000, 50000000, 38000000, 40000000, 36000000, 29000000, 28000000, 25000000], \"sizemode\": \"area\", \"sizeref\": 77777.77777777778, \"symbol\": \"circle\"}, \"mode\": \"markers\", \"name\": \"genres=Action\", \"showlegend\": true, \"x\": [435000000, 259175788, 156505388, 74208267, 19480739, 236350661, 85632458, 51142659, 116643346, 176070171, 96269812, 180949000, 88323487, 42792561, 197011982, 19322135, 44350926, 98185582, 58795814, 56489558], \"xaxis\": \"x\", \"y\": [69.405188, 33.616115, 56.81105600000001, 29.211254999999998, 11.22268, 10.520961, 27.055085, 10.605084, 34.052253, 62.766854, 29.018826, 79.75496600000001, 16.251204, 19.226763000000002, 21.998734, 15.590001, 19.854932, 27.555646000000003, 11.859396, 12.837116], \"yaxis\": \"y\", \"type\": \"scatter\"}], \"name\": \"2003\"}, {\"data\": [{\"hoverlabel\": {\"namelength\": 0}, \"hovertemplate\": \"genres=Action<br>realease_year=2001<br>revenue=%{x}<br>popularity=%{y}<br>budget=%{marker.size}\", \"legendgroup\": \"genres=Action\", \"marker\": {\"color\": \"#636efa\", \"size\": [38000000, 92000000, 90000000, 92000000, 102000000, 75000000, 94000000, 68000000, 62000000, 72000000, 49000000, 45000000, 60000000, 57000000, 40000000, 40000000, 35000000, 35000000, 50000000, 30000000, 28000000, 25000000, 25000000, 22000000, 15000000, 11000000, 7000000, 5000000, 7000000], \"sizemode\": \"area\", \"sizeref\": 77777.77777777778, \"symbol\": \"circle\"}, \"mode\": \"markers\", \"name\": \"genres=Action\", \"showlegend\": true, \"x\": [207283925, 172989651, 347325802, 143049560, 147080413, 67631903, 54744738, 71069884, 18720175, 27642707, 72700000, 104876233, 56359980, 147845033, 91753202, 27053815, 147934180, 13678913, 79958599, 18195610, 14010832, 80936232, 64437847, 84772742, 23000, 23978402, 4720371, 5476060, 10229331], \"xaxis\": \"x\", \"y\": [6.909942, 44.455166, 35.814765, 27.166757, 36.788745, 24.353302, 8.468586, 22.572323, 11.262655, 15.433244, 21.746245000000002, 52.081131, 15.205371, 21.021809, 24.012985999999998, 3.296933, 21.543389, 6.727949000000001, 12.601306, 8.359599000000001, 13.145204999999999, 12.739721000000001, 16.936576000000002, 13.786075, 1.833058, 3.4957580000000004, 2.206097, 4.149628, 2.453459], \"yaxis\": \"y\", \"type\": \"scatter\"}], \"name\": \"2001\"}, {\"data\": [{\"hoverlabel\": {\"namelength\": 0}, \"hovertemplate\": \"genres=Action<br>realease_year=2005<br>revenue=%{x}<br>popularity=%{y}<br>budget=%{marker.size}\", \"legendgroup\": \"genres=Action\", \"marker\": {\"color\": \"#636efa\", \"size\": [150000000, 135000000, 130000000, 110000000, 126000000, 75000000, 43000000, 60000000, 80000000, 56000000, 62000000, 50000000, 50000000, 50000000, 45000000, 40000000, 32000000, 45000000, 30000000, 25000000, 20000000, 2000000, 15000000, 10000000, 6000000], \"sizemode\": \"area\", \"sizeref\": 77777.77777777778, \"symbol\": \"circle\"}, \"mode\": \"markers\", \"name\": \"genres=Action\", \"showlegend\": true, \"x\": [374218673, 76932943, 119269486, 478207520, 162949164, 142400065, 56681566, 71073932, 10166502, 113006880, 52304001, 110803676, 44434439, 22944502, 50871113, 158733820, 85167639, 92374674, 15007991, 2405420, 10442808, 5048693, 15785148, 17297244, 27165581], \"xaxis\": \"x\", \"y\": [115.040024, 17.88953, 21.605567999999998, 44.635452, 37.68056, 31.054334000000004, 28.613892, 36.689223, 8.923214999999999, 35.4763, 29.954302000000002, 15.982120000000002, 14.723467000000001, 18.394571, 25.999888000000002, 66.003433, 47.5612, 24.694551, 10.756266, 7.008216, 9.292987, 14.617944, 32.690038, 5.647538, 11.81832], \"yaxis\": \"y\", \"type\": \"scatter\"}], \"name\": \"2005\"}, {\"data\": [{\"hoverlabel\": {\"namelength\": 0}, \"hovertemplate\": \"genres=Action<br>realease_year=1998<br>revenue=%{x}<br>popularity=%{y}<br>budget=%{marker.size}\", \"legendgroup\": \"genres=Action\", \"marker\": {\"color\": \"#636efa\", \"size\": [140000000, 140000000, 90000000, 75000000, 70000000, 75000000, 95000000, 55000000, 50000000, 30000000, 13000000, 2000000, 1530000], \"sizemode\": \"area\", \"sizeref\": 77777.77777777778, \"symbol\": \"circle\"}, \"mode\": \"markers\", \"name\": \"genres=Action\", \"showlegend\": true, \"x\": [553799566, 285444603, 250649836, 140464664, 164000000, 14567883, 250288523, 41610884, 44547681, 19204929, 27007143, 124494, 7267585], \"xaxis\": \"x\", \"y\": [58.485967, 24.855701, 41.207568, 34.070054, 18.264635000000002, 11.873856, 31.086790999999998, 32.657488, 28.725621000000004, 9.607391, 6.425528, 1.8921830000000002, 27.36562], \"yaxis\": \"y\", \"type\": \"scatter\"}], \"name\": \"1998\"}, {\"data\": [{\"hoverlabel\": {\"namelength\": 0}, \"hovertemplate\": \"genres=Action<br>realease_year=2002<br>revenue=%{x}<br>popularity=%{y}<br>budget=%{marker.size}\", \"legendgroup\": \"genres=Action\", \"marker\": {\"color\": \"#636efa\", \"size\": [140000000, 102000000, 100000000, 85000000, 70000000, 75000000, 70000000, 70000000, 70000000, 60000000, 60000000, 55000000, 45000000, 40000000, 35000000, 40000000, 38000000, 45000000, 25000000, 21000000, 20000000, 20000000, 15000000, 14000000, 12000000, 6500000], \"sizemode\": \"area\", \"sizeref\": 77777.77777777778, \"symbol\": \"circle\"}, \"mode\": \"markers\", \"name\": \"genres=Action\", \"showlegend\": true, \"x\": [441818803, 358372926, 7103973, 78382433, 277448382, 114660784, 65977295, 33561137, 19924033, 214034224, 165333180, 6416302, 94935764, 8493890, 75395048, 10959475, 119723358, 306776732, 41604473, 43928932, 12398628, 5359645, 9237470, 25482931, 61141030, 12633747], \"xaxis\": \"x\", \"y\": [91.332849, 65.948959, 12.092241, 18.827753, 46.217769, 19.708731, 14.086292000000002, 13.267631, 8.37378, 86.47681700000001, 37.537093, 12.669777999999999, 17.270539000000003, 5.201688, 26.595983, 2.911819, 24.085144, 32.217425, 6.086083, 34.433521, 17.227376, 44.566609, 6.373316, 5.102258, 6.7033190000000005, 8.526635], \"yaxis\": \"y\", \"type\": \"scatter\"}], \"name\": \"2002\"}, {\"data\": [{\"hoverlabel\": {\"namelength\": 0}, \"hovertemplate\": \"genres=Action<br>realease_year=1990<br>revenue=%{x}<br>popularity=%{y}<br>budget=%{marker.size}\", \"legendgroup\": \"genres=Action\", \"marker\": {\"color\": \"#636efa\", \"size\": [65000000, 70000000, 49000000, 30000000, 11000000], \"sizemode\": \"area\", \"sizeref\": 77777.77777777778, \"symbol\": \"circle\"}, \"mode\": \"markers\", \"name\": \"genres=Action\", \"showlegend\": true, \"x\": [261317921, 240031094, 20423389, 199200000, 48572000], \"xaxis\": \"x\", \"y\": [43.129703000000006, 57.69846999999999, 2.8084279999999997, 46.212154999999996, 32.579696999999996], \"yaxis\": \"y\", \"type\": \"scatter\"}], \"name\": \"1990\"}, {\"data\": [{\"hoverlabel\": {\"namelength\": 0}, \"hovertemplate\": \"genres=Action<br>realease_year=1997<br>revenue=%{x}<br>popularity=%{y}<br>budget=%{marker.size}\", \"legendgroup\": \"genres=Action\", \"marker\": {\"color\": \"#636efa\", \"size\": [125000000, 116000000, 160000000, 90000000, 85000000, 80000000, 75000000, 75000000, 60000000, 55000000, 50000000, 50000000, 45000000, 40000000, 37000000, 30000000, 15000000], \"sizemode\": \"area\", \"sizeref\": 77777.77777777778, \"symbol\": \"circle\"}, \"mode\": \"markers\", \"name\": \"genres=Action\", \"showlegend\": true, \"x\": [238207122, 178127760, 164508066, 589390539, 315156409, 245676146, 224012234, 136982834, 159330280, 11466088, 48169156, 10541523, 2154540, 87840042, 6482195, 51376861, 44862187], \"xaxis\": \"x\", \"y\": [50.073575, 16.90444, 23.336875, 104.121555, 36.38795, 46.075037, 45.154631, 22.179658, 19.747459, 4.700024, 19.434672, 3.314004, 3.848893, 19.833664000000002, 4.131546, 11.916389, 19.284129], \"yaxis\": \"y\", \"type\": \"scatter\"}], \"name\": \"1997\"}, {\"data\": [{\"hoverlabel\": {\"namelength\": 0}, \"hovertemplate\": \"genres=Action<br>realease_year=2006<br>revenue=%{x}<br>popularity=%{y}<br>budget=%{marker.size}\", \"legendgroup\": \"genres=Action\", \"marker\": {\"color\": \"#636efa\", \"size\": [110000000, 85000000, 65000000, 60000000, 60000000, 54000000, 55000000, 40000000, 35000000, 33000000, 30000000, 24000000, 20000000, 18000000, 17000000, 17000000, 17000000, 20000000, 19000000, 12000000, 11000000, 8000000, 8000000, 5800000], \"sizemode\": \"area\", \"sizeref\": 77777.77777777778, \"symbol\": \"circle\"}, \"mode\": \"markers\", \"name\": \"genres=Action\", \"showlegend\": true, \"x\": [574480841, 158468292, 422610419, 77920346, 17800000, 132511035, 65664721, 120175290, 10496317, 62022014, 41480851, 23321954, 37597471, 1831348, 57103895, 9500000, 374743, 22165608, 68673228, 42931041, 72778712, 12671300, 143451, 7000000], \"xaxis\": \"x\", \"y\": [48.780039, 8.282876, 65.197968, 15.352807, 13.155999, 84.630969, 32.31022, 41.570046999999995, 20.27704, 19.642328, 9.278361, 6.009644000000001, 15.804814000000002, 9.244181, 23.491962, 19.311572, 9.349386, 7.679336, 24.472479999999997, 47.992816999999995, 11.227087, 5.069095, 3.9424639999999997, 3.201886], \"yaxis\": \"y\", \"type\": \"scatter\"}], \"name\": \"2006\"}, {\"data\": [{\"hoverlabel\": {\"namelength\": 0}, \"hovertemplate\": \"genres=Action<br>realease_year=2000<br>revenue=%{x}<br>popularity=%{y}<br>budget=%{marker.size}\", \"legendgroup\": \"genres=Action\", \"marker\": {\"color\": \"#636efa\", \"size\": [90000000, 103000000, 92000000, 95000000, 44000000, 76000000, 75000000, 65000000, 62000000, 46000000, 63600000, 26000000, 25000000, 24000000, 20000000, 25000000, 10000000, 8500000, 6000000], \"sizemode\": \"area\", \"sizeref\": 77777.77777777778, \"symbol\": \"circle\"}, \"mode\": \"markers\", \"name\": \"genres=Action\", \"showlegend\": true, \"x\": [237202299, 457640427, 264105545, 190213455, 21400000, 35134820, 215663859, 128884132, 127666415, 107196498, 19412993, 71868327, 91036760, 12372410, 27728118, 15843608, 1631839, 19125401, 9000000], \"xaxis\": \"x\", \"y\": [52.995628, 95.301296, 40.20395, 28.200874, 7.89147, 8.981427, 13.318744, 15.772081, 18.096884, 19.643365, 4.494788, 39.742009, 19.750059, 3.113009, 2.027393, 11.782725, 3.988432, 8.775844000000001, 1.433692], \"yaxis\": \"y\", \"type\": \"scatter\"}], \"name\": \"2000\"}, {\"data\": [{\"hoverlabel\": {\"namelength\": 0}, \"hovertemplate\": \"genres=Action<br>realease_year=1991<br>revenue=%{x}<br>popularity=%{y}<br>budget=%{marker.size}\", \"legendgroup\": \"genres=Action\", \"marker\": {\"color\": \"#636efa\", \"size\": [100000000, 65000000, 23000000, 14000000, 8000000, 6000000], \"sizemode\": \"area\", \"sizeref\": 77777.77777777778, \"symbol\": \"circle\"}, \"mode\": \"markers\", \"name\": \"genres=Action\", \"showlegend\": true, \"x\": [520000000, 17218080, 7434726, 34793160, 2275557, 869325], \"xaxis\": \"x\", \"y\": [101.74155, 16.803457, 12.869436, 13.13724, 8.403858999999999, 1.478505], \"yaxis\": \"y\", \"type\": \"scatter\"}], \"name\": \"1991\"}, {\"data\": [{\"hoverlabel\": {\"namelength\": 0}, \"hovertemplate\": \"genres=Action<br>realease_year=1994<br>revenue=%{x}<br>popularity=%{y}<br>budget=%{marker.size}\", \"legendgroup\": \"genres=Action\", \"marker\": {\"color\": \"#636efa\", \"size\": [115000000, 62000000, 50000000, 50000000, 50000000, 45000000, 35000000, 30000000, 26000000, 10000000], \"sizemode\": \"area\", \"sizeref\": 77777.77777777778, \"symbol\": \"circle\"}, \"mode\": \"markers\", \"name\": \"genres=Action\", \"showlegend\": true, \"x\": [378882411, 215887717, 119208989, 49000000, 16671505, 170362582, 99423521, 350448145, 36800000, 29392418], \"xaxis\": \"x\", \"y\": [38.729418, 18.832470999999998, 20.333953, 9.114168, 21.312185999999997, 16.582709, 19.286099, 49.526736, 7.9644509999999995, 3.290639], \"yaxis\": \"y\", \"type\": \"scatter\"}], \"name\": \"1994\"}, {\"data\": [{\"hoverlabel\": {\"namelength\": 0}, \"hovertemplate\": \"genres=Action<br>realease_year=1996<br>revenue=%{x}<br>popularity=%{y}<br>budget=%{marker.size}\", \"legendgroup\": \"genres=Action\", \"marker\": {\"color\": \"#636efa\", \"size\": [100000000, 92000000, 80000000, 75000000, 75000000, 80000000, 50000000, 55000000, 50000000, 50000000, 38000000, 25000000, 25000000], \"sizemode\": \"area\", \"sizeref\": 77777.77777777778, \"symbol\": \"circle\"}, \"mode\": \"markers\", \"name\": \"genres=Action\", \"showlegend\": true, \"x\": [242295562, 494471524, 159212469, 816969268, 335062621, 309492681, 150270147, 121969216, 60209334, 42277365, 10300000, 17193231, 51702483], \"xaxis\": \"x\", \"y\": [24.507987, 32.079995000000004, 16.681269, 60.442593, 51.469576, 16.411345, 22.769108, 17.231675, 20.588620000000002, 21.637234, 10.047578999999999, 2.77255, 10.115011], \"yaxis\": \"y\", \"type\": \"scatter\"}], \"name\": \"1996\"}, {\"data\": [{\"hoverlabel\": {\"namelength\": 0}, \"hovertemplate\": \"genres=Action<br>realease_year=1995<br>revenue=%{x}<br>popularity=%{y}<br>budget=%{marker.size}\", \"legendgroup\": \"genres=Action\", \"marker\": {\"color\": \"#636efa\", \"size\": [100000000, 98000000, 90000000, 55000000, 72000000, 60000000, 60000000, 53000000, 50000000, 50000000, 50000000, 50000000, 20000000, 32000000, 30000000, 25000000, 19000000, 18000000], \"sizemode\": \"area\", \"sizeref\": 77777.77777777778, \"symbol\": \"circle\"}, \"mode\": \"markers\", \"name\": \"genres=Action\", \"showlegend\": true, \"x\": [336529144, 10017322, 366101666, 127600435, 210000000, 35431113, 104324083, 157387195, 152022101, 189859560, 30303072, 9851610, 7563728, 18552460, 24048000, 4064495, 141407024, 122195920], \"xaxis\": \"x\", \"y\": [48.205606, 7.029308, 51.881077000000005, 19.143321, 60.722162, 10.004564, 13.080725, 20.334629, 10.755847, 30.397496000000004, 23.073933, 8.189406, 17.842246, 16.473354999999998, 5.301589, 8.186936, 33.872182, 16.470895000000002], \"yaxis\": \"y\", \"type\": \"scatter\"}], \"name\": \"1995\"}, {\"data\": [{\"hoverlabel\": {\"namelength\": 0}, \"hovertemplate\": \"genres=Action<br>realease_year=1992<br>revenue=%{x}<br>popularity=%{y}<br>budget=%{marker.size}\", \"legendgroup\": \"genres=Action\", \"marker\": {\"color\": \"#636efa\", \"size\": [80000000, 40000000, 8000000, 220000], \"sizemode\": \"area\", \"sizeref\": 77777.77777777778, \"symbol\": \"circle\"}, \"mode\": \"markers\", \"name\": \"genres=Action\", \"showlegend\": true, \"x\": [280000000, 75505856, 6739141, 2040920], \"xaxis\": \"x\", \"y\": [59.113174, 37.776565999999995, 8.708229, 14.269792], \"yaxis\": \"y\", \"type\": \"scatter\"}], \"name\": \"1992\"}, {\"data\": [{\"hoverlabel\": {\"namelength\": 0}, \"hovertemplate\": \"genres=Action<br>realease_year=1993<br>revenue=%{x}<br>popularity=%{y}<br>budget=%{marker.size}\", \"legendgroup\": \"genres=Action\", \"marker\": {\"color\": \"#636efa\", \"size\": [70000000, 32000000, 25000000, 22000000, 21000000, 3000000, 12500000, 11500000, 6000000, 1500000, 2600000], \"sizemode\": \"area\", \"sizeref\": 77777.77777777778, \"symbol\": \"circle\"}, \"mode\": \"markers\", \"name\": \"genres=Action\", \"showlegend\": true, \"x\": [255000211, 36733909, 56505065, 10696210, 42000000, 1200000, 12281551, 3275585, 3283371, 418961, 2850263], \"xaxis\": \"x\", \"y\": [26.199089999999998, 14.48851, 30.537845, 14.725467000000002, 10.207065, 1.2791059999999999, 35.268557, 4.850402, 5.411243, 5.817519, 8.001156], \"yaxis\": \"y\", \"type\": \"scatter\"}], \"name\": \"1993\"}, {\"data\": [{\"hoverlabel\": {\"namelength\": 0}, \"hovertemplate\": \"genres=Action<br>realease_year=1984<br>revenue=%{x}<br>popularity=%{y}<br>budget=%{marker.size}\", \"legendgroup\": \"genres=Action\", \"marker\": {\"color\": \"#636efa\", \"size\": [4200000, 40000000, 25000000, 25000000, 15000000, 6400000], \"sizemode\": \"area\", \"sizeref\": 77777.77777777778, \"symbol\": \"circle\"}, \"mode\": \"markers\", \"name\": \"genres=Action\", \"showlegend\": true, \"x\": [38376497, 30925690, 5778353, 8613462, 316360478, 78371200], \"xaxis\": \"x\", \"y\": [11.743085, 25.876582, 4.020194, 7.436491, 29.843818, 74.23479300000001], \"yaxis\": \"y\", \"type\": \"scatter\"}], \"name\": \"1984\"}, {\"data\": [{\"hoverlabel\": {\"namelength\": 0}, \"hovertemplate\": \"genres=Action<br>realease_year=1988<br>revenue=%{x}<br>popularity=%{y}<br>budget=%{marker.size}\", \"legendgroup\": \"genres=Action\", \"marker\": {\"color\": \"#636efa\", \"size\": [63000000, 28000000, 7000000, 4000000, 3000000, 1500000], \"sizemode\": \"area\", \"sizeref\": 77777.77777777778, \"symbol\": \"circle\"}, \"mode\": \"markers\", \"name\": \"genres=Action\", \"showlegend\": true, \"x\": [189015611, 140767956, 20256975, 13008928, 7282851, 11806119], \"xaxis\": \"x\", \"y\": [31.294717, 66.169628, 6.872783999999999, 29.852608, 5.003615, 17.49699], \"yaxis\": \"y\", \"type\": \"scatter\"}], \"name\": \"1988\"}, {\"data\": [{\"hoverlabel\": {\"namelength\": 0}, \"hovertemplate\": \"genres=Action<br>realease_year=1978<br>revenue=%{x}<br>popularity=%{y}<br>budget=%{marker.size}\", \"legendgroup\": \"genres=Action\", \"marker\": {\"color\": \"#636efa\", \"size\": [55000000, 5000000], \"sizemode\": \"area\", \"sizeref\": 77777.77777777778, \"symbol\": \"circle\"}, \"mode\": \"markers\", \"name\": \"genres=Action\", \"showlegend\": true, \"x\": [300218018, 7230000], \"xaxis\": \"x\", \"y\": [48.507081, 5.348446], \"yaxis\": \"y\", \"type\": \"scatter\"}], \"name\": \"1978\"}, {\"data\": [{\"hoverlabel\": {\"namelength\": 0}, \"hovertemplate\": \"genres=Action<br>realease_year=1989<br>revenue=%{x}<br>popularity=%{y}<br>budget=%{marker.size}\", \"legendgroup\": \"genres=Action\", \"marker\": {\"color\": \"#636efa\", \"size\": [55000000, 30000000, 15000000], \"sizemode\": \"area\", \"sizeref\": 77777.77777777778, \"symbol\": \"circle\"}, \"mode\": \"markers\", \"name\": \"genres=Action\", \"showlegend\": true, \"x\": [63408614, 45892212, 30050028], \"xaxis\": \"x\", \"y\": [22.787667000000003, 11.196019999999999, 6.216203], \"yaxis\": \"y\", \"type\": \"scatter\"}], \"name\": \"1989\"}, {\"data\": [{\"hoverlabel\": {\"namelength\": 0}, \"hovertemplate\": \"genres=Action<br>realease_year=1980<br>revenue=%{x}<br>popularity=%{y}<br>budget=%{marker.size}\", \"legendgroup\": \"genres=Action\", \"marker\": {\"color\": \"#636efa\", \"size\": [54000000, 44000000], \"sizemode\": \"area\", \"sizeref\": 77777.77777777778, \"symbol\": \"circle\"}, \"mode\": \"markers\", \"name\": \"genres=Action\", \"showlegend\": true, \"x\": [190458706, 3484331], \"xaxis\": \"x\", \"y\": [30.515175, 5.3801239999999995], \"yaxis\": \"y\", \"type\": \"scatter\"}], \"name\": \"1980\"}, {\"data\": [{\"hoverlabel\": {\"namelength\": 0}, \"hovertemplate\": \"genres=Action<br>realease_year=1982<br>revenue=%{x}<br>popularity=%{y}<br>budget=%{marker.size}\", \"legendgroup\": \"genres=Action\", \"marker\": {\"color\": \"#636efa\", \"size\": [15000000, 12000000], \"sizemode\": \"area\", \"sizeref\": 77777.77777777778, \"symbol\": \"circle\"}, \"mode\": \"markers\", \"name\": \"genres=Action\", \"showlegend\": true, \"x\": [125212904, 96800000], \"xaxis\": \"x\", \"y\": [63.071045999999996, 22.434102], \"yaxis\": \"y\", \"type\": \"scatter\"}], \"name\": \"1982\"}, {\"data\": [{\"hoverlabel\": {\"namelength\": 0}, \"hovertemplate\": \"genres=Action<br>realease_year=1985<br>revenue=%{x}<br>popularity=%{y}<br>budget=%{marker.size}\", \"legendgroup\": \"genres=Action\", \"marker\": {\"color\": \"#636efa\", \"size\": [44000000, 12305523, 10000000, 10000000, 2000000], \"sizemode\": \"area\", \"sizeref\": 77777.77777777778, \"symbol\": \"circle\"}, \"mode\": \"markers\", \"name\": \"genres=Action\", \"showlegend\": true, \"x\": [300400432, 36230219, 57500000, 25754284, 390659], \"xaxis\": \"x\", \"y\": [38.653969000000004, 36.582038, 34.224204, 4.928776999999999, 5.261065], \"yaxis\": \"y\", \"type\": \"scatter\"}], \"name\": \"1985\"}, {\"data\": [{\"hoverlabel\": {\"namelength\": 0}, \"hovertemplate\": \"genres=Action<br>realease_year=1987<br>revenue=%{x}<br>popularity=%{y}<br>budget=%{marker.size}\", \"legendgroup\": \"genres=Action\", \"marker\": {\"color\": \"#636efa\", \"size\": [40000000, 55000000, 27000000, 20000000, 17000000], \"sizemode\": \"area\", \"sizeref\": 77777.77777777778, \"symbol\": \"circle\"}, \"mode\": \"markers\", \"name\": \"genres=Action\", \"showlegend\": true, \"x\": [191185897, 14375181, 38122105, 299965036, 19300000], \"xaxis\": \"x\", \"y\": [23.331459, 2.410546, 30.131497999999997, 25.28436, 17.062117], \"yaxis\": \"y\", \"type\": \"scatter\"}], \"name\": \"1987\"}, {\"data\": [{\"hoverlabel\": {\"namelength\": 0}, \"hovertemplate\": \"genres=Action<br>realease_year=1979<br>revenue=%{x}<br>popularity=%{y}<br>budget=%{marker.size}\", \"legendgroup\": \"genres=Action\", \"marker\": {\"color\": \"#636efa\", \"size\": [35000000, 34000000], \"sizemode\": \"area\", \"sizeref\": 77777.77777777778, \"symbol\": \"circle\"}, \"mode\": \"markers\", \"name\": \"genres=Action\", \"showlegend\": true, \"x\": [31755742, 210308099], \"xaxis\": \"x\", \"y\": [10.032625999999999, 29.887403999999997], \"yaxis\": \"y\", \"type\": \"scatter\"}], \"name\": \"1979\"}, {\"data\": [{\"hoverlabel\": {\"namelength\": 0}, \"hovertemplate\": \"genres=Action<br>realease_year=1983<br>revenue=%{x}<br>popularity=%{y}<br>budget=%{marker.size}\", \"legendgroup\": \"genres=Action\", \"marker\": {\"color\": \"#636efa\", \"size\": [25000000, 5000000], \"sizemode\": \"area\", \"sizeref\": 77777.77777777778, \"symbol\": \"circle\"}, \"mode\": \"markers\", \"name\": \"genres=Action\", \"showlegend\": true, \"x\": [65884703, 12232628], \"xaxis\": \"x\", \"y\": [70.105981, 8.452666], \"yaxis\": \"y\", \"type\": \"scatter\"}], \"name\": \"1983\"}, {\"data\": [{\"hoverlabel\": {\"namelength\": 0}, \"hovertemplate\": \"genres=Action<br>realease_year=1986<br>revenue=%{x}<br>popularity=%{y}<br>budget=%{marker.size}\", \"legendgroup\": \"genres=Action\", \"marker\": {\"color\": \"#636efa\", \"size\": [25000000, 15000000, 25000000], \"sizemode\": \"area\", \"sizeref\": 77777.77777777778, \"symbol\": \"circle\"}, \"mode\": \"markers\", \"name\": \"genres=Action\", \"showlegend\": true, \"x\": [11000000, 356830601, 79817939], \"xaxis\": \"x\", \"y\": [29.796394, 58.900647, 15.262129999999999], \"yaxis\": \"y\", \"type\": \"scatter\"}], \"name\": \"1986\"}, {\"data\": [{\"hoverlabel\": {\"namelength\": 0}, \"hovertemplate\": \"genres=Action<br>realease_year=1977<br>revenue=%{x}<br>popularity=%{y}<br>budget=%{marker.size}\", \"legendgroup\": \"genres=Action\", \"marker\": {\"color\": \"#636efa\", \"size\": [22000000, 17000000], \"sizemode\": \"area\", \"sizeref\": 77777.77777777778, \"symbol\": \"circle\"}, \"mode\": \"markers\", \"name\": \"genres=Action\", \"showlegend\": true, \"x\": [12000000, 8720000], \"xaxis\": \"x\", \"y\": [9.088208999999999, 2.215261], \"yaxis\": \"y\", \"type\": \"scatter\"}], \"name\": \"1977\"}, {\"data\": [{\"hoverlabel\": {\"namelength\": 0}, \"hovertemplate\": \"genres=Action<br>realease_year=1971<br>revenue=%{x}<br>popularity=%{y}<br>budget=%{marker.size}\", \"legendgroup\": \"genres=Action\", \"marker\": {\"color\": \"#636efa\", \"size\": [1800000, 2500000], \"sizemode\": \"area\", \"sizeref\": 77777.77777777778, \"symbol\": \"circle\"}, \"mode\": \"markers\", \"name\": \"genres=Action\", \"showlegend\": true, \"x\": [41158757, 12348905], \"xaxis\": \"x\", \"y\": [15.978136, 18.30961], \"yaxis\": \"y\", \"type\": \"scatter\"}], \"name\": \"1971\"}, {\"data\": [{\"hoverlabel\": {\"namelength\": 0}, \"hovertemplate\": \"genres=Action<br>realease_year=1981<br>revenue=%{x}<br>popularity=%{y}<br>budget=%{marker.size}\", \"legendgroup\": \"genres=Action\", \"marker\": {\"color\": \"#636efa\", \"size\": [18000000, 14000000, 10000000, 5000000], \"sizemode\": \"area\", \"sizeref\": 77777.77777777778, \"symbol\": \"circle\"}, \"mode\": \"markers\", \"name\": \"genres=Action\", \"showlegend\": true, \"x\": [2945600, 85000000, 85300000, 19905359], \"xaxis\": \"x\", \"y\": [11.725805000000001, 26.967494, 10.892398, 7.0588679999999995], \"yaxis\": \"y\", \"type\": \"scatter\"}], \"name\": \"1981\"}, {\"data\": [{\"hoverlabel\": {\"namelength\": 0}, \"hovertemplate\": \"genres=Action<br>realease_year=1963<br>revenue=%{x}<br>popularity=%{y}<br>budget=%{marker.size}\", \"legendgroup\": \"genres=Action\", \"marker\": {\"color\": \"#636efa\", \"size\": [17000000, 9400000, 2500000, 2000000], \"sizemode\": \"area\", \"sizeref\": 77777.77777777778, \"symbol\": \"circle\"}, \"mode\": \"markers\", \"name\": \"genres=Action\", \"showlegend\": true, \"x\": [10000000, 60000000, 10000000, 78898765], \"xaxis\": \"x\", \"y\": [3.3210949999999997, 14.562991, 6.82919, 41.298722999999995], \"yaxis\": \"y\", \"type\": \"scatter\"}], \"name\": \"1963\"}, {\"data\": [{\"hoverlabel\": {\"namelength\": 0}, \"hovertemplate\": \"genres=Action<br>realease_year=1962<br>revenue=%{x}<br>popularity=%{y}<br>budget=%{marker.size}\", \"legendgroup\": \"genres=Action\", \"marker\": {\"color\": \"#636efa\", \"size\": [10000000], \"sizemode\": \"area\", \"sizeref\": 77777.77777777778, \"symbol\": \"circle\"}, \"mode\": \"markers\", \"name\": \"genres=Action\", \"showlegend\": true, \"x\": [50100000], \"xaxis\": \"x\", \"y\": [19.524972], \"yaxis\": \"y\", \"type\": \"scatter\"}], \"name\": \"1962\"}, {\"data\": [{\"hoverlabel\": {\"namelength\": 0}, \"hovertemplate\": \"genres=Action<br>realease_year=1967<br>revenue=%{x}<br>popularity=%{y}<br>budget=%{marker.size}\", \"legendgroup\": \"genres=Action\", \"marker\": {\"color\": \"#636efa\", \"size\": [9500000, 2500000], \"sizemode\": \"area\", \"sizeref\": 77777.77777777778, \"symbol\": \"circle\"}, \"mode\": \"markers\", \"name\": \"genres=Action\", \"showlegend\": true, \"x\": [111584787, 3200000], \"xaxis\": \"x\", \"y\": [28.675890999999996, 5.164423], \"yaxis\": \"y\", \"type\": \"scatter\"}], \"name\": \"1967\"}, {\"data\": [{\"hoverlabel\": {\"namelength\": 0}, \"hovertemplate\": \"genres=Action<br>realease_year=1964<br>revenue=%{x}<br>popularity=%{y}<br>budget=%{marker.size}\", \"legendgroup\": \"genres=Action\", \"marker\": {\"color\": \"#636efa\", \"size\": [5800000], \"sizemode\": \"area\", \"sizeref\": 77777.77777777778, \"symbol\": \"circle\"}, \"mode\": \"markers\", \"name\": \"genres=Action\", \"showlegend\": true, \"x\": [6800000], \"xaxis\": \"x\", \"y\": [4.49029], \"yaxis\": \"y\", \"type\": \"scatter\"}], \"name\": \"1964\"}, {\"data\": [{\"hoverlabel\": {\"namelength\": 0}, \"hovertemplate\": \"genres=Action<br>realease_year=1952<br>revenue=%{x}<br>popularity=%{y}<br>budget=%{marker.size}\", \"legendgroup\": \"genres=Action\", \"marker\": {\"color\": \"#636efa\", \"size\": [4000000], \"sizemode\": \"area\", \"sizeref\": 77777.77777777778, \"symbol\": \"circle\"}, \"mode\": \"markers\", \"name\": \"genres=Action\", \"showlegend\": true, \"x\": [36000000], \"xaxis\": \"x\", \"y\": [8.988455], \"yaxis\": \"y\", \"type\": \"scatter\"}], \"name\": \"1952\"}, {\"data\": [{\"hoverlabel\": {\"namelength\": 0}, \"hovertemplate\": \"genres=Action<br>realease_year=1969<br>revenue=%{x}<br>popularity=%{y}<br>budget=%{marker.size}\", \"legendgroup\": \"genres=Action\", \"marker\": {\"color\": \"#636efa\", \"size\": [4000000], \"sizemode\": \"area\", \"sizeref\": 77777.77777777778, \"symbol\": \"circle\"}, \"mode\": \"markers\", \"name\": \"genres=Action\", \"showlegend\": true, \"x\": [6000000], \"xaxis\": \"x\", \"y\": [5.975604], \"yaxis\": \"y\", \"type\": \"scatter\"}], \"name\": \"1969\"}, {\"data\": [{\"hoverlabel\": {\"namelength\": 0}, \"hovertemplate\": \"genres=Action<br>realease_year=1930<br>revenue=%{x}<br>popularity=%{y}<br>budget=%{marker.size}\", \"legendgroup\": \"genres=Action\", \"marker\": {\"color\": \"#636efa\", \"size\": [3950000], \"sizemode\": \"area\", \"sizeref\": 77777.77777777778, \"symbol\": \"circle\"}, \"mode\": \"markers\", \"name\": \"genres=Action\", \"showlegend\": true, \"x\": [8000000], \"xaxis\": \"x\", \"y\": [8.484123], \"yaxis\": \"y\", \"type\": \"scatter\"}], \"name\": \"1930\"}, {\"data\": [{\"hoverlabel\": {\"namelength\": 0}, \"hovertemplate\": \"genres=Action<br>realease_year=1950<br>revenue=%{x}<br>popularity=%{y}<br>budget=%{marker.size}\", \"legendgroup\": \"genres=Action\", \"marker\": {\"color\": \"#636efa\", \"size\": [3768785], \"sizemode\": \"area\", \"sizeref\": 77777.77777777778, \"symbol\": \"circle\"}, \"mode\": \"markers\", \"name\": \"genres=Action\", \"showlegend\": true, \"x\": [8000000], \"xaxis\": \"x\", \"y\": [1.726175], \"yaxis\": \"y\", \"type\": \"scatter\"}], \"name\": \"1950\"}, {\"data\": [{\"hoverlabel\": {\"namelength\": 0}, \"hovertemplate\": \"genres=Action<br>realease_year=1970<br>revenue=%{x}<br>popularity=%{y}<br>budget=%{marker.size}\", \"legendgroup\": \"genres=Action\", \"marker\": {\"color\": \"#636efa\", \"size\": [3716946], \"sizemode\": \"area\", \"sizeref\": 77777.77777777778, \"symbol\": \"circle\"}, \"mode\": \"markers\", \"name\": \"genres=Action\", \"showlegend\": true, \"x\": [5000000], \"xaxis\": \"x\", \"y\": [2.676535], \"yaxis\": \"y\", \"type\": \"scatter\"}], \"name\": \"1970\"}, {\"data\": [{\"hoverlabel\": {\"namelength\": 0}, \"hovertemplate\": \"genres=Action<br>realease_year=1966<br>revenue=%{x}<br>popularity=%{y}<br>budget=%{marker.size}\", \"legendgroup\": \"genres=Action\", \"marker\": {\"color\": \"#636efa\", \"size\": [3500000], \"sizemode\": \"area\", \"sizeref\": 77777.77777777778, \"symbol\": \"circle\"}, \"mode\": \"markers\", \"name\": \"genres=Action\", \"showlegend\": true, \"x\": [12000000], \"xaxis\": \"x\", \"y\": [2.938973], \"yaxis\": \"y\", \"type\": \"scatter\"}], \"name\": \"1966\"}, {\"data\": [{\"hoverlabel\": {\"namelength\": 0}, \"hovertemplate\": \"genres=Action<br>realease_year=1973<br>revenue=%{x}<br>popularity=%{y}<br>budget=%{marker.size}\", \"legendgroup\": \"genres=Action\", \"marker\": {\"color\": \"#636efa\", \"size\": [1700000], \"sizemode\": \"area\", \"sizeref\": 77777.77777777778, \"symbol\": \"circle\"}, \"mode\": \"markers\", \"name\": \"genres=Action\", \"showlegend\": true, \"x\": [8844595], \"xaxis\": \"x\", \"y\": [13.315382999999999], \"yaxis\": \"y\", \"type\": \"scatter\"}], \"name\": \"1973\"}, {\"data\": [{\"hoverlabel\": {\"namelength\": 0}, \"hovertemplate\": \"genres=Action<br>realease_year=1972<br>revenue=%{x}<br>popularity=%{y}<br>budget=%{marker.size}\", \"legendgroup\": \"genres=Action\", \"marker\": {\"color\": \"#636efa\", \"size\": [1700000], \"sizemode\": \"area\", \"sizeref\": 77777.77777777778, \"symbol\": \"circle\"}, \"mode\": \"markers\", \"name\": \"genres=Action\", \"showlegend\": true, \"x\": [9700000], \"xaxis\": \"x\", \"y\": [18.828682999999998], \"yaxis\": \"y\", \"type\": \"scatter\"}], \"name\": \"1972\"}, {\"data\": [{\"hoverlabel\": {\"namelength\": 0}, \"hovertemplate\": \"genres=Action<br>realease_year=1936<br>revenue=%{x}<br>popularity=%{y}<br>budget=%{marker.size}\", \"legendgroup\": \"genres=Action\", \"marker\": {\"color\": \"#636efa\", \"size\": [1200000], \"sizemode\": \"area\", \"sizeref\": 77777.77777777778, \"symbol\": \"circle\"}, \"mode\": \"markers\", \"name\": \"genres=Action\", \"showlegend\": true, \"x\": [2736000], \"xaxis\": \"x\", \"y\": [2.968235], \"yaxis\": \"y\", \"type\": \"scatter\"}], \"name\": \"1936\"}, {\"data\": [{\"hoverlabel\": {\"namelength\": 0}, \"hovertemplate\": \"genres=Action<br>realease_year=1949<br>revenue=%{x}<br>popularity=%{y}<br>budget=%{marker.size}\", \"legendgroup\": \"genres=Action\", \"marker\": {\"color\": \"#636efa\", \"size\": [1000000], \"sizemode\": \"area\", \"sizeref\": 77777.77777777778, \"symbol\": \"circle\"}, \"mode\": \"markers\", \"name\": \"genres=Action\", \"showlegend\": true, \"x\": [7800000], \"xaxis\": \"x\", \"y\": [3.8510000000000004], \"yaxis\": \"y\", \"type\": \"scatter\"}], \"name\": \"1949\"}, {\"data\": [{\"hoverlabel\": {\"namelength\": 0}, \"hovertemplate\": \"genres=Action<br>realease_year=1954<br>revenue=%{x}<br>popularity=%{y}<br>budget=%{marker.size}\", \"legendgroup\": \"genres=Action\", \"marker\": {\"color\": \"#636efa\", \"size\": [2000000], \"sizemode\": \"area\", \"sizeref\": 77777.77777777778, \"symbol\": \"circle\"}, \"mode\": \"markers\", \"name\": \"genres=Action\", \"showlegend\": true, \"x\": [271841], \"xaxis\": \"x\", \"y\": [39.756747999999995], \"yaxis\": \"y\", \"type\": \"scatter\"}], \"name\": \"1954\"}, {\"data\": [{\"hoverlabel\": {\"namelength\": 0}, \"hovertemplate\": \"genres=Action<br>realease_year=1975<br>revenue=%{x}<br>popularity=%{y}<br>budget=%{marker.size}\", \"legendgroup\": \"genres=Action\", \"marker\": {\"color\": \"#636efa\", \"size\": [300000], \"sizemode\": \"area\", \"sizeref\": 77777.77777777778, \"symbol\": \"circle\"}, \"mode\": \"markers\", \"name\": \"genres=Action\", \"showlegend\": true, \"x\": [8000000], \"xaxis\": \"x\", \"y\": [6.473667], \"yaxis\": \"y\", \"type\": \"scatter\"}], \"name\": \"1975\"}]);\n",
       "                        }).then(function(){\n",
       "                            \n",
       "var gd = document.getElementById('eb98fd38-a077-4be7-af06-23a540129678');\n",
       "var x = new MutationObserver(function (mutations, observer) {{\n",
       "        var display = window.getComputedStyle(gd).display;\n",
       "        if (!display || display === 'none') {{\n",
       "            console.log([gd, 'removed!']);\n",
       "            Plotly.purge(gd);\n",
       "            observer.disconnect();\n",
       "        }}\n",
       "}});\n",
       "\n",
       "// Listen for the removal of the full notebook cells\n",
       "var notebookContainer = gd.closest('#notebook-container');\n",
       "if (notebookContainer) {{\n",
       "    x.observe(notebookContainer, {childList: true});\n",
       "}}\n",
       "\n",
       "// Listen for the clearing of the current output cell\n",
       "var outputEl = gd.closest('.output');\n",
       "if (outputEl) {{\n",
       "    x.observe(outputEl, {childList: true});\n",
       "}}\n",
       "\n",
       "                        })\n",
       "                };\n",
       "                });\n",
       "            </script>\n",
       "        </div>"
      ]
     },
     "metadata": {},
     "output_type": "display_data"
    }
   ],
   "source": [
    "import plotly.express as px\n",
    "\n",
    "px.scatter(df.query('genres==\"Action\"'), x=\"revenue\", y=\"popularity\", animation_frame=\"realease_year\",\n",
    "           size=\"budget\", color='genres',\n",
    "                log_x=True, log_y=True, range_x=[100,10000000000], range_y=[1,1000], size_max=60, title=\"2016\",\n",
    "            )"
   ]
  },
  {
   "cell_type": "code",
   "execution_count": 202,
   "metadata": {},
   "outputs": [
    {
     "data": {
      "text/html": [
       "<div>\n",
       "<style scoped>\n",
       "    .dataframe tbody tr th:only-of-type {\n",
       "        vertical-align: middle;\n",
       "    }\n",
       "\n",
       "    .dataframe tbody tr th {\n",
       "        vertical-align: top;\n",
       "    }\n",
       "\n",
       "    .dataframe thead th {\n",
       "        text-align: right;\n",
       "    }\n",
       "</style>\n",
       "<table border=\"1\" class=\"dataframe\">\n",
       "  <thead>\n",
       "    <tr style=\"text-align: right;\">\n",
       "      <th></th>\n",
       "      <th>budget</th>\n",
       "      <th>genres</th>\n",
       "      <th>homepage</th>\n",
       "      <th>id</th>\n",
       "      <th>keywords</th>\n",
       "      <th>original_language</th>\n",
       "      <th>original_title</th>\n",
       "      <th>overview</th>\n",
       "      <th>popularity</th>\n",
       "      <th>production_companies</th>\n",
       "      <th>...</th>\n",
       "      <th>revenue</th>\n",
       "      <th>runtime</th>\n",
       "      <th>spoken_languages</th>\n",
       "      <th>status</th>\n",
       "      <th>tagline</th>\n",
       "      <th>title</th>\n",
       "      <th>vote_average</th>\n",
       "      <th>vote_count</th>\n",
       "      <th>realease_year</th>\n",
       "      <th>realease_year_decimal</th>\n",
       "    </tr>\n",
       "  </thead>\n",
       "  <tbody>\n",
       "    <tr>\n",
       "      <th>0</th>\n",
       "      <td>237000000</td>\n",
       "      <td>Action</td>\n",
       "      <td>http://www.avatarmovie.com/</td>\n",
       "      <td>19995</td>\n",
       "      <td>[{\"id\": 1463, \"name\": \"culture clash\"}, {\"id\":...</td>\n",
       "      <td>en</td>\n",
       "      <td>Avatar</td>\n",
       "      <td>In the 22nd century, a paraplegic Marine is di...</td>\n",
       "      <td>150.437577</td>\n",
       "      <td>[{\"name\": \"Ingenious Film Partners\", \"id\": 289...</td>\n",
       "      <td>...</td>\n",
       "      <td>2787965087</td>\n",
       "      <td>162.0</td>\n",
       "      <td>[{\"iso_639_1\": \"en\", \"name\": \"English\"}, {\"iso...</td>\n",
       "      <td>Released</td>\n",
       "      <td>Enter the World of Pandora.</td>\n",
       "      <td>Avatar</td>\n",
       "      <td>7.2</td>\n",
       "      <td>11800</td>\n",
       "      <td>2009</td>\n",
       "      <td>2009.943989</td>\n",
       "    </tr>\n",
       "    <tr>\n",
       "      <th>1</th>\n",
       "      <td>300000000</td>\n",
       "      <td>Adventure</td>\n",
       "      <td>http://disney.go.com/disneypictures/pirates/</td>\n",
       "      <td>285</td>\n",
       "      <td>[{\"id\": 270, \"name\": \"ocean\"}, {\"id\": 726, \"na...</td>\n",
       "      <td>en</td>\n",
       "      <td>Pirates of the Caribbean: At World's End</td>\n",
       "      <td>Captain Barbossa, long believed to be dead, ha...</td>\n",
       "      <td>139.082615</td>\n",
       "      <td>[{\"name\": \"Walt Disney Pictures\", \"id\": 2}, {\"...</td>\n",
       "      <td>...</td>\n",
       "      <td>961000000</td>\n",
       "      <td>169.0</td>\n",
       "      <td>[{\"iso_639_1\": \"en\", \"name\": \"English\"}]</td>\n",
       "      <td>Released</td>\n",
       "      <td>At the end of the world, the adventure begins.</td>\n",
       "      <td>Pirates of the Caribbean: At World's End</td>\n",
       "      <td>6.9</td>\n",
       "      <td>4500</td>\n",
       "      <td>2007</td>\n",
       "      <td>2007.385246</td>\n",
       "    </tr>\n",
       "  </tbody>\n",
       "</table>\n",
       "<p>2 rows × 22 columns</p>\n",
       "</div>"
      ],
      "text/plain": [
       "      budget     genres                                      homepage     id  \\\n",
       "0  237000000     Action                   http://www.avatarmovie.com/  19995   \n",
       "1  300000000  Adventure  http://disney.go.com/disneypictures/pirates/    285   \n",
       "\n",
       "                                            keywords original_language  \\\n",
       "0  [{\"id\": 1463, \"name\": \"culture clash\"}, {\"id\":...                en   \n",
       "1  [{\"id\": 270, \"name\": \"ocean\"}, {\"id\": 726, \"na...                en   \n",
       "\n",
       "                             original_title  \\\n",
       "0                                    Avatar   \n",
       "1  Pirates of the Caribbean: At World's End   \n",
       "\n",
       "                                            overview  popularity  \\\n",
       "0  In the 22nd century, a paraplegic Marine is di...  150.437577   \n",
       "1  Captain Barbossa, long believed to be dead, ha...  139.082615   \n",
       "\n",
       "                                production_companies  ...     revenue runtime  \\\n",
       "0  [{\"name\": \"Ingenious Film Partners\", \"id\": 289...  ...  2787965087   162.0   \n",
       "1  [{\"name\": \"Walt Disney Pictures\", \"id\": 2}, {\"...  ...   961000000   169.0   \n",
       "\n",
       "                                    spoken_languages    status  \\\n",
       "0  [{\"iso_639_1\": \"en\", \"name\": \"English\"}, {\"iso...  Released   \n",
       "1           [{\"iso_639_1\": \"en\", \"name\": \"English\"}]  Released   \n",
       "\n",
       "                                          tagline  \\\n",
       "0                     Enter the World of Pandora.   \n",
       "1  At the end of the world, the adventure begins.   \n",
       "\n",
       "                                      title vote_average vote_count  \\\n",
       "0                                    Avatar          7.2      11800   \n",
       "1  Pirates of the Caribbean: At World's End          6.9       4500   \n",
       "\n",
       "   realease_year  realease_year_decimal  \n",
       "0           2009            2009.943989  \n",
       "1           2007            2007.385246  \n",
       "\n",
       "[2 rows x 22 columns]"
      ]
     },
     "execution_count": 202,
     "metadata": {},
     "output_type": "execute_result"
    }
   ],
   "source": [
    "df.head(2)"
   ]
  },
  {
   "cell_type": "code",
   "execution_count": 203,
   "metadata": {},
   "outputs": [
    {
     "data": {
      "text/plain": [
       "Index(['budget', 'genres', 'homepage', 'id', 'keywords', 'original_language',\n",
       "       'original_title', 'overview', 'popularity', 'production_companies',\n",
       "       'production_countries', 'release_date', 'revenue', 'runtime',\n",
       "       'spoken_languages', 'status', 'tagline', 'title', 'vote_average',\n",
       "       'vote_count', 'realease_year', 'realease_year_decimal'],\n",
       "      dtype='object')"
      ]
     },
     "execution_count": 203,
     "metadata": {},
     "output_type": "execute_result"
    }
   ],
   "source": [
    "df.columns"
   ]
  },
  {
   "cell_type": "code",
   "execution_count": 204,
   "metadata": {},
   "outputs": [],
   "source": [
    "df[['revenue','popularity', 'budget', 'original_title', 'genres', 'realease_year', 'realease_year_decimal']].to_csv(\"./jeremy/bubbleData.csv\")"
   ]
  },
  {
   "cell_type": "code",
   "execution_count": 64,
   "metadata": {},
   "outputs": [
    {
     "name": "stdout",
     "output_type": "stream",
     "text": [
      "<option value=\"Action\">Action</option>\n",
      "<option value=\"Adventure\">Adventure</option>\n",
      "<option value=\"Fantasy\">Fantasy</option>\n",
      "<option value=\"Animation\">Animation</option>\n",
      "<option value=\"Science Fiction\">Science Fiction</option>\n",
      "<option value=\"Drama\">Drama</option>\n",
      "<option value=\"Thriller\">Thriller</option>\n",
      "<option value=\"Family\">Family</option>\n",
      "<option value=\"Comedy\">Comedy</option>\n",
      "<option value=\"History\">History</option>\n",
      "<option value=\"War\">War</option>\n",
      "<option value=\"Western\">Western</option>\n",
      "<option value=\"Romance\">Romance</option>\n",
      "<option value=\"Crime\">Crime</option>\n",
      "<option value=\"Mystery\">Mystery</option>\n",
      "<option value=\"Horror\">Horror</option>\n",
      "<option value=\"Music\">Music</option>\n",
      "<option value=\"Documentary\">Documentary</option>\n"
     ]
    }
   ],
   "source": [
    "for v in df.genres.unique():\n",
    "    print( \"<option value=\\\"\"+v+\"\\\">\"+v+\"</option>\")"
   ]
  },
  {
   "cell_type": "code",
   "execution_count": 65,
   "metadata": {},
   "outputs": [
    {
     "data": {
      "text/plain": [
       "18"
      ]
     },
     "execution_count": 65,
     "metadata": {},
     "output_type": "execute_result"
    }
   ],
   "source": [
    "len(df.genres.unique())"
   ]
  },
  {
   "cell_type": "code",
   "execution_count": 210,
   "metadata": {},
   "outputs": [
    {
     "name": "stdout",
     "output_type": "stream",
     "text": [
      "<option value=\"2016\">2016</option>\n",
      "<option value=\"2015\">2015</option>\n",
      "<option value=\"2014\">2014</option>\n",
      "<option value=\"2013\">2013</option>\n",
      "<option value=\"2012\">2012</option>\n",
      "<option value=\"2011\">2011</option>\n",
      "<option value=\"2010\">2010</option>\n",
      "<option value=\"2009\">2009</option>\n",
      "<option value=\"2008\">2008</option>\n",
      "<option value=\"2007\">2007</option>\n",
      "<option value=\"2006\">2006</option>\n",
      "<option value=\"2005\">2005</option>\n",
      "<option value=\"2004\">2004</option>\n",
      "<option value=\"2003\">2003</option>\n",
      "<option value=\"2002\">2002</option>\n",
      "<option value=\"2001\">2001</option>\n",
      "<option value=\"2000\">2000</option>\n",
      "<option value=\"1999\">1999</option>\n",
      "<option value=\"1998\">1998</option>\n",
      "<option value=\"1997\">1997</option>\n",
      "<option value=\"1996\">1996</option>\n",
      "<option value=\"1995\">1995</option>\n",
      "<option value=\"1994\">1994</option>\n",
      "<option value=\"1993\">1993</option>\n",
      "<option value=\"1992\">1992</option>\n",
      "<option value=\"1991\">1991</option>\n",
      "<option value=\"1990\">1990</option>\n",
      "<option value=\"1989\">1989</option>\n",
      "<option value=\"1988\">1988</option>\n",
      "<option value=\"1987\">1987</option>\n",
      "<option value=\"1986\">1986</option>\n",
      "<option value=\"1985\">1985</option>\n",
      "<option value=\"1984\">1984</option>\n",
      "<option value=\"1983\">1983</option>\n",
      "<option value=\"1982\">1982</option>\n",
      "<option value=\"1981\">1981</option>\n",
      "<option value=\"1980\">1980</option>\n",
      "<option value=\"1979\">1979</option>\n",
      "<option value=\"1978\">1978</option>\n",
      "<option value=\"1977\">1977</option>\n",
      "<option value=\"1976\">1976</option>\n",
      "<option value=\"1975\">1975</option>\n",
      "<option value=\"1974\">1974</option>\n",
      "<option value=\"1973\">1973</option>\n",
      "<option value=\"1972\">1972</option>\n",
      "<option value=\"1971\">1971</option>\n",
      "<option value=\"1970\">1970</option>\n",
      "<option value=\"1969\">1969</option>\n",
      "<option value=\"1968\">1968</option>\n",
      "<option value=\"1967\">1967</option>\n",
      "<option value=\"1966\">1966</option>\n",
      "<option value=\"1965\">1965</option>\n",
      "<option value=\"1964\">1964</option>\n",
      "<option value=\"1963\">1963</option>\n",
      "<option value=\"1962\">1962</option>\n",
      "<option value=\"1961\">1961</option>\n",
      "<option value=\"1960\">1960</option>\n",
      "<option value=\"1959\">1959</option>\n",
      "<option value=\"1958\">1958</option>\n",
      "<option value=\"1957\">1957</option>\n",
      "<option value=\"1956\">1956</option>\n",
      "<option value=\"1955\">1955</option>\n",
      "<option value=\"1954\">1954</option>\n",
      "<option value=\"1953\">1953</option>\n",
      "<option value=\"1952\">1952</option>\n",
      "<option value=\"1951\">1951</option>\n",
      "<option value=\"1950\">1950</option>\n",
      "<option value=\"1949\">1949</option>\n",
      "<option value=\"1948\">1948</option>\n",
      "<option value=\"1947\">1947</option>\n",
      "<option value=\"1946\">1946</option>\n",
      "<option value=\"1945\">1945</option>\n",
      "<option value=\"1942\">1942</option>\n",
      "<option value=\"1941\">1941</option>\n",
      "<option value=\"1940\">1940</option>\n",
      "<option value=\"1939\">1939</option>\n",
      "<option value=\"1938\">1938</option>\n",
      "<option value=\"1937\">1937</option>\n",
      "<option value=\"1936\">1936</option>\n",
      "<option value=\"1935\">1935</option>\n",
      "<option value=\"1934\">1934</option>\n",
      "<option value=\"1933\">1933</option>\n",
      "<option value=\"1930\">1930</option>\n",
      "<option value=\"1927\">1927</option>\n",
      "<option value=\"1916\">1916</option>\n"
     ]
    }
   ],
   "source": [
    "for v in sorted(df.realease_year.unique(), reverse=True):\n",
    "    print( \"<option value=\\\"\"+str(v)+\"\\\">\"+str(v)+\"</option>\")"
   ]
  },
  {
   "cell_type": "code",
   "execution_count": 117,
   "metadata": {},
   "outputs": [
    {
     "data": {
      "text/plain": [
       "[1916,\n",
       " 1925,\n",
       " 1927,\n",
       " 1929,\n",
       " 1930,\n",
       " 1932,\n",
       " 1933,\n",
       " 1934,\n",
       " 1935,\n",
       " 1936,\n",
       " 1937,\n",
       " 1938,\n",
       " 1939,\n",
       " 1940,\n",
       " 1941,\n",
       " 1942,\n",
       " 1944,\n",
       " 1945,\n",
       " 1946,\n",
       " 1947,\n",
       " 1948,\n",
       " 1949,\n",
       " 1950,\n",
       " 1951,\n",
       " 1952,\n",
       " 1953,\n",
       " 1954,\n",
       " 1955,\n",
       " 1956,\n",
       " 1957,\n",
       " 1958,\n",
       " 1959,\n",
       " 1960,\n",
       " 1961,\n",
       " 1962,\n",
       " 1963,\n",
       " 1964,\n",
       " 1965,\n",
       " 1966,\n",
       " 1967,\n",
       " 1968,\n",
       " 1969,\n",
       " 1970,\n",
       " 1971,\n",
       " 1972,\n",
       " 1973,\n",
       " 1974,\n",
       " 1975,\n",
       " 1976,\n",
       " 1977,\n",
       " 1978,\n",
       " 1979,\n",
       " 1980,\n",
       " 1981,\n",
       " 1982,\n",
       " 1983,\n",
       " 1984,\n",
       " 1985,\n",
       " 1986,\n",
       " 1987,\n",
       " 1988,\n",
       " 1989,\n",
       " 1990,\n",
       " 1991,\n",
       " 1992,\n",
       " 1993,\n",
       " 1994,\n",
       " 1995,\n",
       " 1996,\n",
       " 1997,\n",
       " 1998,\n",
       " 1999,\n",
       " 2000,\n",
       " 2001,\n",
       " 2002,\n",
       " 2003,\n",
       " 2004,\n",
       " 2005,\n",
       " 2006,\n",
       " 2007,\n",
       " 2008,\n",
       " 2009,\n",
       " 2010,\n",
       " 2011,\n",
       " 2012,\n",
       " 2013,\n",
       " 2014,\n",
       " 2015,\n",
       " 2016]"
      ]
     },
     "execution_count": 117,
     "metadata": {},
     "output_type": "execute_result"
    }
   ],
   "source": [
    "sorted(df.realease_year.unique())"
   ]
  },
  {
   "cell_type": "code",
   "execution_count": null,
   "metadata": {},
   "outputs": [],
   "source": []
  }
 ],
 "metadata": {
  "kernelspec": {
   "display_name": "Python 3",
   "language": "python",
   "name": "python3"
  },
  "language_info": {
   "codemirror_mode": {
    "name": "ipython",
    "version": 3
   },
   "file_extension": ".py",
   "mimetype": "text/x-python",
   "name": "python",
   "nbconvert_exporter": "python",
   "pygments_lexer": "ipython3",
   "version": "3.7.4"
  }
 },
 "nbformat": 4,
 "nbformat_minor": 2
}
